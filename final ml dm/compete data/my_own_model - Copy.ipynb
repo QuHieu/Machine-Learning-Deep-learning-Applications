{
 "cells": [
  {
   "cell_type": "markdown",
   "metadata": {},
   "source": [
    "# 1- Importing Libraries"
   ]
  },
  {
   "cell_type": "code",
   "execution_count": 1,
   "metadata": {
    "execution": {
     "iopub.execute_input": "2022-01-15T16:28:01.937999Z",
     "iopub.status.busy": "2022-01-15T16:28:01.937479Z",
     "iopub.status.idle": "2022-01-15T16:28:06.525904Z",
     "shell.execute_reply": "2022-01-15T16:28:06.525195Z",
     "shell.execute_reply.started": "2022-01-15T16:28:01.937965Z"
    }
   },
   "outputs": [],
   "source": [
    "import numpy as np\n",
    "import pandas as pd\n",
    "import matplotlib.pyplot as plt\n",
    "import seaborn as sns\n",
    "import tensorflow as tf"
   ]
  },
  {
   "cell_type": "markdown",
   "metadata": {},
   "source": [
    "# 2- Importing Data "
   ]
  },
  {
   "cell_type": "code",
   "execution_count": 2,
   "metadata": {
    "execution": {
     "iopub.execute_input": "2022-01-15T16:28:06.529836Z",
     "iopub.status.busy": "2022-01-15T16:28:06.529637Z",
     "iopub.status.idle": "2022-01-15T16:28:07.57241Z",
     "shell.execute_reply": "2022-01-15T16:28:07.571743Z",
     "shell.execute_reply.started": "2022-01-15T16:28:06.529812Z"
    }
   },
   "outputs": [
    {
     "data": {
      "text/html": [
       "<div>\n",
       "<style scoped>\n",
       "    .dataframe tbody tr th:only-of-type {\n",
       "        vertical-align: middle;\n",
       "    }\n",
       "\n",
       "    .dataframe tbody tr th {\n",
       "        vertical-align: top;\n",
       "    }\n",
       "\n",
       "    .dataframe thead th {\n",
       "        text-align: right;\n",
       "    }\n",
       "</style>\n",
       "<table border=\"1\" class=\"dataframe\">\n",
       "  <thead>\n",
       "    <tr style=\"text-align: right;\">\n",
       "      <th></th>\n",
       "      <th>data</th>\n",
       "      <th>1</th>\n",
       "      <th>2</th>\n",
       "      <th>3</th>\n",
       "    </tr>\n",
       "  </thead>\n",
       "  <tbody>\n",
       "    <tr>\n",
       "      <th>0</th>\n",
       "      <td>NaN</td>\n",
       "      <td>NaN</td>\n",
       "      <td>NaN</td>\n",
       "      <td>NaN</td>\n",
       "    </tr>\n",
       "    <tr>\n",
       "      <th>1</th>\n",
       "      <td>EU</td>\n",
       "      <td>NaN</td>\n",
       "      <td>NaN</td>\n",
       "      <td>NaN</td>\n",
       "    </tr>\n",
       "    <tr>\n",
       "      <th>2</th>\n",
       "      <td>rejects</td>\n",
       "      <td>NaN</td>\n",
       "      <td>NaN</td>\n",
       "      <td>NaN</td>\n",
       "    </tr>\n",
       "    <tr>\n",
       "      <th>3</th>\n",
       "      <td>German</td>\n",
       "      <td>NaN</td>\n",
       "      <td>NaN</td>\n",
       "      <td>NaN</td>\n",
       "    </tr>\n",
       "    <tr>\n",
       "      <th>4</th>\n",
       "      <td>call</td>\n",
       "      <td>NaN</td>\n",
       "      <td>NaN</td>\n",
       "      <td>NaN</td>\n",
       "    </tr>\n",
       "  </tbody>\n",
       "</table>\n",
       "</div>"
      ],
      "text/plain": [
       "      data   1    2    3\n",
       "0      NaN NaN  NaN  NaN\n",
       "1       EU NaN  NaN  NaN\n",
       "2  rejects NaN  NaN  NaN\n",
       "3   German NaN  NaN  NaN\n",
       "4     call NaN  NaN  NaN"
      ]
     },
     "execution_count": 2,
     "metadata": {},
     "output_type": "execute_result"
    }
   ],
   "source": [
    "data_path = \"train_data.csv\"\n",
    "\n",
    "data = pd.read_csv(data_path, sep=';',  header=None, skip_blank_lines=False)\n",
    "# filling the first column that determines which sentence each word belongs to.\n",
    "# data.fillna(method = 'ffill', inplace = True)\n",
    "data.rename(columns = {0:'data'}, inplace = True)\n",
    "data.head()"
   ]
  },
  {
   "cell_type": "code",
   "execution_count": 3,
   "metadata": {},
   "outputs": [
    {
     "data": {
      "text/html": [
       "<div>\n",
       "<style scoped>\n",
       "    .dataframe tbody tr th:only-of-type {\n",
       "        vertical-align: middle;\n",
       "    }\n",
       "\n",
       "    .dataframe tbody tr th {\n",
       "        vertical-align: top;\n",
       "    }\n",
       "\n",
       "    .dataframe thead th {\n",
       "        text-align: right;\n",
       "    }\n",
       "</style>\n",
       "<table border=\"1\" class=\"dataframe\">\n",
       "  <thead>\n",
       "    <tr style=\"text-align: right;\">\n",
       "      <th></th>\n",
       "      <th>data</th>\n",
       "      <th>label</th>\n",
       "    </tr>\n",
       "  </thead>\n",
       "  <tbody>\n",
       "    <tr>\n",
       "      <th>0</th>\n",
       "      <td></td>\n",
       "      <td></td>\n",
       "    </tr>\n",
       "    <tr>\n",
       "      <th>1</th>\n",
       "      <td>EU</td>\n",
       "      <td>B-ORG</td>\n",
       "    </tr>\n",
       "    <tr>\n",
       "      <th>2</th>\n",
       "      <td>rejects</td>\n",
       "      <td>O</td>\n",
       "    </tr>\n",
       "    <tr>\n",
       "      <th>3</th>\n",
       "      <td>German</td>\n",
       "      <td>B-MISC</td>\n",
       "    </tr>\n",
       "    <tr>\n",
       "      <th>4</th>\n",
       "      <td>call</td>\n",
       "      <td>O</td>\n",
       "    </tr>\n",
       "    <tr>\n",
       "      <th>...</th>\n",
       "      <td>...</td>\n",
       "      <td>...</td>\n",
       "    </tr>\n",
       "    <tr>\n",
       "      <th>219547</th>\n",
       "      <td>three</td>\n",
       "      <td></td>\n",
       "    </tr>\n",
       "    <tr>\n",
       "      <th>219548</th>\n",
       "      <td>Swansea</td>\n",
       "      <td>B-ORG</td>\n",
       "    </tr>\n",
       "    <tr>\n",
       "      <th>219549</th>\n",
       "      <td>1</td>\n",
       "      <td>O</td>\n",
       "    </tr>\n",
       "    <tr>\n",
       "      <th>219550</th>\n",
       "      <td>Lincoln</td>\n",
       "      <td>B-ORG</td>\n",
       "    </tr>\n",
       "    <tr>\n",
       "      <th>219551</th>\n",
       "      <td>2</td>\n",
       "      <td>O</td>\n",
       "    </tr>\n",
       "  </tbody>\n",
       "</table>\n",
       "<p>219552 rows × 2 columns</p>\n",
       "</div>"
      ],
      "text/plain": [
       "           data   label\n",
       "0                      \n",
       "1            EU   B-ORG\n",
       "2       rejects       O\n",
       "3        German  B-MISC\n",
       "4          call       O\n",
       "...         ...     ...\n",
       "219547    three        \n",
       "219548  Swansea   B-ORG\n",
       "219549        1       O\n",
       "219550  Lincoln   B-ORG\n",
       "219551        2       O\n",
       "\n",
       "[219552 rows x 2 columns]"
      ]
     },
     "execution_count": 3,
     "metadata": {},
     "output_type": "execute_result"
    }
   ],
   "source": [
    "import pandas as pd\n",
    "\n",
    "# file_path = 'drive/MyDrive/Colab Notebooks/compete data/train_gt.csv'\n",
    "file_path = 'train_gt.csv'\n",
    "\n",
    "label = pd.read_csv(file_path, header=None, names=['Labels'], skip_blank_lines=False)\n",
    "data['label'] = label\n",
    "data = data[['data', 'label']]\n",
    "\n",
    "data['data'] = data['data'].fillna('')\n",
    "data['label'] = data['label'].fillna('')\n",
    "\n",
    "data"
   ]
  },
  {
   "cell_type": "markdown",
   "metadata": {},
   "source": [
    "## Ready to create new data"
   ]
  },
  {
   "cell_type": "code",
   "execution_count": 5,
   "metadata": {},
   "outputs": [
    {
     "name": "stderr",
     "output_type": "stream",
     "text": [
      "100%|███████████████████████████████████████████████████████████████████████| 202386/202386 [00:06<00:00, 29206.21it/s]\n",
      "100%|█████████████████████████████████████████████████████████████████████████| 50937/50937 [00:01<00:00, 29909.74it/s]\n"
     ]
    }
   ],
   "source": [
    "from sklearn.preprocessing import LabelEncoder\n",
    "from tqdm import tqdm\n",
    "\n",
    "def load_data(gt_path, data_path):\n",
    "\twith open(data_path) as f:\n",
    "\t\tdata = f.read().splitlines()\n",
    "\n",
    "\twith open(gt_path, \"r\") as f:\n",
    "\t\tlabels = f.read().splitlines()\n",
    "\n",
    "\tdf = pd.DataFrame({\"text\": data, \"label\": labels})\n",
    "\tdf = df[df[\"text\"] != \";;;\"]\n",
    "\tdf[\"text\"] = df[\"text\"].apply(lambda x: x.replace(\";;;\", \"\"))\n",
    "\tdf = df[~(df[\"label\"].str.strip()==\"\")]\n",
    "\tdf = df[~df[\"label\"].str.contains(\";\")]\n",
    "\n",
    "\tdf[\"label\"] = df[\"label\"].str.strip()\n",
    "\n",
    "\tdf[\"label\"] = np.where(df[\"label\"] == \"O O\", \"O\", df[\"label\"])\n",
    "\treturn df\n",
    "\n",
    "train = load_data(\"train_gt.csv\", \"train_data.csv\")\n",
    "valid = load_data(\"valid_gt.csv\", \"valid_data.csv\")\n",
    "ner_pos = LabelEncoder()\n",
    "def rows_to_sentences_and_labels(df):\n",
    "    sentences = []\n",
    "    sentences_labels = []\n",
    "    current_sentence = []\n",
    "    current_labels = []\n",
    "\n",
    "    for index, row in tqdm(df.iterrows(), total = len(df)):\n",
    "        word, label = row['text'], row['label']\n",
    "        current_sentence.append(word.strip())\n",
    "        current_labels.append(label)\n",
    "        if word.strip() == '.':\n",
    "            sentences.append(current_sentence)\n",
    "            sentences_labels.append(current_labels)\n",
    "            current_sentence = []\n",
    "            current_labels = []\n",
    "\n",
    "    return sentences, sentences_labels\n",
    "\n",
    "train_sentences, train_sentences_labels = rows_to_sentences_and_labels(train)\n",
    "valid_sentences, valid_sentences_labels = rows_to_sentences_and_labels(valid)"
   ]
  },
  {
   "cell_type": "code",
   "execution_count": 6,
   "metadata": {},
   "outputs": [
    {
     "data": {
      "text/plain": [
       "[['EU', 'rejects', 'German', 'call', 'to', 'boycott', 'British', 'lamb', '.'],\n",
       " ['Peter',\n",
       "  'Blackburn',\n",
       "  'BRUSSELS',\n",
       "  '1996-08-22',\n",
       "  'The',\n",
       "  'European',\n",
       "  'Commission',\n",
       "  'said',\n",
       "  'on',\n",
       "  'Thursday',\n",
       "  'it',\n",
       "  'disagreed',\n",
       "  'with',\n",
       "  'German',\n",
       "  'advice',\n",
       "  'to',\n",
       "  'consumers',\n",
       "  'to',\n",
       "  'shun',\n",
       "  'British',\n",
       "  'lamb',\n",
       "  'until',\n",
       "  'scientists',\n",
       "  'determine',\n",
       "  'whether',\n",
       "  'mad',\n",
       "  'cow',\n",
       "  'disease',\n",
       "  'can',\n",
       "  'be',\n",
       "  'transmitted',\n",
       "  'to',\n",
       "  'sheep',\n",
       "  '.'],\n",
       " ['Germany',\n",
       "  \"'s\",\n",
       "  'representative',\n",
       "  'to',\n",
       "  'the',\n",
       "  'European',\n",
       "  'Union',\n",
       "  \"'s\",\n",
       "  'veterinary',\n",
       "  'committee',\n",
       "  'Werner',\n",
       "  'Zwingmann',\n",
       "  'said',\n",
       "  'on',\n",
       "  'Wednesday',\n",
       "  'consumers',\n",
       "  'should',\n",
       "  'buy',\n",
       "  'sheepmeat',\n",
       "  'from',\n",
       "  'countries',\n",
       "  'other',\n",
       "  'than',\n",
       "  'Britain',\n",
       "  'until',\n",
       "  'the',\n",
       "  'scientific',\n",
       "  'advice',\n",
       "  'was',\n",
       "  'clearer',\n",
       "  '.'],\n",
       " ['We',\n",
       "  'do',\n",
       "  \"n't\",\n",
       "  'support',\n",
       "  'any',\n",
       "  'such',\n",
       "  'recommendation',\n",
       "  'because',\n",
       "  'we',\n",
       "  'do',\n",
       "  \"n't\",\n",
       "  'see',\n",
       "  'any',\n",
       "  'grounds',\n",
       "  'for',\n",
       "  'it',\n",
       "  'the',\n",
       "  'Commission',\n",
       "  \"'s\",\n",
       "  'chief',\n",
       "  'spokesman',\n",
       "  'Nikolaus',\n",
       "  'van',\n",
       "  'der',\n",
       "  'Pas',\n",
       "  'told',\n",
       "  'a',\n",
       "  'news',\n",
       "  'briefing',\n",
       "  '.'],\n",
       " ['He',\n",
       "  'said',\n",
       "  'further',\n",
       "  'scientific',\n",
       "  'study',\n",
       "  'was',\n",
       "  'required',\n",
       "  'and',\n",
       "  'if',\n",
       "  'it',\n",
       "  'was',\n",
       "  'found',\n",
       "  'that',\n",
       "  'action',\n",
       "  'was',\n",
       "  'needed',\n",
       "  'it',\n",
       "  'should',\n",
       "  'be',\n",
       "  'taken',\n",
       "  'by',\n",
       "  'the',\n",
       "  'European',\n",
       "  'Union',\n",
       "  '.']]"
      ]
     },
     "execution_count": 6,
     "metadata": {},
     "output_type": "execute_result"
    }
   ],
   "source": [
    "train_sentences[:5]"
   ]
  },
  {
   "cell_type": "code",
   "execution_count": 7,
   "metadata": {},
   "outputs": [
    {
     "data": {
      "text/plain": [
       "[['B-ORG', 'O', 'B-MISC', 'O', 'O', 'O', 'B-MISC', 'O', 'O'],\n",
       " ['B-PER',\n",
       "  'I-PER',\n",
       "  'B-LOC',\n",
       "  'O',\n",
       "  'O',\n",
       "  'B-ORG',\n",
       "  'I-ORG',\n",
       "  'O',\n",
       "  'O',\n",
       "  'O',\n",
       "  'O',\n",
       "  'O',\n",
       "  'O',\n",
       "  'B-MISC',\n",
       "  'O',\n",
       "  'O',\n",
       "  'O',\n",
       "  'O',\n",
       "  'O',\n",
       "  'B-MISC',\n",
       "  'O',\n",
       "  'O',\n",
       "  'O',\n",
       "  'O',\n",
       "  'O',\n",
       "  'O',\n",
       "  'O',\n",
       "  'O',\n",
       "  'O',\n",
       "  'O',\n",
       "  'O',\n",
       "  'O',\n",
       "  'O',\n",
       "  'O'],\n",
       " ['B-LOC',\n",
       "  'O',\n",
       "  'O',\n",
       "  'O',\n",
       "  'O',\n",
       "  'B-ORG',\n",
       "  'I-ORG',\n",
       "  'O',\n",
       "  'O',\n",
       "  'O',\n",
       "  'B-PER',\n",
       "  'I-PER',\n",
       "  'O',\n",
       "  'O',\n",
       "  'O',\n",
       "  'O',\n",
       "  'O',\n",
       "  'O',\n",
       "  'O',\n",
       "  'O',\n",
       "  'O',\n",
       "  'O',\n",
       "  'O',\n",
       "  'B-LOC',\n",
       "  'O',\n",
       "  'O',\n",
       "  'O',\n",
       "  'O',\n",
       "  'O',\n",
       "  'O',\n",
       "  'O'],\n",
       " ['O',\n",
       "  'O',\n",
       "  'O',\n",
       "  'O',\n",
       "  'O',\n",
       "  'O',\n",
       "  'O',\n",
       "  'O',\n",
       "  'O',\n",
       "  'O',\n",
       "  'O',\n",
       "  'O',\n",
       "  'O',\n",
       "  'O',\n",
       "  'O',\n",
       "  'O',\n",
       "  'O',\n",
       "  'B-ORG',\n",
       "  'O',\n",
       "  'O',\n",
       "  'O',\n",
       "  'B-PER',\n",
       "  'I-PER',\n",
       "  'I-PER',\n",
       "  'I-PER',\n",
       "  'O',\n",
       "  'O',\n",
       "  'O',\n",
       "  'O',\n",
       "  'O'],\n",
       " ['O',\n",
       "  'O',\n",
       "  'O',\n",
       "  'O',\n",
       "  'O',\n",
       "  'O',\n",
       "  'O',\n",
       "  'O',\n",
       "  'O',\n",
       "  'O',\n",
       "  'O',\n",
       "  'O',\n",
       "  'O',\n",
       "  'O',\n",
       "  'O',\n",
       "  'O',\n",
       "  'O',\n",
       "  'O',\n",
       "  'O',\n",
       "  'O',\n",
       "  'O',\n",
       "  'O',\n",
       "  'B-ORG',\n",
       "  'I-ORG',\n",
       "  'O']]"
      ]
     },
     "execution_count": 7,
     "metadata": {},
     "output_type": "execute_result"
    }
   ],
   "source": [
    "train_sentences_labels[:5]"
   ]
  },
  {
   "cell_type": "code",
   "execution_count": null,
   "metadata": {},
   "outputs": [],
   "source": []
  },
  {
   "cell_type": "code",
   "execution_count": 8,
   "metadata": {},
   "outputs": [
    {
     "data": {
      "text/html": [
       "<div>\n",
       "<style scoped>\n",
       "    .dataframe tbody tr th:only-of-type {\n",
       "        vertical-align: middle;\n",
       "    }\n",
       "\n",
       "    .dataframe tbody tr th {\n",
       "        vertical-align: top;\n",
       "    }\n",
       "\n",
       "    .dataframe thead th {\n",
       "        text-align: right;\n",
       "    }\n",
       "</style>\n",
       "<table border=\"1\" class=\"dataframe\">\n",
       "  <thead>\n",
       "    <tr style=\"text-align: right;\">\n",
       "      <th></th>\n",
       "      <th>data</th>\n",
       "      <th>label</th>\n",
       "      <th>sentence</th>\n",
       "    </tr>\n",
       "  </thead>\n",
       "  <tbody>\n",
       "    <tr>\n",
       "      <th>0</th>\n",
       "      <td>[EU, rejects, German, call, to, boycott, Briti...</td>\n",
       "      <td>[B-ORG, O, B-MISC, O, O, O, B-MISC, O, O]</td>\n",
       "      <td>EU rejects German call to boycott British lamb .</td>\n",
       "    </tr>\n",
       "    <tr>\n",
       "      <th>1</th>\n",
       "      <td>[Peter, Blackburn, BRUSSELS, 1996-08-22, The, ...</td>\n",
       "      <td>[B-PER, I-PER, B-LOC, O, O, B-ORG, I-ORG, O, O...</td>\n",
       "      <td>Peter Blackburn BRUSSELS 1996-08-22 The Europe...</td>\n",
       "    </tr>\n",
       "    <tr>\n",
       "      <th>2</th>\n",
       "      <td>[Germany, 's, representative, to, the, Europea...</td>\n",
       "      <td>[B-LOC, O, O, O, O, B-ORG, I-ORG, O, O, O, B-P...</td>\n",
       "      <td>Germany 's representative to the European Unio...</td>\n",
       "    </tr>\n",
       "    <tr>\n",
       "      <th>3</th>\n",
       "      <td>[We, do, n't, support, any, such, recommendati...</td>\n",
       "      <td>[O, O, O, O, O, O, O, O, O, O, O, O, O, O, O, ...</td>\n",
       "      <td>We do n't support any such recommendation beca...</td>\n",
       "    </tr>\n",
       "    <tr>\n",
       "      <th>4</th>\n",
       "      <td>[He, said, further, scientific, study, was, re...</td>\n",
       "      <td>[O, O, O, O, O, O, O, O, O, O, O, O, O, O, O, ...</td>\n",
       "      <td>He said further scientific study was required ...</td>\n",
       "    </tr>\n",
       "    <tr>\n",
       "      <th>...</th>\n",
       "      <td>...</td>\n",
       "      <td>...</td>\n",
       "      <td>...</td>\n",
       "    </tr>\n",
       "    <tr>\n",
       "      <th>7369</th>\n",
       "      <td>[That, ;;O;O, and, the, fact, he, is, only, a,...</td>\n",
       "      <td>[O, O, O, O, O, O, O, O, O, O, O, O, O, O, O, ...</td>\n",
       "      <td>That ;;O;O and the fact he is only a few hours...</td>\n",
       "    </tr>\n",
       "    <tr>\n",
       "      <th>7370</th>\n",
       "      <td>[-DOCSTART-, MOTORCYCLING, -, SAN, MARINO, GRA...</td>\n",
       "      <td>[O, O, O, B-LOC, I-LOC, B-MISC, I-MISC, O, O, O]</td>\n",
       "      <td>-DOCSTART- MOTORCYCLING - SAN MARINO GRAND PRI...</td>\n",
       "    </tr>\n",
       "    <tr>\n",
       "      <th>7371</th>\n",
       "      <td>[IMOLA, ;;O;O, Italy, 1996-08-30, Practice, ti...</td>\n",
       "      <td>[B-LOC, O, B-LOC, O, O, O, O, O, O, O, O, O, B...</td>\n",
       "      <td>IMOLA ;;O;O Italy 1996-08-30 Practice times se...</td>\n",
       "    </tr>\n",
       "    <tr>\n",
       "      <th>7372</th>\n",
       "      <td>[NORTHAMPTON, ;;O;O, England, 1996-08-30, Lead...</td>\n",
       "      <td>[B-LOC, O, B-LOC, O, O, O, O, O, O, O, O, O, B...</td>\n",
       "      <td>NORTHAMPTON ;;O;O England 1996-08-30 Leading s...</td>\n",
       "    </tr>\n",
       "    <tr>\n",
       "      <th>7373</th>\n",
       "      <td>[-DOCSTART-, SOCCER, -, ENGLISH, SOCCER, RESUL...</td>\n",
       "      <td>[O, O, O, B-MISC, O, O, O]</td>\n",
       "      <td>-DOCSTART- SOCCER - ENGLISH SOCCER RESULTS .</td>\n",
       "    </tr>\n",
       "  </tbody>\n",
       "</table>\n",
       "<p>7374 rows × 3 columns</p>\n",
       "</div>"
      ],
      "text/plain": [
       "                                                   data  \\\n",
       "0     [EU, rejects, German, call, to, boycott, Briti...   \n",
       "1     [Peter, Blackburn, BRUSSELS, 1996-08-22, The, ...   \n",
       "2     [Germany, 's, representative, to, the, Europea...   \n",
       "3     [We, do, n't, support, any, such, recommendati...   \n",
       "4     [He, said, further, scientific, study, was, re...   \n",
       "...                                                 ...   \n",
       "7369  [That, ;;O;O, and, the, fact, he, is, only, a,...   \n",
       "7370  [-DOCSTART-, MOTORCYCLING, -, SAN, MARINO, GRA...   \n",
       "7371  [IMOLA, ;;O;O, Italy, 1996-08-30, Practice, ti...   \n",
       "7372  [NORTHAMPTON, ;;O;O, England, 1996-08-30, Lead...   \n",
       "7373  [-DOCSTART-, SOCCER, -, ENGLISH, SOCCER, RESUL...   \n",
       "\n",
       "                                                  label  \\\n",
       "0             [B-ORG, O, B-MISC, O, O, O, B-MISC, O, O]   \n",
       "1     [B-PER, I-PER, B-LOC, O, O, B-ORG, I-ORG, O, O...   \n",
       "2     [B-LOC, O, O, O, O, B-ORG, I-ORG, O, O, O, B-P...   \n",
       "3     [O, O, O, O, O, O, O, O, O, O, O, O, O, O, O, ...   \n",
       "4     [O, O, O, O, O, O, O, O, O, O, O, O, O, O, O, ...   \n",
       "...                                                 ...   \n",
       "7369  [O, O, O, O, O, O, O, O, O, O, O, O, O, O, O, ...   \n",
       "7370   [O, O, O, B-LOC, I-LOC, B-MISC, I-MISC, O, O, O]   \n",
       "7371  [B-LOC, O, B-LOC, O, O, O, O, O, O, O, O, O, B...   \n",
       "7372  [B-LOC, O, B-LOC, O, O, O, O, O, O, O, O, O, B...   \n",
       "7373                         [O, O, O, B-MISC, O, O, O]   \n",
       "\n",
       "                                               sentence  \n",
       "0      EU rejects German call to boycott British lamb .  \n",
       "1     Peter Blackburn BRUSSELS 1996-08-22 The Europe...  \n",
       "2     Germany 's representative to the European Unio...  \n",
       "3     We do n't support any such recommendation beca...  \n",
       "4     He said further scientific study was required ...  \n",
       "...                                                 ...  \n",
       "7369  That ;;O;O and the fact he is only a few hours...  \n",
       "7370  -DOCSTART- MOTORCYCLING - SAN MARINO GRAND PRI...  \n",
       "7371  IMOLA ;;O;O Italy 1996-08-30 Practice times se...  \n",
       "7372  NORTHAMPTON ;;O;O England 1996-08-30 Leading s...  \n",
       "7373       -DOCSTART- SOCCER - ENGLISH SOCCER RESULTS .  \n",
       "\n",
       "[7374 rows x 3 columns]"
      ]
     },
     "execution_count": 8,
     "metadata": {},
     "output_type": "execute_result"
    }
   ],
   "source": [
    "import pandas as pd\n",
    "\n",
    "ready_data = pd.DataFrame({'data': train_sentences, 'label': train_sentences_labels})\n",
    "\n",
    "ready_data['sentence'] = ready_data['data'].apply(lambda x: ' '.join(x))\n",
    "ready_data\n"
   ]
  },
  {
   "cell_type": "code",
   "execution_count": 16,
   "metadata": {
    "execution": {
     "iopub.execute_input": "2022-01-15T16:28:09.936576Z",
     "iopub.status.busy": "2022-01-15T16:28:09.935837Z",
     "iopub.status.idle": "2022-01-15T16:28:10.023376Z",
     "shell.execute_reply": "2022-01-15T16:28:10.022325Z",
     "shell.execute_reply.started": "2022-01-15T16:28:09.936533Z"
    }
   },
   "outputs": [
    {
     "data": {
      "text/plain": [
       "array(['', 'B-ORG', 'O', 'B-MISC', 'B-PER', 'I-PER', 'B-LOC', 'I-ORG',\n",
       "       'I-MISC', 'I-LOC'], dtype=object)"
      ]
     },
     "execution_count": 16,
     "metadata": {},
     "output_type": "execute_result"
    }
   ],
   "source": [
    "tags = data.label.unique()\n",
    "tags"
   ]
  },
  {
   "cell_type": "markdown",
   "metadata": {},
   "source": [
    "# 3- Data Preprocessing"
   ]
  },
  {
   "cell_type": "code",
   "execution_count": 21,
   "metadata": {
    "execution": {
     "iopub.execute_input": "2022-01-15T16:28:13.713855Z",
     "iopub.status.busy": "2022-01-15T16:28:13.713584Z",
     "iopub.status.idle": "2022-01-15T16:28:13.726969Z",
     "shell.execute_reply": "2022-01-15T16:28:13.726361Z",
     "shell.execute_reply.started": "2022-01-15T16:28:13.71379Z"
    }
   },
   "outputs": [
    {
     "data": {
      "text/html": [
       "<div>\n",
       "<style scoped>\n",
       "    .dataframe tbody tr th:only-of-type {\n",
       "        vertical-align: middle;\n",
       "    }\n",
       "\n",
       "    .dataframe tbody tr th {\n",
       "        vertical-align: top;\n",
       "    }\n",
       "\n",
       "    .dataframe thead th {\n",
       "        text-align: right;\n",
       "    }\n",
       "</style>\n",
       "<table border=\"1\" class=\"dataframe\">\n",
       "  <thead>\n",
       "    <tr style=\"text-align: right;\">\n",
       "      <th></th>\n",
       "      <th>data</th>\n",
       "      <th>label</th>\n",
       "      <th>sentence</th>\n",
       "    </tr>\n",
       "  </thead>\n",
       "  <tbody>\n",
       "    <tr>\n",
       "      <th>0</th>\n",
       "      <td>[EU, rejects, German, call, to, boycott, Briti...</td>\n",
       "      <td>[B-ORG, O, B-MISC, O, O, O, B-MISC, O, O]</td>\n",
       "      <td>EU rejects German call to boycott British lamb .</td>\n",
       "    </tr>\n",
       "    <tr>\n",
       "      <th>1</th>\n",
       "      <td>[Peter, Blackburn, BRUSSELS, 1996-08-22, The, ...</td>\n",
       "      <td>[B-PER, I-PER, B-LOC, O, O, B-ORG, I-ORG, O, O...</td>\n",
       "      <td>Peter Blackburn BRUSSELS 1996-08-22 The Europe...</td>\n",
       "    </tr>\n",
       "    <tr>\n",
       "      <th>2</th>\n",
       "      <td>[Germany, 's, representative, to, the, Europea...</td>\n",
       "      <td>[B-LOC, O, O, O, O, B-ORG, I-ORG, O, O, O, B-P...</td>\n",
       "      <td>Germany 's representative to the European Unio...</td>\n",
       "    </tr>\n",
       "    <tr>\n",
       "      <th>3</th>\n",
       "      <td>[We, do, n't, support, any, such, recommendati...</td>\n",
       "      <td>[O, O, O, O, O, O, O, O, O, O, O, O, O, O, O, ...</td>\n",
       "      <td>We do n't support any such recommendation beca...</td>\n",
       "    </tr>\n",
       "    <tr>\n",
       "      <th>4</th>\n",
       "      <td>[He, said, further, scientific, study, was, re...</td>\n",
       "      <td>[O, O, O, O, O, O, O, O, O, O, O, O, O, O, O, ...</td>\n",
       "      <td>He said further scientific study was required ...</td>\n",
       "    </tr>\n",
       "  </tbody>\n",
       "</table>\n",
       "</div>"
      ],
      "text/plain": [
       "                                                data  \\\n",
       "0  [EU, rejects, German, call, to, boycott, Briti...   \n",
       "1  [Peter, Blackburn, BRUSSELS, 1996-08-22, The, ...   \n",
       "2  [Germany, 's, representative, to, the, Europea...   \n",
       "3  [We, do, n't, support, any, such, recommendati...   \n",
       "4  [He, said, further, scientific, study, was, re...   \n",
       "\n",
       "                                               label  \\\n",
       "0          [B-ORG, O, B-MISC, O, O, O, B-MISC, O, O]   \n",
       "1  [B-PER, I-PER, B-LOC, O, O, B-ORG, I-ORG, O, O...   \n",
       "2  [B-LOC, O, O, O, O, B-ORG, I-ORG, O, O, O, B-P...   \n",
       "3  [O, O, O, O, O, O, O, O, O, O, O, O, O, O, O, ...   \n",
       "4  [O, O, O, O, O, O, O, O, O, O, O, O, O, O, O, ...   \n",
       "\n",
       "                                            sentence  \n",
       "0   EU rejects German call to boycott British lamb .  \n",
       "1  Peter Blackburn BRUSSELS 1996-08-22 The Europe...  \n",
       "2  Germany 's representative to the European Unio...  \n",
       "3  We do n't support any such recommendation beca...  \n",
       "4  He said further scientific study was required ...  "
      ]
     },
     "execution_count": 21,
     "metadata": {},
     "output_type": "execute_result"
    }
   ],
   "source": [
    "ready_data.head()"
   ]
  },
  {
   "cell_type": "code",
   "execution_count": 22,
   "metadata": {
    "execution": {
     "iopub.execute_input": "2022-01-15T16:28:13.728361Z",
     "iopub.status.busy": "2022-01-15T16:28:13.728076Z",
     "iopub.status.idle": "2022-01-15T16:28:13.749368Z",
     "shell.execute_reply": "2022-01-15T16:28:13.748766Z",
     "shell.execute_reply.started": "2022-01-15T16:28:13.728328Z"
    }
   },
   "outputs": [],
   "source": [
    "X = list(ready_data['sentence'])\n",
    "Y = list(ready_data['label'])"
   ]
  },
  {
   "cell_type": "code",
   "execution_count": 23,
   "metadata": {
    "execution": {
     "iopub.execute_input": "2022-01-15T16:28:13.750959Z",
     "iopub.status.busy": "2022-01-15T16:28:13.7505Z",
     "iopub.status.idle": "2022-01-15T16:28:15.630858Z",
     "shell.execute_reply": "2022-01-15T16:28:15.630143Z",
     "shell.execute_reply.started": "2022-01-15T16:28:13.750912Z"
    }
   },
   "outputs": [],
   "source": [
    "Y_ready = Y"
   ]
  },
  {
   "cell_type": "code",
   "execution_count": 25,
   "metadata": {
    "execution": {
     "iopub.execute_input": "2022-01-15T16:28:15.632449Z",
     "iopub.status.busy": "2022-01-15T16:28:15.632208Z",
     "iopub.status.idle": "2022-01-15T16:28:15.638263Z",
     "shell.execute_reply": "2022-01-15T16:28:15.636737Z",
     "shell.execute_reply.started": "2022-01-15T16:28:15.632416Z"
    }
   },
   "outputs": [
    {
     "name": "stdout",
     "output_type": "stream",
     "text": [
      "First three sentences: \n",
      "\n",
      "['EU rejects German call to boycott British lamb .', 'Peter Blackburn BRUSSELS 1996-08-22 The European Commission said on Thursday it disagreed with German advice to consumers to shun British lamb until scientists determine whether mad cow disease can be transmitted to sheep .', \"Germany 's representative to the European Union 's veterinary committee Werner Zwingmann said on Wednesday consumers should buy sheepmeat from countries other than Britain until the scientific advice was clearer .\"]\n"
     ]
    }
   ],
   "source": [
    "print(\"First three sentences: \\n\")\n",
    "print(X[:3])"
   ]
  },
  {
   "cell_type": "code",
   "execution_count": 26,
   "metadata": {
    "execution": {
     "iopub.execute_input": "2022-01-15T16:28:17.305871Z",
     "iopub.status.busy": "2022-01-15T16:28:17.305371Z",
     "iopub.status.idle": "2022-01-15T16:28:17.31082Z",
     "shell.execute_reply": "2022-01-15T16:28:17.309773Z",
     "shell.execute_reply.started": "2022-01-15T16:28:17.305833Z"
    }
   },
   "outputs": [
    {
     "name": "stdout",
     "output_type": "stream",
     "text": [
      "First three Tags: \n",
      "\n",
      "[['B-ORG', 'O', 'B-MISC', 'O', 'O', 'O', 'B-MISC', 'O', 'O'], ['B-PER', 'I-PER', 'B-LOC', 'O', 'O', 'B-ORG', 'I-ORG', 'O', 'O', 'O', 'O', 'O', 'O', 'B-MISC', 'O', 'O', 'O', 'O', 'O', 'B-MISC', 'O', 'O', 'O', 'O', 'O', 'O', 'O', 'O', 'O', 'O', 'O', 'O', 'O', 'O'], ['B-LOC', 'O', 'O', 'O', 'O', 'B-ORG', 'I-ORG', 'O', 'O', 'O', 'B-PER', 'I-PER', 'O', 'O', 'O', 'O', 'O', 'O', 'O', 'O', 'O', 'O', 'O', 'B-LOC', 'O', 'O', 'O', 'O', 'O', 'O', 'O']]\n"
     ]
    }
   ],
   "source": [
    "print(\"First three Tags: \\n\")\n",
    "print(Y_ready[:3])"
   ]
  },
  {
   "cell_type": "markdown",
   "metadata": {},
   "source": [
    "We need to tokenize the sentences by mapping each word to a unique identifier, then we need to pad them because NN need the input sentences to have the same lenght."
   ]
  },
  {
   "cell_type": "code",
   "execution_count": 27,
   "metadata": {
    "execution": {
     "iopub.execute_input": "2022-01-15T16:28:18.521711Z",
     "iopub.status.busy": "2022-01-15T16:28:18.521033Z",
     "iopub.status.idle": "2022-01-15T16:28:19.383639Z",
     "shell.execute_reply": "2022-01-15T16:28:19.382869Z",
     "shell.execute_reply.started": "2022-01-15T16:28:18.521672Z"
    }
   },
   "outputs": [],
   "source": [
    "from tensorflow.keras.preprocessing.text import Tokenizer\n",
    "from tensorflow.keras.preprocessing.sequence import pad_sequences"
   ]
  },
  {
   "cell_type": "code",
   "execution_count": 28,
   "metadata": {
    "execution": {
     "iopub.execute_input": "2022-01-15T16:28:19.385612Z",
     "iopub.status.busy": "2022-01-15T16:28:19.385373Z",
     "iopub.status.idle": "2022-01-15T16:28:19.394684Z",
     "shell.execute_reply": "2022-01-15T16:28:19.393337Z",
     "shell.execute_reply.started": "2022-01-15T16:28:19.38558Z"
    }
   },
   "outputs": [
    {
     "name": "stdout",
     "output_type": "stream",
     "text": [
      "Number of examples: 7374\n"
     ]
    }
   ],
   "source": [
    "print(\"Number of examples: {}\".format(len(X)))"
   ]
  },
  {
   "cell_type": "code",
   "execution_count": null,
   "metadata": {},
   "outputs": [],
   "source": []
  },
  {
   "cell_type": "markdown",
   "metadata": {},
   "source": [
    "- **Toknize sentences**"
   ]
  },
  {
   "cell_type": "code",
   "execution_count": null,
   "metadata": {},
   "outputs": [],
   "source": [
    "from sklearn.feature_extraction.text import TfidfVectorizer\n",
    "from sklearn.feature_extraction import DictVectorizer\n",
    "\n",
    "vectorizer = TfidfVectorizer()\n",
    "\n",
    "X_train_features = vectorizer.fit_transform(X_train)\n",
    "X_dev_features = vectorizer.transform(X_dev)\n",
    "X_test_features = vectorizer.transform(X_test)"
   ]
  },
  {
   "cell_type": "code",
   "execution_count": 111,
   "metadata": {
    "execution": {
     "iopub.execute_input": "2022-01-15T16:28:20.761422Z",
     "iopub.status.busy": "2022-01-15T16:28:20.760867Z",
     "iopub.status.idle": "2022-01-15T16:28:22.891782Z",
     "shell.execute_reply": "2022-01-15T16:28:22.891075Z",
     "shell.execute_reply.started": "2022-01-15T16:28:20.761383Z"
    }
   },
   "outputs": [],
   "source": [
    "maxlen = 256\n",
    "\n",
    "max_words = 36000\n",
    "\n",
    "tokenizer = Tokenizer(num_words=max_words)\n",
    "tokenizer.fit_on_texts(X)\n",
    "sequences = tokenizer.texts_to_sequences(X)"
   ]
  },
  {
   "cell_type": "code",
   "execution_count": 112,
   "metadata": {},
   "outputs": [
    {
     "data": {
      "text/plain": [
       "'Peter Blackburn BRUSSELS 1996-08-22 The European Commission said on Thursday it disagreed with German advice to consumers to shun British lamb until scientists determine whether mad cow disease can be transmitted to sheep .'"
      ]
     },
     "execution_count": 112,
     "metadata": {},
     "output_type": "execute_result"
    }
   ],
   "source": [
    "X[1]"
   ]
  },
  {
   "cell_type": "code",
   "execution_count": 113,
   "metadata": {},
   "outputs": [
    {
     "data": {
      "text/plain": [
       "[765,\n",
       " 1880,\n",
       " 749,\n",
       " 20,\n",
       " 22,\n",
       " 86,\n",
       " 2,\n",
       " 228,\n",
       " 345,\n",
       " 10,\n",
       " 9,\n",
       " 72,\n",
       " 28,\n",
       " 7297,\n",
       " 23,\n",
       " 208,\n",
       " 3936,\n",
       " 5,\n",
       " 2421,\n",
       " 5,\n",
       " 10291,\n",
       " 217,\n",
       " 5708,\n",
       " 417,\n",
       " 3385,\n",
       " 2019,\n",
       " 541,\n",
       " 1765,\n",
       " 1881,\n",
       " 663,\n",
       " 326,\n",
       " 41,\n",
       " 7298,\n",
       " 5,\n",
       " 1648]"
      ]
     },
     "execution_count": 113,
     "metadata": {},
     "output_type": "execute_result"
    }
   ],
   "source": [
    "sequences[1]"
   ]
  },
  {
   "cell_type": "code",
   "execution_count": 32,
   "metadata": {},
   "outputs": [
    {
     "name": "stdout",
     "output_type": "stream",
     "text": [
      "Number of words: 34\n"
     ]
    }
   ],
   "source": [
    "words = X[1].split()\n",
    "\n",
    "num_words = len(words)\n",
    "\n",
    "print(\"Number of words:\", num_words)"
   ]
  },
  {
   "cell_type": "code",
   "execution_count": 33,
   "metadata": {},
   "outputs": [
    {
     "data": {
      "text/plain": [
       "35"
      ]
     },
     "execution_count": 33,
     "metadata": {},
     "output_type": "execute_result"
    }
   ],
   "source": [
    "len(sequences[1])"
   ]
  },
  {
   "cell_type": "code",
   "execution_count": 34,
   "metadata": {},
   "outputs": [
    {
     "data": {
      "text/plain": [
       "7374"
      ]
     },
     "execution_count": 34,
     "metadata": {},
     "output_type": "execute_result"
    }
   ],
   "source": [
    "len(sequences)"
   ]
  },
  {
   "cell_type": "code",
   "execution_count": 35,
   "metadata": {
    "execution": {
     "iopub.execute_input": "2022-01-15T16:28:22.898546Z",
     "iopub.status.busy": "2022-01-15T16:28:22.896523Z",
     "iopub.status.idle": "2022-01-15T16:28:22.9202Z",
     "shell.execute_reply": "2022-01-15T16:28:22.919531Z",
     "shell.execute_reply.started": "2022-01-15T16:28:22.898505Z"
    }
   },
   "outputs": [
    {
     "name": "stdout",
     "output_type": "stream",
     "text": [
      "Found 17563 unique tokens.\n"
     ]
    }
   ],
   "source": [
    "word_index = tokenizer.word_index\n",
    "print(\"Found {} unique tokens.\".format(len(word_index)))\n",
    "ind2word = dict([(value, key) for (key, value) in word_index.items()])"
   ]
  },
  {
   "cell_type": "code",
   "execution_count": 37,
   "metadata": {
    "execution": {
     "iopub.execute_input": "2022-01-15T16:28:22.92684Z",
     "iopub.status.busy": "2022-01-15T16:28:22.924552Z",
     "iopub.status.idle": "2022-01-15T16:28:22.931689Z",
     "shell.execute_reply": "2022-01-15T16:28:22.931071Z",
     "shell.execute_reply.started": "2022-01-15T16:28:22.926789Z"
    }
   },
   "outputs": [],
   "source": [
    "word2id = word_index"
   ]
  },
  {
   "cell_type": "code",
   "execution_count": 38,
   "metadata": {
    "execution": {
     "iopub.execute_input": "2022-01-15T16:28:24.227475Z",
     "iopub.status.busy": "2022-01-15T16:28:24.226694Z",
     "iopub.status.idle": "2022-01-15T16:28:24.247212Z",
     "shell.execute_reply": "2022-01-15T16:28:24.246437Z",
     "shell.execute_reply.started": "2022-01-15T16:28:24.227428Z"
    }
   },
   "outputs": [],
   "source": [
    "id2word = {}\n",
    "for key, value in word2id.items():\n",
    "    id2word[value] = key"
   ]
  },
  {
   "cell_type": "code",
   "execution_count": 39,
   "metadata": {},
   "outputs": [],
   "source": [
    "# id2word"
   ]
  },
  {
   "cell_type": "markdown",
   "metadata": {},
   "source": [
    "- **Sentences padding**"
   ]
  },
  {
   "cell_type": "code",
   "execution_count": 40,
   "metadata": {
    "execution": {
     "iopub.execute_input": "2022-01-15T16:28:25.189794Z",
     "iopub.status.busy": "2022-01-15T16:28:25.189273Z",
     "iopub.status.idle": "2022-01-15T16:28:25.603874Z",
     "shell.execute_reply": "2022-01-15T16:28:25.603159Z",
     "shell.execute_reply.started": "2022-01-15T16:28:25.189757Z"
    }
   },
   "outputs": [],
   "source": [
    "X_preprocessed = pad_sequences(sequences, maxlen=maxlen, padding='post')"
   ]
  },
  {
   "cell_type": "code",
   "execution_count": 41,
   "metadata": {
    "execution": {
     "iopub.execute_input": "2022-01-15T16:28:25.605524Z",
     "iopub.status.busy": "2022-01-15T16:28:25.605249Z",
     "iopub.status.idle": "2022-01-15T16:28:25.615829Z",
     "shell.execute_reply": "2022-01-15T16:28:25.615089Z",
     "shell.execute_reply.started": "2022-01-15T16:28:25.605489Z"
    }
   },
   "outputs": [
    {
     "data": {
      "text/plain": [
       "array([  946, 10290,   208,   631,     5,  3935,   217,  5708,     0,\n",
       "           0,     0,     0,     0,     0,     0,     0,     0,     0,\n",
       "           0,     0,     0,     0,     0,     0,     0,     0,     0,\n",
       "           0,     0,     0,     0,     0,     0,     0,     0,     0,\n",
       "           0,     0,     0,     0,     0,     0,     0,     0,     0,\n",
       "           0,     0,     0,     0,     0,     0,     0,     0,     0,\n",
       "           0,     0,     0,     0,     0,     0,     0,     0,     0,\n",
       "           0,     0,     0,     0,     0,     0,     0,     0,     0,\n",
       "           0,     0,     0,     0,     0,     0,     0,     0,     0,\n",
       "           0,     0,     0,     0,     0,     0,     0,     0,     0,\n",
       "           0,     0,     0,     0,     0,     0,     0,     0,     0,\n",
       "           0,     0,     0,     0,     0,     0,     0,     0,     0,\n",
       "           0,     0,     0,     0,     0,     0,     0,     0,     0,\n",
       "           0,     0,     0,     0,     0,     0,     0,     0,     0,\n",
       "           0,     0,     0,     0,     0,     0,     0,     0,     0,\n",
       "           0,     0,     0,     0,     0,     0,     0,     0,     0,\n",
       "           0,     0,     0,     0,     0,     0,     0,     0,     0,\n",
       "           0,     0,     0,     0,     0,     0,     0,     0,     0,\n",
       "           0,     0,     0,     0,     0,     0,     0,     0,     0,\n",
       "           0,     0,     0,     0,     0,     0,     0,     0,     0,\n",
       "           0,     0,     0,     0,     0,     0,     0,     0,     0,\n",
       "           0,     0,     0,     0,     0,     0,     0,     0,     0,\n",
       "           0,     0,     0,     0,     0,     0,     0,     0,     0,\n",
       "           0,     0,     0,     0,     0,     0,     0,     0,     0,\n",
       "           0,     0,     0,     0,     0,     0,     0,     0,     0,\n",
       "           0,     0,     0,     0,     0,     0,     0,     0,     0,\n",
       "           0,     0,     0,     0,     0,     0,     0,     0,     0,\n",
       "           0,     0,     0,     0,     0,     0,     0,     0,     0,\n",
       "           0,     0,     0,     0])"
      ]
     },
     "execution_count": 41,
     "metadata": {},
     "output_type": "execute_result"
    }
   ],
   "source": [
    "X_preprocessed[0]"
   ]
  },
  {
   "cell_type": "code",
   "execution_count": 42,
   "metadata": {
    "execution": {
     "iopub.execute_input": "2022-01-15T16:28:25.663592Z",
     "iopub.status.busy": "2022-01-15T16:28:25.663405Z",
     "iopub.status.idle": "2022-01-15T16:28:25.671193Z",
     "shell.execute_reply": "2022-01-15T16:28:25.670199Z",
     "shell.execute_reply.started": "2022-01-15T16:28:25.66357Z"
    }
   },
   "outputs": [
    {
     "data": {
      "text/plain": [
       "array([ 21,  88, 389,  88,  81,   0,   0,   0,   0,   0,   0,   0,   0,\n",
       "         0,   0,   0,   0,   0,   0,   0,   0,   0,   0,   0,   0,   0,\n",
       "         0,   0,   0,   0,   0,   0,   0,   0,   0,   0,   0,   0,   0,\n",
       "         0,   0,   0,   0,   0,   0,   0,   0,   0,   0,   0,   0,   0,\n",
       "         0,   0,   0,   0,   0,   0,   0,   0,   0,   0,   0,   0,   0,\n",
       "         0,   0,   0,   0,   0,   0,   0,   0,   0,   0,   0,   0,   0,\n",
       "         0,   0,   0,   0,   0,   0,   0,   0,   0,   0,   0,   0,   0,\n",
       "         0,   0,   0,   0,   0,   0,   0,   0,   0,   0,   0,   0,   0,\n",
       "         0,   0,   0,   0,   0,   0,   0,   0,   0,   0,   0,   0,   0,\n",
       "         0,   0,   0,   0,   0,   0,   0,   0,   0,   0,   0,   0,   0,\n",
       "         0,   0,   0,   0,   0,   0,   0,   0,   0,   0,   0,   0,   0,\n",
       "         0,   0,   0,   0,   0,   0,   0,   0,   0,   0,   0,   0,   0,\n",
       "         0,   0,   0,   0,   0,   0,   0,   0,   0,   0,   0,   0,   0,\n",
       "         0,   0,   0,   0,   0,   0,   0,   0,   0,   0,   0,   0,   0,\n",
       "         0,   0,   0,   0,   0,   0,   0,   0,   0,   0,   0,   0,   0,\n",
       "         0,   0,   0,   0,   0,   0,   0,   0,   0,   0,   0,   0,   0,\n",
       "         0,   0,   0,   0,   0,   0,   0,   0,   0,   0,   0,   0,   0,\n",
       "         0,   0,   0,   0,   0,   0,   0,   0,   0,   0,   0,   0,   0,\n",
       "         0,   0,   0,   0,   0,   0,   0,   0,   0,   0,   0,   0,   0,\n",
       "         0,   0,   0,   0,   0,   0,   0,   0,   0])"
      ]
     },
     "execution_count": 42,
     "metadata": {},
     "output_type": "execute_result"
    }
   ],
   "source": [
    "X_preprocessed[7373]"
   ]
  },
  {
   "cell_type": "markdown",
   "metadata": {},
   "source": [
    "- **Preprocess tags**"
   ]
  },
  {
   "cell_type": "code",
   "execution_count": 43,
   "metadata": {
    "execution": {
     "iopub.execute_input": "2022-01-15T16:28:28.495178Z",
     "iopub.status.busy": "2022-01-15T16:28:28.494629Z",
     "iopub.status.idle": "2022-01-15T16:28:28.498879Z",
     "shell.execute_reply": "2022-01-15T16:28:28.498237Z",
     "shell.execute_reply.started": "2022-01-15T16:28:28.495124Z"
    }
   },
   "outputs": [],
   "source": [
    "tags2id = {}\n",
    "for i, tag in enumerate(tags):\n",
    "    tags2id[tag] = i"
   ]
  },
  {
   "cell_type": "code",
   "execution_count": 44,
   "metadata": {
    "execution": {
     "iopub.execute_input": "2022-01-15T16:28:28.653939Z",
     "iopub.status.busy": "2022-01-15T16:28:28.653496Z",
     "iopub.status.idle": "2022-01-15T16:28:28.659892Z",
     "shell.execute_reply": "2022-01-15T16:28:28.659136Z",
     "shell.execute_reply.started": "2022-01-15T16:28:28.653898Z"
    }
   },
   "outputs": [
    {
     "data": {
      "text/plain": [
       "{'': 0,\n",
       " 'B-ORG': 1,\n",
       " 'O': 2,\n",
       " 'B-MISC': 3,\n",
       " 'B-PER': 4,\n",
       " 'I-PER': 5,\n",
       " 'B-LOC': 6,\n",
       " 'I-ORG': 7,\n",
       " 'I-MISC': 8,\n",
       " 'I-LOC': 9}"
      ]
     },
     "execution_count": 44,
     "metadata": {},
     "output_type": "execute_result"
    }
   ],
   "source": [
    "tags2id"
   ]
  },
  {
   "cell_type": "code",
   "execution_count": 45,
   "metadata": {
    "execution": {
     "iopub.execute_input": "2022-01-15T16:28:29.560649Z",
     "iopub.status.busy": "2022-01-15T16:28:29.56033Z",
     "iopub.status.idle": "2022-01-15T16:28:29.565407Z",
     "shell.execute_reply": "2022-01-15T16:28:29.564631Z",
     "shell.execute_reply.started": "2022-01-15T16:28:29.560612Z"
    }
   },
   "outputs": [],
   "source": [
    "id2tag = {}\n",
    "for key, value in tags2id.items():\n",
    "    id2tag[value] = key"
   ]
  },
  {
   "cell_type": "code",
   "execution_count": 46,
   "metadata": {
    "execution": {
     "iopub.execute_input": "2022-01-15T16:28:29.75886Z",
     "iopub.status.busy": "2022-01-15T16:28:29.758337Z",
     "iopub.status.idle": "2022-01-15T16:28:29.764454Z",
     "shell.execute_reply": "2022-01-15T16:28:29.763728Z",
     "shell.execute_reply.started": "2022-01-15T16:28:29.758829Z"
    },
    "scrolled": true
   },
   "outputs": [
    {
     "data": {
      "text/plain": [
       "{0: '',\n",
       " 1: 'B-ORG',\n",
       " 2: 'O',\n",
       " 3: 'B-MISC',\n",
       " 4: 'B-PER',\n",
       " 5: 'I-PER',\n",
       " 6: 'B-LOC',\n",
       " 7: 'I-ORG',\n",
       " 8: 'I-MISC',\n",
       " 9: 'I-LOC'}"
      ]
     },
     "execution_count": 46,
     "metadata": {},
     "output_type": "execute_result"
    }
   ],
   "source": [
    "id2tag"
   ]
  },
  {
   "cell_type": "code",
   "execution_count": 47,
   "metadata": {
    "execution": {
     "iopub.execute_input": "2022-01-15T16:28:29.959207Z",
     "iopub.status.busy": "2022-01-15T16:28:29.958962Z",
     "iopub.status.idle": "2022-01-15T16:28:29.964995Z",
     "shell.execute_reply": "2022-01-15T16:28:29.964189Z",
     "shell.execute_reply.started": "2022-01-15T16:28:29.959161Z"
    }
   },
   "outputs": [],
   "source": [
    "def preprocess_tags(tags2id, Y_ready):\n",
    "    \n",
    "    Y_preprocessed = []\n",
    "    maxlen = 256\n",
    "    for y in Y_ready:\n",
    "        \n",
    "        Y_place_holder = []\n",
    "        \n",
    "        for tag in y:\n",
    "            Y_place_holder.append(tags2id[tag])\n",
    "        \n",
    "        len_new_tag_list = len(Y_place_holder)\n",
    "        num_O_to_add = maxlen - len_new_tag_list\n",
    "        \n",
    "        padded_tags = Y_place_holder + ([tags2id['O']] * num_O_to_add)\n",
    "        Y_preprocessed.append(padded_tags[:maxlen])\n",
    "        \n",
    "    return Y_preprocessed"
   ]
  },
  {
   "cell_type": "code",
   "execution_count": 48,
   "metadata": {
    "execution": {
     "iopub.execute_input": "2022-01-15T16:28:30.748993Z",
     "iopub.status.busy": "2022-01-15T16:28:30.748738Z",
     "iopub.status.idle": "2022-01-15T16:28:30.98637Z",
     "shell.execute_reply": "2022-01-15T16:28:30.985312Z",
     "shell.execute_reply.started": "2022-01-15T16:28:30.748964Z"
    }
   },
   "outputs": [],
   "source": [
    "Y_preprocessed = preprocess_tags(tags2id, Y_ready)"
   ]
  },
  {
   "cell_type": "code",
   "execution_count": 49,
   "metadata": {
    "execution": {
     "iopub.execute_input": "2022-01-15T16:28:31.00146Z",
     "iopub.status.busy": "2022-01-15T16:28:31.001246Z",
     "iopub.status.idle": "2022-01-15T16:28:31.005942Z",
     "shell.execute_reply": "2022-01-15T16:28:31.005271Z",
     "shell.execute_reply.started": "2022-01-15T16:28:31.001433Z"
    }
   },
   "outputs": [
    {
     "name": "stdout",
     "output_type": "stream",
     "text": [
      "[2, 2, 2, 3, 2, 2, 2, 2, 2, 2, 2, 2, 2, 2, 2, 2, 2, 2, 2, 2, 2, 2, 2, 2, 2, 2, 2, 2, 2, 2, 2, 2, 2, 2, 2, 2, 2, 2, 2, 2, 2, 2, 2, 2, 2, 2, 2, 2, 2, 2, 2, 2, 2, 2, 2, 2, 2, 2, 2, 2, 2, 2, 2, 2, 2, 2, 2, 2, 2, 2, 2, 2, 2, 2, 2, 2, 2, 2, 2, 2, 2, 2, 2, 2, 2, 2, 2, 2, 2, 2, 2, 2, 2, 2, 2, 2, 2, 2, 2, 2, 2, 2, 2, 2, 2, 2, 2, 2, 2, 2, 2, 2, 2, 2, 2, 2, 2, 2, 2, 2, 2, 2, 2, 2, 2, 2, 2, 2, 2, 2, 2, 2, 2, 2, 2, 2, 2, 2, 2, 2, 2, 2, 2, 2, 2, 2, 2, 2, 2, 2, 2, 2, 2, 2, 2, 2, 2, 2, 2, 2, 2, 2, 2, 2, 2, 2, 2, 2, 2, 2, 2, 2, 2, 2, 2, 2, 2, 2, 2, 2, 2, 2, 2, 2, 2, 2, 2, 2, 2, 2, 2, 2, 2, 2, 2, 2, 2, 2, 2, 2, 2, 2, 2, 2, 2, 2, 2, 2, 2, 2, 2, 2, 2, 2, 2, 2, 2, 2, 2, 2, 2, 2, 2, 2, 2, 2, 2, 2, 2, 2, 2, 2, 2, 2, 2, 2, 2, 2, 2, 2, 2, 2, 2, 2, 2, 2, 2, 2, 2, 2, 2, 2, 2, 2, 2, 2]\n"
     ]
    }
   ],
   "source": [
    "print(Y_preprocessed[7373])"
   ]
  },
  {
   "cell_type": "code",
   "execution_count": 50,
   "metadata": {},
   "outputs": [
    {
     "name": "stdout",
     "output_type": "stream",
     "text": [
      "[1, 2, 3, 2, 2, 2, 3, 2, 2, 2, 2, 2, 2, 2, 2, 2, 2, 2, 2, 2, 2, 2, 2, 2, 2, 2, 2, 2, 2, 2, 2, 2, 2, 2, 2, 2, 2, 2, 2, 2, 2, 2, 2, 2, 2, 2, 2, 2, 2, 2, 2, 2, 2, 2, 2, 2, 2, 2, 2, 2, 2, 2, 2, 2, 2, 2, 2, 2, 2, 2, 2, 2, 2, 2, 2, 2, 2, 2, 2, 2, 2, 2, 2, 2, 2, 2, 2, 2, 2, 2, 2, 2, 2, 2, 2, 2, 2, 2, 2, 2, 2, 2, 2, 2, 2, 2, 2, 2, 2, 2, 2, 2, 2, 2, 2, 2, 2, 2, 2, 2, 2, 2, 2, 2, 2, 2, 2, 2, 2, 2, 2, 2, 2, 2, 2, 2, 2, 2, 2, 2, 2, 2, 2, 2, 2, 2, 2, 2, 2, 2, 2, 2, 2, 2, 2, 2, 2, 2, 2, 2, 2, 2, 2, 2, 2, 2, 2, 2, 2, 2, 2, 2, 2, 2, 2, 2, 2, 2, 2, 2, 2, 2, 2, 2, 2, 2, 2, 2, 2, 2, 2, 2, 2, 2, 2, 2, 2, 2, 2, 2, 2, 2, 2, 2, 2, 2, 2, 2, 2, 2, 2, 2, 2, 2, 2, 2, 2, 2, 2, 2, 2, 2, 2, 2, 2, 2, 2, 2, 2, 2, 2, 2, 2, 2, 2, 2, 2, 2, 2, 2, 2, 2, 2, 2, 2, 2, 2, 2, 2, 2, 2, 2, 2, 2, 2, 2]\n"
     ]
    }
   ],
   "source": [
    "print(Y_preprocessed[0])"
   ]
  },
  {
   "cell_type": "code",
   "execution_count": 52,
   "metadata": {
    "execution": {
     "iopub.execute_input": "2022-01-15T16:28:31.99478Z",
     "iopub.status.busy": "2022-01-15T16:28:31.994074Z",
     "iopub.status.idle": "2022-01-15T16:28:32.002239Z",
     "shell.execute_reply": "2022-01-15T16:28:32.001446Z",
     "shell.execute_reply.started": "2022-01-15T16:28:31.994742Z"
    }
   },
   "outputs": [
    {
     "name": "stdout",
     "output_type": "stream",
     "text": [
      "['B-ORG', 'O', 'B-MISC', 'O', 'O', 'O', 'B-MISC', 'O', 'O']\n"
     ]
    }
   ],
   "source": [
    "print(Y_ready[0])"
   ]
  },
  {
   "cell_type": "markdown",
   "metadata": {},
   "source": [
    "- **Data shuffling and splitting**"
   ]
  },
  {
   "cell_type": "code",
   "execution_count": 53,
   "metadata": {
    "execution": {
     "iopub.execute_input": "2022-01-15T16:28:33.782947Z",
     "iopub.status.busy": "2022-01-15T16:28:33.782269Z",
     "iopub.status.idle": "2022-01-15T16:28:33.789623Z",
     "shell.execute_reply": "2022-01-15T16:28:33.788713Z",
     "shell.execute_reply.started": "2022-01-15T16:28:33.782893Z"
    }
   },
   "outputs": [
    {
     "name": "stdout",
     "output_type": "stream",
     "text": [
      "The Lenght of training examples: 7374\n",
      "The Lenght of training targets: 7374\n"
     ]
    }
   ],
   "source": [
    "print(\"The Lenght of training examples: {}\".format(len(X_preprocessed)))\n",
    "print(\"The Lenght of training targets: {}\".format(len(Y_preprocessed)))"
   ]
  },
  {
   "cell_type": "code",
   "execution_count": 54,
   "metadata": {
    "execution": {
     "iopub.execute_input": "2022-01-15T16:28:34.065115Z",
     "iopub.status.busy": "2022-01-15T16:28:34.064779Z",
     "iopub.status.idle": "2022-01-15T16:28:35.13735Z",
     "shell.execute_reply": "2022-01-15T16:28:35.136336Z",
     "shell.execute_reply.started": "2022-01-15T16:28:34.065085Z"
    }
   },
   "outputs": [],
   "source": [
    "X_preprocessed = np.asarray(X_preprocessed)\n",
    "# Y_preprocessed = [np.array(inner_list) for inner_list in Y_preprocessed]\n",
    "Y_preprocessed = np.asarray(Y_preprocessed)\n",
    "# Y_preprocessed = np.asarray(Y_preprocessed_arrays)"
   ]
  },
  {
   "cell_type": "code",
   "execution_count": 55,
   "metadata": {},
   "outputs": [
    {
     "data": {
      "text/plain": [
       "array([[1, 2, 3, ..., 2, 2, 2],\n",
       "       [4, 5, 6, ..., 2, 2, 2],\n",
       "       [6, 2, 2, ..., 2, 2, 2],\n",
       "       ...,\n",
       "       [6, 2, 6, ..., 2, 2, 2],\n",
       "       [6, 2, 6, ..., 2, 2, 2],\n",
       "       [2, 2, 2, ..., 2, 2, 2]])"
      ]
     },
     "execution_count": 55,
     "metadata": {},
     "output_type": "execute_result"
    }
   ],
   "source": [
    "Y_preprocessed"
   ]
  },
  {
   "cell_type": "code",
   "execution_count": 56,
   "metadata": {},
   "outputs": [
    {
     "data": {
      "text/plain": [
       "array([[  946, 10290,   208, ...,     0,     0,     0],\n",
       "       [  765,  1880,   749, ...,     0,     0,     0],\n",
       "       [  142,    12,  3006, ...,     0,     0,     0],\n",
       "       ...,\n",
       "       [17545,     1,     1, ...,     0,     0,     0],\n",
       "       [ 1915,     1,     1, ...,     0,     0,     0],\n",
       "       [   21,    88,   389, ...,     0,     0,     0]])"
      ]
     },
     "execution_count": 56,
     "metadata": {},
     "output_type": "execute_result"
    }
   ],
   "source": [
    "X_preprocessed"
   ]
  },
  {
   "cell_type": "code",
   "execution_count": 130,
   "metadata": {},
   "outputs": [],
   "source": [
    "from sklearn.model_selection import train_test_split\n",
    "\n",
    "X_train, X_test, Y_train, Y_test = train_test_split(X_preprocessed,Y_preprocessed, test_size=0.20)"
   ]
  },
  {
   "cell_type": "code",
   "execution_count": null,
   "metadata": {},
   "outputs": [],
   "source": []
  },
  {
   "cell_type": "markdown",
   "metadata": {},
   "source": [
    "# 4- Model Training and Evaluation"
   ]
  },
  {
   "cell_type": "code",
   "execution_count": 131,
   "metadata": {
    "execution": {
     "iopub.execute_input": "2022-01-15T16:28:37.426614Z",
     "iopub.status.busy": "2022-01-15T16:28:37.426048Z",
     "iopub.status.idle": "2022-01-15T16:28:37.432265Z",
     "shell.execute_reply": "2022-01-15T16:28:37.431596Z",
     "shell.execute_reply.started": "2022-01-15T16:28:37.426574Z"
    }
   },
   "outputs": [
    {
     "data": {
      "text/plain": [
       "array([   21,    47,   411,  2319,  1609,     5, 15596,  1760,    77,\n",
       "           0,     0,     0,     0,     0,     0,     0,     0,     0,\n",
       "           0,     0,     0,     0,     0,     0,     0,     0,     0,\n",
       "           0,     0,     0,     0,     0,     0,     0,     0,     0,\n",
       "           0,     0,     0,     0,     0,     0,     0,     0,     0,\n",
       "           0,     0,     0,     0,     0,     0,     0,     0,     0,\n",
       "           0,     0,     0,     0,     0,     0,     0,     0,     0,\n",
       "           0,     0,     0,     0,     0,     0,     0,     0,     0,\n",
       "           0,     0,     0,     0,     0,     0,     0,     0,     0,\n",
       "           0,     0,     0,     0,     0,     0,     0,     0,     0,\n",
       "           0,     0,     0,     0,     0,     0,     0,     0,     0,\n",
       "           0,     0,     0,     0,     0,     0,     0,     0,     0,\n",
       "           0,     0,     0,     0,     0,     0,     0,     0,     0,\n",
       "           0,     0,     0,     0,     0,     0,     0,     0,     0,\n",
       "           0,     0,     0,     0,     0,     0,     0,     0,     0,\n",
       "           0,     0,     0,     0,     0,     0,     0,     0,     0,\n",
       "           0,     0,     0,     0,     0,     0,     0,     0,     0,\n",
       "           0,     0,     0,     0,     0,     0,     0,     0,     0,\n",
       "           0,     0,     0,     0,     0,     0,     0,     0,     0,\n",
       "           0,     0,     0,     0,     0,     0,     0,     0,     0,\n",
       "           0,     0,     0,     0,     0,     0,     0,     0,     0,\n",
       "           0,     0,     0,     0,     0,     0,     0,     0,     0,\n",
       "           0,     0,     0,     0,     0,     0,     0,     0,     0,\n",
       "           0,     0,     0,     0,     0,     0,     0,     0,     0,\n",
       "           0,     0,     0,     0,     0,     0,     0,     0,     0,\n",
       "           0,     0,     0,     0,     0,     0,     0,     0,     0,\n",
       "           0,     0,     0,     0,     0,     0,     0,     0,     0,\n",
       "           0,     0,     0,     0,     0,     0,     0,     0,     0,\n",
       "           0,     0,     0,     0])"
      ]
     },
     "execution_count": 131,
     "metadata": {},
     "output_type": "execute_result"
    }
   ],
   "source": [
    "X_train[1000]"
   ]
  },
  {
   "cell_type": "code",
   "execution_count": 132,
   "metadata": {
    "execution": {
     "iopub.execute_input": "2022-01-15T16:28:37.641071Z",
     "iopub.status.busy": "2022-01-15T16:28:37.640827Z",
     "iopub.status.idle": "2022-01-15T16:28:37.64719Z",
     "shell.execute_reply": "2022-01-15T16:28:37.646309Z",
     "shell.execute_reply.started": "2022-01-15T16:28:37.641042Z"
    }
   },
   "outputs": [
    {
     "data": {
      "text/plain": [
       "array([2, 3, 2, 2, 2, 2, 2, 2, 2, 2, 2, 2, 2, 2, 2, 2, 2, 2, 2, 2, 2, 2,\n",
       "       2, 2, 2, 2, 2, 2, 2, 2, 2, 2, 2, 2, 2, 2, 2, 2, 2, 2, 2, 2, 2, 2,\n",
       "       2, 2, 2, 2, 2, 2, 2, 2, 2, 2, 2, 2, 2, 2, 2, 2, 2, 2, 2, 2, 2, 2,\n",
       "       2, 2, 2, 2, 2, 2, 2, 2, 2, 2, 2, 2, 2, 2, 2, 2, 2, 2, 2, 2, 2, 2,\n",
       "       2, 2, 2, 2, 2, 2, 2, 2, 2, 2, 2, 2, 2, 2, 2, 2, 2, 2, 2, 2, 2, 2,\n",
       "       2, 2, 2, 2, 2, 2, 2, 2, 2, 2, 2, 2, 2, 2, 2, 2, 2, 2, 2, 2, 2, 2,\n",
       "       2, 2, 2, 2, 2, 2, 2, 2, 2, 2, 2, 2, 2, 2, 2, 2, 2, 2, 2, 2, 2, 2,\n",
       "       2, 2, 2, 2, 2, 2, 2, 2, 2, 2, 2, 2, 2, 2, 2, 2, 2, 2, 2, 2, 2, 2,\n",
       "       2, 2, 2, 2, 2, 2, 2, 2, 2, 2, 2, 2, 2, 2, 2, 2, 2, 2, 2, 2, 2, 2,\n",
       "       2, 2, 2, 2, 2, 2, 2, 2, 2, 2, 2, 2, 2, 2, 2, 2, 2, 2, 2, 2, 2, 2,\n",
       "       2, 2, 2, 2, 2, 2, 2, 2, 2, 2, 2, 2, 2, 2, 2, 2, 2, 2, 2, 2, 2, 2,\n",
       "       2, 2, 2, 2, 2, 2, 2, 2, 2, 2, 2, 2, 2, 2])"
      ]
     },
     "execution_count": 132,
     "metadata": {},
     "output_type": "execute_result"
    }
   ],
   "source": [
    "Y_train[1000]"
   ]
  },
  {
   "cell_type": "code",
   "execution_count": 133,
   "metadata": {
    "execution": {
     "iopub.execute_input": "2022-01-15T16:28:37.837546Z",
     "iopub.status.busy": "2022-01-15T16:28:37.837325Z",
     "iopub.status.idle": "2022-01-15T16:28:37.842683Z",
     "shell.execute_reply": "2022-01-15T16:28:37.84193Z",
     "shell.execute_reply.started": "2022-01-15T16:28:37.83752Z"
    }
   },
   "outputs": [
    {
     "data": {
      "text/plain": [
       "'jordan'"
      ]
     },
     "execution_count": 133,
     "metadata": {},
     "output_type": "execute_result"
    }
   ],
   "source": [
    "id2word[729]"
   ]
  },
  {
   "cell_type": "markdown",
   "metadata": {},
   "source": [
    "## Load dataset to the model using train_dataset = tf.data.Dataset \n"
   ]
  },
  {
   "cell_type": "code",
   "execution_count": 134,
   "metadata": {},
   "outputs": [
    {
     "data": {
      "text/plain": [
       "array([[1286,  224,  454,   40, 2522,  219,    5,  374,   56, 1727,    1,\n",
       "           1,   26,   10,    0,    0,    0,    0,    0,    0,    0,    0,\n",
       "           0,    0,    0,    0,    0,    0,    0,    0,    0,    0,    0,\n",
       "           0,    0,    0,    0,    0,    0,    0,    0,    0,    0,    0,\n",
       "           0,    0,    0,    0,    0,    0,    0,    0,    0,    0,    0,\n",
       "           0,    0,    0,    0,    0,    0,    0,    0,    0,    0,    0,\n",
       "           0,    0,    0,    0,    0,    0,    0,    0,    0,    0,    0,\n",
       "           0,    0,    0,    0,    0,    0,    0,    0,    0,    0,    0,\n",
       "           0,    0,    0,    0,    0,    0,    0,    0,    0,    0,    0,\n",
       "           0,    0,    0,    0,    0,    0,    0,    0,    0,    0,    0,\n",
       "           0,    0,    0,    0,    0,    0,    0,    0,    0,    0,    0,\n",
       "           0,    0,    0,    0,    0,    0,    0,    0,    0,    0,    0,\n",
       "           0,    0,    0,    0,    0,    0,    0,    0,    0,    0,    0,\n",
       "           0,    0,    0,    0,    0,    0,    0,    0,    0,    0,    0,\n",
       "           0,    0,    0,    0,    0,    0,    0,    0,    0,    0,    0,\n",
       "           0,    0,    0,    0,    0,    0,    0,    0,    0,    0,    0,\n",
       "           0,    0,    0,    0,    0,    0,    0,    0,    0,    0,    0,\n",
       "           0,    0,    0,    0,    0,    0,    0,    0,    0,    0,    0,\n",
       "           0,    0,    0,    0,    0,    0,    0,    0,    0,    0,    0,\n",
       "           0,    0,    0,    0,    0,    0,    0,    0,    0,    0,    0,\n",
       "           0,    0,    0,    0,    0,    0,    0,    0,    0,    0,    0,\n",
       "           0,    0,    0,    0,    0,    0,    0,    0,    0,    0,    0,\n",
       "           0,    0,    0,    0,    0,    0,    0,    0,    0,    0,    0,\n",
       "           0,    0,    0],\n",
       "       [2740,  175,  115, 3220, 8128, 1409,   17, 1588,  659, 4296,    6,\n",
       "        2740,   75, 1981,    9,  107,  576,   15,  266,   23,   35, 1748,\n",
       "        8130,    7,    6, 3150, 2766,  187,  284, 3557, 5075,  486,    0,\n",
       "           0,    0,    0,    0,    0,    0,    0,    0,    0,    0,    0,\n",
       "           0,    0,    0,    0,    0,    0,    0,    0,    0,    0,    0,\n",
       "           0,    0,    0,    0,    0,    0,    0,    0,    0,    0,    0,\n",
       "           0,    0,    0,    0,    0,    0,    0,    0,    0,    0,    0,\n",
       "           0,    0,    0,    0,    0,    0,    0,    0,    0,    0,    0,\n",
       "           0,    0,    0,    0,    0,    0,    0,    0,    0,    0,    0,\n",
       "           0,    0,    0,    0,    0,    0,    0,    0,    0,    0,    0,\n",
       "           0,    0,    0,    0,    0,    0,    0,    0,    0,    0,    0,\n",
       "           0,    0,    0,    0,    0,    0,    0,    0,    0,    0,    0,\n",
       "           0,    0,    0,    0,    0,    0,    0,    0,    0,    0,    0,\n",
       "           0,    0,    0,    0,    0,    0,    0,    0,    0,    0,    0,\n",
       "           0,    0,    0,    0,    0,    0,    0,    0,    0,    0,    0,\n",
       "           0,    0,    0,    0,    0,    0,    0,    0,    0,    0,    0,\n",
       "           0,    0,    0,    0,    0,    0,    0,    0,    0,    0,    0,\n",
       "           0,    0,    0,    0,    0,    0,    0,    0,    0,    0,    0,\n",
       "           0,    0,    0,    0,    0,    0,    0,    0,    0,    0,    0,\n",
       "           0,    0,    0,    0,    0,    0,    0,    0,    0,    0,    0,\n",
       "           0,    0,    0,    0,    0,    0,    0,    0,    0,    0,    0,\n",
       "           0,    0,    0,    0,    0,    0,    0,    0,    0,    0,    0,\n",
       "           0,    0,    0,    0,    0,    0,    0,    0,    0,    0,    0,\n",
       "           0,    0,    0]])"
      ]
     },
     "execution_count": 134,
     "metadata": {},
     "output_type": "execute_result"
    }
   ],
   "source": [
    "X_train[:2]"
   ]
  },
  {
   "cell_type": "code",
   "execution_count": 135,
   "metadata": {
    "_kg_hide-output": true,
    "execution": {
     "iopub.execute_input": "2022-01-15T16:28:39.683644Z",
     "iopub.status.busy": "2022-01-15T16:28:39.682944Z",
     "iopub.status.idle": "2022-01-15T16:28:41.985145Z",
     "shell.execute_reply": "2022-01-15T16:28:41.98435Z",
     "shell.execute_reply.started": "2022-01-15T16:28:39.683607Z"
    }
   },
   "outputs": [],
   "source": [
    "train_dataset = tf.data.Dataset.from_tensor_slices((X_train, Y_train))\n",
    "val_dataset = tf.data.Dataset.from_tensor_slices((X_val, Y_val))\n",
    "test_dataset = tf.data.Dataset.from_tensor_slices((X_test, Y_test))"
   ]
  },
  {
   "cell_type": "code",
   "execution_count": 136,
   "metadata": {
    "execution": {
     "iopub.execute_input": "2022-01-15T16:29:10.048431Z",
     "iopub.status.busy": "2022-01-15T16:29:10.047767Z",
     "iopub.status.idle": "2022-01-15T16:29:10.063802Z",
     "shell.execute_reply": "2022-01-15T16:29:10.062899Z",
     "shell.execute_reply.started": "2022-01-15T16:29:10.048383Z"
    }
   },
   "outputs": [],
   "source": [
    "BATCH_SIZE = 132\n",
    "SHUFFLE_BUFFER_SIZE = 132\n",
    "\n",
    "train_dataset = train_dataset.shuffle(SHUFFLE_BUFFER_SIZE).batch(BATCH_SIZE)\n",
    "val_dataset = val_dataset.batch(BATCH_SIZE)\n",
    "test_dataset = test_dataset.batch(BATCH_SIZE)"
   ]
  },
  {
   "cell_type": "code",
   "execution_count": 137,
   "metadata": {
    "execution": {
     "iopub.execute_input": "2022-01-15T16:29:11.034833Z",
     "iopub.status.busy": "2022-01-15T16:29:11.034112Z",
     "iopub.status.idle": "2022-01-15T16:29:12.114376Z",
     "shell.execute_reply": "2022-01-15T16:29:12.113655Z",
     "shell.execute_reply.started": "2022-01-15T16:29:11.034793Z"
    }
   },
   "outputs": [],
   "source": [
    "embedding_dim = 300\n",
    "maxlen = 256\n",
    "max_words = 36000\n",
    "num_tags = len(tags)\n",
    "\n",
    "# model = tf.keras.models.Sequential([\n",
    "#     tf.keras.layers.Embedding(max_words, embedding_dim, input_length=maxlen),\n",
    "#     tf.keras.layers.Bidirectional(tf.keras.layers.LSTM(units=100, activation='tanh', return_sequences=True)),\n",
    "#     tf.keras.layers.Bidirectional(tf.keras.layers.LSTM(units=100, activation='tanh', return_sequences=True)),\n",
    "#     tf.keras.layers.TimeDistributed(tf.keras.layers.Dense(num_tags, activation='softmax'))\n",
    "# ])"
   ]
  },
  {
   "cell_type": "code",
   "execution_count": 140,
   "metadata": {},
   "outputs": [],
   "source": [
    "import tensorflow as tf\n",
    "\n",
    "embedding_dim = 300\n",
    "maxlen = 256\n",
    "max_words = 36000\n",
    "num_tags = len(tags)\n",
    "\n",
    "model = tf.keras.models.Sequential([\n",
    "    tf.keras.layers.Embedding(max_words, embedding_dim, input_length=maxlen, mask_zero=True),\n",
    "    tf.keras.layers.Bidirectional(tf.keras.layers.LSTM(units=128, activation='tanh', return_sequences=True)),\n",
    "    tf.keras.layers.Bidirectional(tf.keras.layers.LSTM(units=128, activation='tanh', return_sequences=True)),\n",
    "    tf.keras.layers.Bidirectional(tf.keras.layers.LSTM(units=64, activation='tanh', return_sequences=True)),\n",
    "    tf.keras.layers.TimeDistributed(tf.keras.layers.Dense(64, activation='relu')),\n",
    "    tf.keras.layers.Dropout(0.2),\n",
    "    tf.keras.layers.TimeDistributed(tf.keras.layers.Dense(num_tags, activation='softmax'))\n",
    "])\n",
    "\n",
    "model.compile(optimizer='adam', loss='sparse_categorical_crossentropy', metrics=['accuracy'])\n"
   ]
  },
  {
   "cell_type": "code",
   "execution_count": 143,
   "metadata": {
    "execution": {
     "iopub.execute_input": "2022-01-15T16:29:14.912633Z",
     "iopub.status.busy": "2022-01-15T16:29:14.912033Z",
     "iopub.status.idle": "2022-01-15T16:29:14.922574Z",
     "shell.execute_reply": "2022-01-15T16:29:14.921618Z",
     "shell.execute_reply.started": "2022-01-15T16:29:14.912594Z"
    }
   },
   "outputs": [
    {
     "name": "stdout",
     "output_type": "stream",
     "text": [
      "Model: \"sequential_1\"\n",
      "_________________________________________________________________\n",
      " Layer (type)                Output Shape              Param #   \n",
      "=================================================================\n",
      " embedding_1 (Embedding)     (None, 256, 300)          10800000  \n",
      "                                                                 \n",
      " bidirectional_4 (Bidirectio  (None, 256, 256)         439296    \n",
      " nal)                                                            \n",
      "                                                                 \n",
      " bidirectional_5 (Bidirectio  (None, 256, 256)         394240    \n",
      " nal)                                                            \n",
      "                                                                 \n",
      " bidirectional_6 (Bidirectio  (None, 256, 128)         164352    \n",
      " nal)                                                            \n",
      "                                                                 \n",
      " time_distributed_3 (TimeDis  (None, 256, 64)          8256      \n",
      " tributed)                                                       \n",
      "                                                                 \n",
      " dropout_76 (Dropout)        (None, 256, 64)           0         \n",
      "                                                                 \n",
      " time_distributed_4 (TimeDis  (None, 256, 10)          650       \n",
      " tributed)                                                       \n",
      "                                                                 \n",
      "=================================================================\n",
      "Total params: 11,806,794\n",
      "Trainable params: 11,806,794\n",
      "Non-trainable params: 0\n",
      "_________________________________________________________________\n"
     ]
    }
   ],
   "source": [
    "model.summary()"
   ]
  },
  {
   "cell_type": "code",
   "execution_count": 144,
   "metadata": {
    "execution": {
     "iopub.execute_input": "2022-01-15T16:29:15.180942Z",
     "iopub.status.busy": "2022-01-15T16:29:15.180697Z",
     "iopub.status.idle": "2022-01-15T16:29:15.196203Z",
     "shell.execute_reply": "2022-01-15T16:29:15.1954Z",
     "shell.execute_reply.started": "2022-01-15T16:29:15.180914Z"
    }
   },
   "outputs": [],
   "source": [
    "model.compile(loss='sparse_categorical_crossentropy',\n",
    "              optimizer='adam',\n",
    "              metrics=['accuracy'])"
   ]
  },
  {
   "cell_type": "code",
   "execution_count": 145,
   "metadata": {},
   "outputs": [],
   "source": [
    "# train_dataset.shape"
   ]
  },
  {
   "cell_type": "code",
   "execution_count": 146,
   "metadata": {
    "execution": {
     "iopub.execute_input": "2022-01-15T16:29:52.842214Z",
     "iopub.status.busy": "2022-01-15T16:29:52.841931Z",
     "iopub.status.idle": "2022-01-15T16:31:08.974781Z",
     "shell.execute_reply": "2022-01-15T16:31:08.973948Z",
     "shell.execute_reply.started": "2022-01-15T16:29:52.842177Z"
    }
   },
   "outputs": [
    {
     "name": "stdout",
     "output_type": "stream",
     "text": [
      "Epoch 1/15\n",
      "45/45 [==============================] - 151s 3s/step - loss: 0.9645 - accuracy: 0.8249 - val_loss: 0.7239 - val_accuracy: 0.8472\n",
      "Epoch 2/15\n",
      "45/45 [==============================] - 129s 3s/step - loss: 0.7544 - accuracy: 0.8411 - val_loss: 0.7114 - val_accuracy: 0.8472\n",
      "Epoch 3/15\n",
      "45/45 [==============================] - 127s 3s/step - loss: 0.7381 - accuracy: 0.8408 - val_loss: 0.6862 - val_accuracy: 0.8472\n",
      "Epoch 4/15\n",
      "45/45 [==============================] - 126s 3s/step - loss: 0.7151 - accuracy: 0.8409 - val_loss: 0.6478 - val_accuracy: 0.8470\n",
      "Epoch 5/15\n",
      "45/45 [==============================] - 127s 3s/step - loss: 0.6538 - accuracy: 0.8412 - val_loss: 0.5871 - val_accuracy: 0.8482\n",
      "Epoch 6/15\n",
      "45/45 [==============================] - 128s 3s/step - loss: 0.6016 - accuracy: 0.8420 - val_loss: 0.5533 - val_accuracy: 0.8496\n",
      "Epoch 7/15\n",
      "45/45 [==============================] - 130s 3s/step - loss: 0.5615 - accuracy: 0.8444 - val_loss: 0.5173 - val_accuracy: 0.8517\n",
      "Epoch 8/15\n",
      "45/45 [==============================] - 132s 3s/step - loss: 0.5193 - accuracy: 0.8470 - val_loss: 0.4840 - val_accuracy: 0.8571\n",
      "Epoch 9/15\n",
      "45/45 [==============================] - 133s 3s/step - loss: 0.4727 - accuracy: 0.8536 - val_loss: 0.4478 - val_accuracy: 0.8637\n",
      "Epoch 10/15\n",
      "45/45 [==============================] - 131s 3s/step - loss: 0.4280 - accuracy: 0.8633 - val_loss: 0.3992 - val_accuracy: 0.8776\n",
      "Epoch 11/15\n",
      "45/45 [==============================] - 141s 3s/step - loss: 0.3969 - accuracy: 0.8719 - val_loss: 0.3674 - val_accuracy: 0.8856\n",
      "Epoch 12/15\n",
      "45/45 [==============================] - 134s 3s/step - loss: 0.3603 - accuracy: 0.8807 - val_loss: 0.3419 - val_accuracy: 0.8911\n",
      "Epoch 13/15\n",
      "45/45 [==============================] - 131s 3s/step - loss: 0.3242 - accuracy: 0.8912 - val_loss: 0.3254 - val_accuracy: 0.8990\n",
      "Epoch 14/15\n",
      "45/45 [==============================] - 131s 3s/step - loss: 0.2991 - accuracy: 0.8990 - val_loss: 0.3085 - val_accuracy: 0.9058\n",
      "Epoch 15/15\n",
      "45/45 [==============================] - 130s 3s/step - loss: 0.2781 - accuracy: 0.9065 - val_loss: 0.3325 - val_accuracy: 0.9015\n"
     ]
    }
   ],
   "source": [
    "history = model.fit(train_dataset,\n",
    "                    validation_data=val_dataset,\n",
    "                    epochs=15)"
   ]
  },
  {
   "cell_type": "code",
   "execution_count": 84,
   "metadata": {
    "execution": {
     "iopub.execute_input": "2022-01-15T16:31:08.976723Z",
     "iopub.status.busy": "2022-01-15T16:31:08.976525Z",
     "iopub.status.idle": "2022-01-15T16:31:09.951793Z",
     "shell.execute_reply": "2022-01-15T16:31:09.951076Z",
     "shell.execute_reply.started": "2022-01-15T16:31:08.976698Z"
    }
   },
   "outputs": [
    {
     "name": "stdout",
     "output_type": "stream",
     "text": [
      "9/9 [==============================] - 6s 639ms/step - loss: 0.6121 - accuracy: 0.8293\n"
     ]
    },
    {
     "data": {
      "text/plain": [
       "[0.6120505928993225, 0.8292989730834961]"
      ]
     },
     "execution_count": 84,
     "metadata": {},
     "output_type": "execute_result"
    }
   ],
   "source": [
    "model.evaluate(test_dataset)"
   ]
  },
  {
   "cell_type": "code",
   "execution_count": 85,
   "metadata": {
    "execution": {
     "iopub.execute_input": "2022-01-15T16:31:09.953301Z",
     "iopub.status.busy": "2022-01-15T16:31:09.953026Z",
     "iopub.status.idle": "2022-01-15T16:31:10.344047Z",
     "shell.execute_reply": "2022-01-15T16:31:10.343396Z",
     "shell.execute_reply.started": "2022-01-15T16:31:09.953262Z"
    }
   },
   "outputs": [
    {
     "data": {
      "image/png": "[encoded data removed]",
      "text/plain": [
       "<Figure size 480x320 with 2 Axes>"
      ]
     },
     "metadata": {},
     "output_type": "display_data"
    }
   ],
   "source": [
    "acc = history.history['accuracy']\n",
    "val_acc = history.history['val_accuracy']\n",
    "\n",
    "loss = history.history['loss']\n",
    "val_loss = history.history['val_loss']\n",
    "\n",
    "epochs = range(1, len(acc) + 1)\n",
    "\n",
    "fig, ax = plt.subplots(1, 2, constrained_layout=True, figsize=(6, 4), dpi=80)\n",
    "\n",
    "ax[0].plot(epochs, acc, label = \"Training Accuracy\", color='darkblue')\n",
    "ax[0].plot(epochs, val_acc, label = \"Validation Accuracy\", color='darkgreen')\n",
    "ax[0].grid(alpha=0.3)\n",
    "ax[0].title.set_text('Training Vs Validation Accuracy')\n",
    "ax[0].fill_between(epochs, acc, val_acc, color='crimson', alpha=0.3)\n",
    "plt.setp(ax[0], xlabel='Epochs')\n",
    "plt.setp(ax[0], ylabel='Accuracy')\n",
    "\n",
    "\n",
    "ax[1].plot(epochs, loss, label = \"Training Loss\", color='darkblue')\n",
    "ax[1].plot(epochs, val_loss, label = \"Validation Loss\", color='darkgreen')\n",
    "ax[1].grid(alpha=0.3)\n",
    "ax[1].title.set_text('Training Vs Validation Loss')\n",
    "ax[1].fill_between(epochs,loss, val_loss, color='crimson', alpha=0.3)\n",
    "plt.setp(ax[1], xlabel='Epochs')\n",
    "plt.setp(ax[1], ylabel='Loss')\n",
    "\n",
    "plt.show()"
   ]
  },
  {
   "cell_type": "code",
   "execution_count": 86,
   "metadata": {
    "execution": {
     "iopub.execute_input": "2022-01-15T16:31:10.346328Z",
     "iopub.status.busy": "2022-01-15T16:31:10.345915Z",
     "iopub.status.idle": "2022-01-15T16:31:10.353837Z",
     "shell.execute_reply": "2022-01-15T16:31:10.353213Z",
     "shell.execute_reply.started": "2022-01-15T16:31:10.346288Z"
    }
   },
   "outputs": [],
   "source": [
    "def make_prediction(model, preprocessed_sentence, id2word, id2tag):\n",
    "    \n",
    "    preprocessed_sentence = preprocessed_sentence.reshape((1, 256))\n",
    "     \n",
    "    sentence = preprocessed_sentence[preprocessed_sentence > 0]\n",
    "    word_list = []\n",
    "    for word in list(sentence):\n",
    "        word_list.append(id2word[word])\n",
    "    orginal_sententce = ' '.join(word_list)\n",
    "    \n",
    "    len_orginal_sententce = len(word_list)\n",
    "    \n",
    "    prediction = model.predict(preprocessed_sentence)\n",
    "    prediction = np.argmax(prediction[0], axis=1)\n",
    "    \n",
    "    prediction = list(prediction)[ : len_orginal_sententce] \n",
    "    \n",
    "    pred_tag_list = []\n",
    "    for tag_id in prediction:\n",
    "        pred_tag_list.append(id2tag[tag_id])\n",
    "    \n",
    "    return (orginal_sententce,  pred_tag_list)"
   ]
  },
  {
   "cell_type": "code",
   "execution_count": 87,
   "metadata": {
    "execution": {
     "iopub.execute_input": "2022-01-15T16:31:10.355112Z",
     "iopub.status.busy": "2022-01-15T16:31:10.354896Z",
     "iopub.status.idle": "2022-01-15T16:31:11.455519Z",
     "shell.execute_reply": "2022-01-15T16:31:11.454729Z",
     "shell.execute_reply.started": "2022-01-15T16:31:10.355087Z"
    }
   },
   "outputs": [
    {
     "name": "stdout",
     "output_type": "stream",
     "text": [
      "1/1 [==============================] - 6s 6s/step\n"
     ]
    }
   ],
   "source": [
    "(orginal_sententce,  pred_tag_list) = make_prediction(model=model,\n",
    "                                                    preprocessed_sentence=X_test[520],\n",
    "                                                    id2word=id2word,\n",
    "                                                    id2tag=id2tag)"
   ]
  },
  {
   "cell_type": "code",
   "execution_count": 91,
   "metadata": {},
   "outputs": [
    {
     "name": "stdout",
     "output_type": "stream",
     "text": [
      "1/1 [==============================] - 1s 1s/step\n"
     ]
    },
    {
     "data": {
      "text/plain": [
       "['O',\n",
       " 'O',\n",
       " 'O',\n",
       " 'O',\n",
       " 'O',\n",
       " 'O',\n",
       " 'O',\n",
       " 'O',\n",
       " 'O',\n",
       " 'O',\n",
       " 'O',\n",
       " 'O',\n",
       " 'O',\n",
       " 'O',\n",
       " 'O',\n",
       " 'O',\n",
       " 'O',\n",
       " 'O',\n",
       " 'O',\n",
       " 'O',\n",
       " 'O',\n",
       " 'O',\n",
       " 'O',\n",
       " 'O',\n",
       " 'O',\n",
       " 'O']"
      ]
     },
     "execution_count": 91,
     "metadata": {},
     "output_type": "execute_result"
    }
   ],
   "source": [
    "make_prediction(model=loaded_model, preprocessed_sentence=X_test[100], id2word=id2word, id2tag=id2tag)[1]"
   ]
  },
  {
   "cell_type": "code",
   "execution_count": 92,
   "metadata": {},
   "outputs": [
    {
     "name": "stdout",
     "output_type": "stream",
     "text": [
      "1/1 [==============================] - 0s 37ms/step\n"
     ]
    },
    {
     "data": {
      "text/plain": [
       "'jerry bieszk 312 408 8725 docstart wheat rains boost u s hrw planting prospects'"
      ]
     },
     "execution_count": 92,
     "metadata": {},
     "output_type": "execute_result"
    }
   ],
   "source": [
    "make_prediction(model=loaded_model, preprocessed_sentence=X_test[200], id2word=id2word, id2tag=id2tag)[0]"
   ]
  },
  {
   "cell_type": "code",
   "execution_count": 93,
   "metadata": {},
   "outputs": [
    {
     "data": {
      "text/plain": [
       "array([  325,   341,    20,    22,    86,  7857,  6186,   155,    12,\n",
       "        2120,   504,    74,  5735,   381, 11200,     3,  3031,   388,\n",
       "          36,    55,  4189,  2340,     1,     1, 11201, 11202, 11203,\n",
       "         640,    10,     0,     0,     0,     0,     0,     0,     0,\n",
       "           0,     0,     0,     0,     0,     0,     0,     0,     0,\n",
       "           0,     0,     0,     0,     0,     0,     0,     0,     0,\n",
       "           0,     0,     0,     0,     0,     0,     0,     0,     0,\n",
       "           0,     0,     0,     0,     0,     0,     0,     0,     0,\n",
       "           0,     0,     0,     0,     0,     0,     0,     0,     0,\n",
       "           0,     0,     0,     0,     0,     0,     0,     0,     0,\n",
       "           0,     0,     0,     0,     0,     0,     0,     0,     0,\n",
       "           0,     0,     0,     0,     0,     0,     0,     0,     0,\n",
       "           0,     0,     0,     0,     0,     0,     0,     0,     0,\n",
       "           0,     0,     0,     0,     0,     0,     0,     0,     0,\n",
       "           0,     0,     0,     0,     0,     0,     0,     0,     0,\n",
       "           0,     0,     0,     0,     0,     0,     0,     0,     0,\n",
       "           0,     0,     0,     0,     0,     0,     0,     0,     0,\n",
       "           0,     0,     0,     0,     0,     0,     0,     0,     0,\n",
       "           0,     0,     0,     0,     0,     0,     0,     0,     0,\n",
       "           0,     0,     0,     0,     0,     0,     0,     0,     0,\n",
       "           0,     0,     0,     0,     0,     0,     0,     0,     0,\n",
       "           0,     0,     0,     0,     0,     0,     0,     0,     0,\n",
       "           0,     0,     0,     0,     0,     0,     0,     0,     0,\n",
       "           0,     0,     0,     0,     0,     0,     0,     0,     0,\n",
       "           0,     0,     0,     0,     0,     0,     0,     0,     0,\n",
       "           0,     0,     0,     0,     0,     0,     0,     0,     0,\n",
       "           0,     0,     0,     0,     0,     0,     0,     0,     0,\n",
       "           0,     0,     0,     0,     0,     0,     0,     0,     0,\n",
       "           0,     0,     0,     0])"
      ]
     },
     "execution_count": 93,
     "metadata": {},
     "output_type": "execute_result"
    }
   ],
   "source": [
    "X_test[520]"
   ]
  },
  {
   "cell_type": "code",
   "execution_count": 94,
   "metadata": {
    "execution": {
     "iopub.execute_input": "2022-01-15T16:31:11.459112Z",
     "iopub.status.busy": "2022-01-15T16:31:11.458094Z",
     "iopub.status.idle": "2022-01-15T16:31:11.46367Z",
     "shell.execute_reply": "2022-01-15T16:31:11.462968Z",
     "shell.execute_reply.started": "2022-01-15T16:31:11.459079Z"
    }
   },
   "outputs": [
    {
     "name": "stdout",
     "output_type": "stream",
     "text": [
      "hong kong 1996 08 22 ka wah bank 's hk 43 million floating rate certificate of deposit issue has been privately placed o o sole arranger hsbc markets said\n"
     ]
    }
   ],
   "source": [
    "print(orginal_sententce)"
   ]
  },
  {
   "cell_type": "code",
   "execution_count": 95,
   "metadata": {
    "execution": {
     "iopub.execute_input": "2022-01-15T16:31:11.465376Z",
     "iopub.status.busy": "2022-01-15T16:31:11.464779Z",
     "iopub.status.idle": "2022-01-15T16:31:11.472994Z",
     "shell.execute_reply": "2022-01-15T16:31:11.47223Z",
     "shell.execute_reply.started": "2022-01-15T16:31:11.465333Z"
    }
   },
   "outputs": [
    {
     "name": "stdout",
     "output_type": "stream",
     "text": [
      "['B-LOC', 'I-LOC', 'O', 'O', 'O', 'B-ORG', 'I-ORG', 'I-ORG', 'O', 'O', 'O', 'O', 'O', 'B-ORG', 'I-ORG', 'O', 'O', 'O', 'O', 'O', 'O', 'O', 'O', 'O', 'O', 'O', 'O', 'O', 'O']\n"
     ]
    }
   ],
   "source": [
    "print(pred_tag_list)"
   ]
  },
  {
   "cell_type": "code",
   "execution_count": null,
   "metadata": {},
   "outputs": [],
   "source": []
  },
  {
   "cell_type": "markdown",
   "metadata": {},
   "source": [
    "# Load the model"
   ]
  },
  {
   "cell_type": "code",
   "execution_count": 89,
   "metadata": {},
   "outputs": [],
   "source": [
    "model.save('ner_nn_model_2.h5')"
   ]
  },
  {
   "cell_type": "code",
   "execution_count": 90,
   "metadata": {},
   "outputs": [],
   "source": [
    "loaded_model = tf.keras.models.load_model('ner_nn_model.h5')"
   ]
  },
  {
   "cell_type": "code",
   "execution_count": 96,
   "metadata": {},
   "outputs": [
    {
     "name": "stdout",
     "output_type": "stream",
     "text": [
      "Model: \"sequential_3\"\n",
      "_________________________________________________________________\n",
      " Layer (type)                Output Shape              Param #   \n",
      "=================================================================\n",
      " embedding_3 (Embedding)     (None, 256, 300)          10800000  \n",
      "                                                                 \n",
      " bidirectional_6 (Bidirectio  (None, 256, 200)         320800    \n",
      " nal)                                                            \n",
      "                                                                 \n",
      " bidirectional_7 (Bidirectio  (None, 256, 200)         240800    \n",
      " nal)                                                            \n",
      "                                                                 \n",
      " time_distributed_3 (TimeDis  (None, 256, 10)          2010      \n",
      " tributed)                                                       \n",
      "                                                                 \n",
      "=================================================================\n",
      "Total params: 11,363,610\n",
      "Trainable params: 11,363,610\n",
      "Non-trainable params: 0\n",
      "_________________________________________________________________\n"
     ]
    }
   ],
   "source": [
    "loaded_model.summary()"
   ]
  },
  {
   "cell_type": "markdown",
   "metadata": {},
   "source": [
    "# Check the model"
   ]
  },
  {
   "cell_type": "code",
   "execution_count": null,
   "metadata": {},
   "outputs": [],
   "source": [
    "a = make_prediction(model=loaded_model, preprocessed_sentence=pad_sequences(tokenizer.texts_to_sequences(['Lucas']), maxlen=maxlen, padding='post'), id2word=id2word, id2tag=id2tag)[1]\n",
    "a"
   ]
  },
  {
   "cell_type": "markdown",
   "metadata": {},
   "source": [
    "# Making prediction"
   ]
  },
  {
   "cell_type": "code",
   "execution_count": 97,
   "metadata": {},
   "outputs": [],
   "source": [
    "from pandas import read_csv\n",
    "\n",
    "# data = read_csv('drive/MyDrive/Colab Notebooks/compete data/train_data.csv', sep=';',  header=None, skip_blank_lines=False)\n",
    "test_data = read_csv('test_data.csv', sep=';',  header=None, skip_blank_lines=False)\n",
    "# data = read_csv('drive/MyDrive/Colab Notebooks/compete data/train_data.csv', sep=';')\n",
    "\n",
    "len(test_data)\n",
    "\n",
    "test_data.rename(columns = {0:'data'}, inplace = True)\n",
    "\n",
    "test_data['data'] = test_data['data'].fillna('')\n",
    "\n",
    "test_d = test_data[\"data\"]\n",
    "\n",
    "# X_test_d_features = tokenizer.transform(test_d)"
   ]
  },
  {
   "cell_type": "code",
   "execution_count": 98,
   "metadata": {},
   "outputs": [
    {
     "data": {
      "text/html": [
       "<div>\n",
       "<style scoped>\n",
       "    .dataframe tbody tr th:only-of-type {\n",
       "        vertical-align: middle;\n",
       "    }\n",
       "\n",
       "    .dataframe tbody tr th {\n",
       "        vertical-align: top;\n",
       "    }\n",
       "\n",
       "    .dataframe thead th {\n",
       "        text-align: right;\n",
       "    }\n",
       "</style>\n",
       "<table border=\"1\" class=\"dataframe\">\n",
       "  <thead>\n",
       "    <tr style=\"text-align: right;\">\n",
       "      <th></th>\n",
       "      <th>data</th>\n",
       "    </tr>\n",
       "  </thead>\n",
       "  <tbody>\n",
       "    <tr>\n",
       "      <th>0</th>\n",
       "      <td>RUGBY</td>\n",
       "    </tr>\n",
       "    <tr>\n",
       "      <th>1</th>\n",
       "      <td>UNION</td>\n",
       "    </tr>\n",
       "    <tr>\n",
       "      <th>2</th>\n",
       "      <td>-</td>\n",
       "    </tr>\n",
       "    <tr>\n",
       "      <th>3</th>\n",
       "      <td>CUTTITTA</td>\n",
       "    </tr>\n",
       "    <tr>\n",
       "      <th>4</th>\n",
       "      <td>BACK</td>\n",
       "    </tr>\n",
       "    <tr>\n",
       "      <th>...</th>\n",
       "      <td>...</td>\n",
       "    </tr>\n",
       "    <tr>\n",
       "      <th>49296</th>\n",
       "      <td>3</td>\n",
       "    </tr>\n",
       "    <tr>\n",
       "      <th>49297</th>\n",
       "      <td>11</td>\n",
       "    </tr>\n",
       "    <tr>\n",
       "      <th>49298</th>\n",
       "      <td>8</td>\n",
       "    </tr>\n",
       "    <tr>\n",
       "      <th>49299</th>\n",
       "      <td>30</td>\n",
       "    </tr>\n",
       "    <tr>\n",
       "      <th>49300</th>\n",
       "      <td>6</td>\n",
       "    </tr>\n",
       "  </tbody>\n",
       "</table>\n",
       "<p>49301 rows × 1 columns</p>\n",
       "</div>"
      ],
      "text/plain": [
       "            data\n",
       "0         RUGBY \n",
       "1         UNION \n",
       "2             - \n",
       "3      CUTTITTA \n",
       "4          BACK \n",
       "...          ...\n",
       "49296         3 \n",
       "49297        11 \n",
       "49298         8 \n",
       "49299        30 \n",
       "49300         6 \n",
       "\n",
       "[49301 rows x 1 columns]"
      ]
     },
     "execution_count": 98,
     "metadata": {},
     "output_type": "execute_result"
    }
   ],
   "source": [
    "test_data"
   ]
  },
  {
   "cell_type": "code",
   "execution_count": 99,
   "metadata": {},
   "outputs": [
    {
     "name": "stdout",
     "output_type": "stream",
     "text": [
      "                                              sentence\n",
      "0    [RUGBY , UNION , - , CUTTITTA , BACK , FOR , I...\n",
      "1    [Properzi , Curti , , , Carlo , Orlandi , , , ...\n",
      "2    [brightly , but , Bitar , denied , them , an ,...\n",
      "3    [23.25 ,  , 8. , Dominick , Gauthier , ( , Can...\n",
      "4    [-DOCSTART- ,  , CRICKET , - , PAKISTAN , V , ...\n",
      "..                                                 ...\n",
      "188  [27 ,  , NY , RANGERS , 11 , 13 , 5 , 97 , 86 ...\n",
      "189  [ , Pittsburgh , 5 , WASHINGTON , 3 ,  , Montr...\n",
      "190  [outpointed , Cuba , 's , Jose , Ribalta , in ...\n",
      "191  [ , Their , other , marksmen , were , Brazilia...\n",
      "192  [ , Real , Sociedad , 15 , 7 , 3 , 5 , 20 , 18...\n",
      "\n",
      "[193 rows x 1 columns]\n"
     ]
    },
    {
     "name": "stderr",
     "output_type": "stream",
     "text": [
      "C:\\Users\\hieuq\\AppData\\Local\\Temp\\ipykernel_13320\\1111861228.py:17: FutureWarning: The frame.append method is deprecated and will be removed from pandas in a future version. Use pandas.concat instead.\n",
      "  new_df = new_df.append({'sentence': sentence}, ignore_index=True)\n",
      "C:\\Users\\hieuq\\AppData\\Local\\Temp\\ipykernel_13320\\1111861228.py:17: FutureWarning: The frame.append method is deprecated and will be removed from pandas in a future version. Use pandas.concat instead.\n",
      "  new_df = new_df.append({'sentence': sentence}, ignore_index=True)\n",
      "C:\\Users\\hieuq\\AppData\\Local\\Temp\\ipykernel_13320\\1111861228.py:17: FutureWarning: The frame.append method is deprecated and will be removed from pandas in a future version. Use pandas.concat instead.\n",
      "  new_df = new_df.append({'sentence': sentence}, ignore_index=True)\n",
      "C:\\Users\\hieuq\\AppData\\Local\\Temp\\ipykernel_13320\\1111861228.py:17: FutureWarning: The frame.append method is deprecated and will be removed from pandas in a future version. Use pandas.concat instead.\n",
      "  new_df = new_df.append({'sentence': sentence}, ignore_index=True)\n",
      "C:\\Users\\hieuq\\AppData\\Local\\Temp\\ipykernel_13320\\1111861228.py:17: FutureWarning: The frame.append method is deprecated and will be removed from pandas in a future version. Use pandas.concat instead.\n",
      "  new_df = new_df.append({'sentence': sentence}, ignore_index=True)\n",
      "C:\\Users\\hieuq\\AppData\\Local\\Temp\\ipykernel_13320\\1111861228.py:17: FutureWarning: The frame.append method is deprecated and will be removed from pandas in a future version. Use pandas.concat instead.\n",
      "  new_df = new_df.append({'sentence': sentence}, ignore_index=True)\n",
      "C:\\Users\\hieuq\\AppData\\Local\\Temp\\ipykernel_13320\\1111861228.py:17: FutureWarning: The frame.append method is deprecated and will be removed from pandas in a future version. Use pandas.concat instead.\n",
      "  new_df = new_df.append({'sentence': sentence}, ignore_index=True)\n",
      "C:\\Users\\hieuq\\AppData\\Local\\Temp\\ipykernel_13320\\1111861228.py:17: FutureWarning: The frame.append method is deprecated and will be removed from pandas in a future version. Use pandas.concat instead.\n",
      "  new_df = new_df.append({'sentence': sentence}, ignore_index=True)\n",
      "C:\\Users\\hieuq\\AppData\\Local\\Temp\\ipykernel_13320\\1111861228.py:17: FutureWarning: The frame.append method is deprecated and will be removed from pandas in a future version. Use pandas.concat instead.\n",
      "  new_df = new_df.append({'sentence': sentence}, ignore_index=True)\n",
      "C:\\Users\\hieuq\\AppData\\Local\\Temp\\ipykernel_13320\\1111861228.py:17: FutureWarning: The frame.append method is deprecated and will be removed from pandas in a future version. Use pandas.concat instead.\n",
      "  new_df = new_df.append({'sentence': sentence}, ignore_index=True)\n",
      "C:\\Users\\hieuq\\AppData\\Local\\Temp\\ipykernel_13320\\1111861228.py:17: FutureWarning: The frame.append method is deprecated and will be removed from pandas in a future version. Use pandas.concat instead.\n",
      "  new_df = new_df.append({'sentence': sentence}, ignore_index=True)\n",
      "C:\\Users\\hieuq\\AppData\\Local\\Temp\\ipykernel_13320\\1111861228.py:17: FutureWarning: The frame.append method is deprecated and will be removed from pandas in a future version. Use pandas.concat instead.\n",
      "  new_df = new_df.append({'sentence': sentence}, ignore_index=True)\n",
      "C:\\Users\\hieuq\\AppData\\Local\\Temp\\ipykernel_13320\\1111861228.py:17: FutureWarning: The frame.append method is deprecated and will be removed from pandas in a future version. Use pandas.concat instead.\n",
      "  new_df = new_df.append({'sentence': sentence}, ignore_index=True)\n",
      "C:\\Users\\hieuq\\AppData\\Local\\Temp\\ipykernel_13320\\1111861228.py:17: FutureWarning: The frame.append method is deprecated and will be removed from pandas in a future version. Use pandas.concat instead.\n",
      "  new_df = new_df.append({'sentence': sentence}, ignore_index=True)\n",
      "C:\\Users\\hieuq\\AppData\\Local\\Temp\\ipykernel_13320\\1111861228.py:17: FutureWarning: The frame.append method is deprecated and will be removed from pandas in a future version. Use pandas.concat instead.\n",
      "  new_df = new_df.append({'sentence': sentence}, ignore_index=True)\n",
      "C:\\Users\\hieuq\\AppData\\Local\\Temp\\ipykernel_13320\\1111861228.py:17: FutureWarning: The frame.append method is deprecated and will be removed from pandas in a future version. Use pandas.concat instead.\n",
      "  new_df = new_df.append({'sentence': sentence}, ignore_index=True)\n",
      "C:\\Users\\hieuq\\AppData\\Local\\Temp\\ipykernel_13320\\1111861228.py:17: FutureWarning: The frame.append method is deprecated and will be removed from pandas in a future version. Use pandas.concat instead.\n",
      "  new_df = new_df.append({'sentence': sentence}, ignore_index=True)\n",
      "C:\\Users\\hieuq\\AppData\\Local\\Temp\\ipykernel_13320\\1111861228.py:17: FutureWarning: The frame.append method is deprecated and will be removed from pandas in a future version. Use pandas.concat instead.\n",
      "  new_df = new_df.append({'sentence': sentence}, ignore_index=True)\n",
      "C:\\Users\\hieuq\\AppData\\Local\\Temp\\ipykernel_13320\\1111861228.py:17: FutureWarning: The frame.append method is deprecated and will be removed from pandas in a future version. Use pandas.concat instead.\n",
      "  new_df = new_df.append({'sentence': sentence}, ignore_index=True)\n",
      "C:\\Users\\hieuq\\AppData\\Local\\Temp\\ipykernel_13320\\1111861228.py:17: FutureWarning: The frame.append method is deprecated and will be removed from pandas in a future version. Use pandas.concat instead.\n",
      "  new_df = new_df.append({'sentence': sentence}, ignore_index=True)\n",
      "C:\\Users\\hieuq\\AppData\\Local\\Temp\\ipykernel_13320\\1111861228.py:17: FutureWarning: The frame.append method is deprecated and will be removed from pandas in a future version. Use pandas.concat instead.\n",
      "  new_df = new_df.append({'sentence': sentence}, ignore_index=True)\n",
      "C:\\Users\\hieuq\\AppData\\Local\\Temp\\ipykernel_13320\\1111861228.py:17: FutureWarning: The frame.append method is deprecated and will be removed from pandas in a future version. Use pandas.concat instead.\n",
      "  new_df = new_df.append({'sentence': sentence}, ignore_index=True)\n",
      "C:\\Users\\hieuq\\AppData\\Local\\Temp\\ipykernel_13320\\1111861228.py:17: FutureWarning: The frame.append method is deprecated and will be removed from pandas in a future version. Use pandas.concat instead.\n",
      "  new_df = new_df.append({'sentence': sentence}, ignore_index=True)\n",
      "C:\\Users\\hieuq\\AppData\\Local\\Temp\\ipykernel_13320\\1111861228.py:17: FutureWarning: The frame.append method is deprecated and will be removed from pandas in a future version. Use pandas.concat instead.\n",
      "  new_df = new_df.append({'sentence': sentence}, ignore_index=True)\n",
      "C:\\Users\\hieuq\\AppData\\Local\\Temp\\ipykernel_13320\\1111861228.py:17: FutureWarning: The frame.append method is deprecated and will be removed from pandas in a future version. Use pandas.concat instead.\n",
      "  new_df = new_df.append({'sentence': sentence}, ignore_index=True)\n",
      "C:\\Users\\hieuq\\AppData\\Local\\Temp\\ipykernel_13320\\1111861228.py:17: FutureWarning: The frame.append method is deprecated and will be removed from pandas in a future version. Use pandas.concat instead.\n",
      "  new_df = new_df.append({'sentence': sentence}, ignore_index=True)\n",
      "C:\\Users\\hieuq\\AppData\\Local\\Temp\\ipykernel_13320\\1111861228.py:17: FutureWarning: The frame.append method is deprecated and will be removed from pandas in a future version. Use pandas.concat instead.\n",
      "  new_df = new_df.append({'sentence': sentence}, ignore_index=True)\n",
      "C:\\Users\\hieuq\\AppData\\Local\\Temp\\ipykernel_13320\\1111861228.py:17: FutureWarning: The frame.append method is deprecated and will be removed from pandas in a future version. Use pandas.concat instead.\n",
      "  new_df = new_df.append({'sentence': sentence}, ignore_index=True)\n",
      "C:\\Users\\hieuq\\AppData\\Local\\Temp\\ipykernel_13320\\1111861228.py:17: FutureWarning: The frame.append method is deprecated and will be removed from pandas in a future version. Use pandas.concat instead.\n",
      "  new_df = new_df.append({'sentence': sentence}, ignore_index=True)\n",
      "C:\\Users\\hieuq\\AppData\\Local\\Temp\\ipykernel_13320\\1111861228.py:17: FutureWarning: The frame.append method is deprecated and will be removed from pandas in a future version. Use pandas.concat instead.\n",
      "  new_df = new_df.append({'sentence': sentence}, ignore_index=True)\n",
      "C:\\Users\\hieuq\\AppData\\Local\\Temp\\ipykernel_13320\\1111861228.py:17: FutureWarning: The frame.append method is deprecated and will be removed from pandas in a future version. Use pandas.concat instead.\n",
      "  new_df = new_df.append({'sentence': sentence}, ignore_index=True)\n",
      "C:\\Users\\hieuq\\AppData\\Local\\Temp\\ipykernel_13320\\1111861228.py:17: FutureWarning: The frame.append method is deprecated and will be removed from pandas in a future version. Use pandas.concat instead.\n",
      "  new_df = new_df.append({'sentence': sentence}, ignore_index=True)\n",
      "C:\\Users\\hieuq\\AppData\\Local\\Temp\\ipykernel_13320\\1111861228.py:17: FutureWarning: The frame.append method is deprecated and will be removed from pandas in a future version. Use pandas.concat instead.\n",
      "  new_df = new_df.append({'sentence': sentence}, ignore_index=True)\n",
      "C:\\Users\\hieuq\\AppData\\Local\\Temp\\ipykernel_13320\\1111861228.py:17: FutureWarning: The frame.append method is deprecated and will be removed from pandas in a future version. Use pandas.concat instead.\n",
      "  new_df = new_df.append({'sentence': sentence}, ignore_index=True)\n",
      "C:\\Users\\hieuq\\AppData\\Local\\Temp\\ipykernel_13320\\1111861228.py:17: FutureWarning: The frame.append method is deprecated and will be removed from pandas in a future version. Use pandas.concat instead.\n",
      "  new_df = new_df.append({'sentence': sentence}, ignore_index=True)\n",
      "C:\\Users\\hieuq\\AppData\\Local\\Temp\\ipykernel_13320\\1111861228.py:17: FutureWarning: The frame.append method is deprecated and will be removed from pandas in a future version. Use pandas.concat instead.\n",
      "  new_df = new_df.append({'sentence': sentence}, ignore_index=True)\n",
      "C:\\Users\\hieuq\\AppData\\Local\\Temp\\ipykernel_13320\\1111861228.py:17: FutureWarning: The frame.append method is deprecated and will be removed from pandas in a future version. Use pandas.concat instead.\n",
      "  new_df = new_df.append({'sentence': sentence}, ignore_index=True)\n",
      "C:\\Users\\hieuq\\AppData\\Local\\Temp\\ipykernel_13320\\1111861228.py:17: FutureWarning: The frame.append method is deprecated and will be removed from pandas in a future version. Use pandas.concat instead.\n",
      "  new_df = new_df.append({'sentence': sentence}, ignore_index=True)\n",
      "C:\\Users\\hieuq\\AppData\\Local\\Temp\\ipykernel_13320\\1111861228.py:17: FutureWarning: The frame.append method is deprecated and will be removed from pandas in a future version. Use pandas.concat instead.\n",
      "  new_df = new_df.append({'sentence': sentence}, ignore_index=True)\n",
      "C:\\Users\\hieuq\\AppData\\Local\\Temp\\ipykernel_13320\\1111861228.py:17: FutureWarning: The frame.append method is deprecated and will be removed from pandas in a future version. Use pandas.concat instead.\n",
      "  new_df = new_df.append({'sentence': sentence}, ignore_index=True)\n",
      "C:\\Users\\hieuq\\AppData\\Local\\Temp\\ipykernel_13320\\1111861228.py:17: FutureWarning: The frame.append method is deprecated and will be removed from pandas in a future version. Use pandas.concat instead.\n",
      "  new_df = new_df.append({'sentence': sentence}, ignore_index=True)\n",
      "C:\\Users\\hieuq\\AppData\\Local\\Temp\\ipykernel_13320\\1111861228.py:17: FutureWarning: The frame.append method is deprecated and will be removed from pandas in a future version. Use pandas.concat instead.\n",
      "  new_df = new_df.append({'sentence': sentence}, ignore_index=True)\n",
      "C:\\Users\\hieuq\\AppData\\Local\\Temp\\ipykernel_13320\\1111861228.py:17: FutureWarning: The frame.append method is deprecated and will be removed from pandas in a future version. Use pandas.concat instead.\n",
      "  new_df = new_df.append({'sentence': sentence}, ignore_index=True)\n",
      "C:\\Users\\hieuq\\AppData\\Local\\Temp\\ipykernel_13320\\1111861228.py:17: FutureWarning: The frame.append method is deprecated and will be removed from pandas in a future version. Use pandas.concat instead.\n",
      "  new_df = new_df.append({'sentence': sentence}, ignore_index=True)\n",
      "C:\\Users\\hieuq\\AppData\\Local\\Temp\\ipykernel_13320\\1111861228.py:17: FutureWarning: The frame.append method is deprecated and will be removed from pandas in a future version. Use pandas.concat instead.\n",
      "  new_df = new_df.append({'sentence': sentence}, ignore_index=True)\n",
      "C:\\Users\\hieuq\\AppData\\Local\\Temp\\ipykernel_13320\\1111861228.py:17: FutureWarning: The frame.append method is deprecated and will be removed from pandas in a future version. Use pandas.concat instead.\n",
      "  new_df = new_df.append({'sentence': sentence}, ignore_index=True)\n",
      "C:\\Users\\hieuq\\AppData\\Local\\Temp\\ipykernel_13320\\1111861228.py:17: FutureWarning: The frame.append method is deprecated and will be removed from pandas in a future version. Use pandas.concat instead.\n",
      "  new_df = new_df.append({'sentence': sentence}, ignore_index=True)\n",
      "C:\\Users\\hieuq\\AppData\\Local\\Temp\\ipykernel_13320\\1111861228.py:17: FutureWarning: The frame.append method is deprecated and will be removed from pandas in a future version. Use pandas.concat instead.\n",
      "  new_df = new_df.append({'sentence': sentence}, ignore_index=True)\n",
      "C:\\Users\\hieuq\\AppData\\Local\\Temp\\ipykernel_13320\\1111861228.py:17: FutureWarning: The frame.append method is deprecated and will be removed from pandas in a future version. Use pandas.concat instead.\n",
      "  new_df = new_df.append({'sentence': sentence}, ignore_index=True)\n",
      "C:\\Users\\hieuq\\AppData\\Local\\Temp\\ipykernel_13320\\1111861228.py:17: FutureWarning: The frame.append method is deprecated and will be removed from pandas in a future version. Use pandas.concat instead.\n",
      "  new_df = new_df.append({'sentence': sentence}, ignore_index=True)\n",
      "C:\\Users\\hieuq\\AppData\\Local\\Temp\\ipykernel_13320\\1111861228.py:17: FutureWarning: The frame.append method is deprecated and will be removed from pandas in a future version. Use pandas.concat instead.\n",
      "  new_df = new_df.append({'sentence': sentence}, ignore_index=True)\n",
      "C:\\Users\\hieuq\\AppData\\Local\\Temp\\ipykernel_13320\\1111861228.py:17: FutureWarning: The frame.append method is deprecated and will be removed from pandas in a future version. Use pandas.concat instead.\n",
      "  new_df = new_df.append({'sentence': sentence}, ignore_index=True)\n",
      "C:\\Users\\hieuq\\AppData\\Local\\Temp\\ipykernel_13320\\1111861228.py:17: FutureWarning: The frame.append method is deprecated and will be removed from pandas in a future version. Use pandas.concat instead.\n",
      "  new_df = new_df.append({'sentence': sentence}, ignore_index=True)\n",
      "C:\\Users\\hieuq\\AppData\\Local\\Temp\\ipykernel_13320\\1111861228.py:17: FutureWarning: The frame.append method is deprecated and will be removed from pandas in a future version. Use pandas.concat instead.\n",
      "  new_df = new_df.append({'sentence': sentence}, ignore_index=True)\n",
      "C:\\Users\\hieuq\\AppData\\Local\\Temp\\ipykernel_13320\\1111861228.py:17: FutureWarning: The frame.append method is deprecated and will be removed from pandas in a future version. Use pandas.concat instead.\n",
      "  new_df = new_df.append({'sentence': sentence}, ignore_index=True)\n",
      "C:\\Users\\hieuq\\AppData\\Local\\Temp\\ipykernel_13320\\1111861228.py:17: FutureWarning: The frame.append method is deprecated and will be removed from pandas in a future version. Use pandas.concat instead.\n",
      "  new_df = new_df.append({'sentence': sentence}, ignore_index=True)\n",
      "C:\\Users\\hieuq\\AppData\\Local\\Temp\\ipykernel_13320\\1111861228.py:17: FutureWarning: The frame.append method is deprecated and will be removed from pandas in a future version. Use pandas.concat instead.\n",
      "  new_df = new_df.append({'sentence': sentence}, ignore_index=True)\n",
      "C:\\Users\\hieuq\\AppData\\Local\\Temp\\ipykernel_13320\\1111861228.py:17: FutureWarning: The frame.append method is deprecated and will be removed from pandas in a future version. Use pandas.concat instead.\n",
      "  new_df = new_df.append({'sentence': sentence}, ignore_index=True)\n",
      "C:\\Users\\hieuq\\AppData\\Local\\Temp\\ipykernel_13320\\1111861228.py:17: FutureWarning: The frame.append method is deprecated and will be removed from pandas in a future version. Use pandas.concat instead.\n",
      "  new_df = new_df.append({'sentence': sentence}, ignore_index=True)\n",
      "C:\\Users\\hieuq\\AppData\\Local\\Temp\\ipykernel_13320\\1111861228.py:17: FutureWarning: The frame.append method is deprecated and will be removed from pandas in a future version. Use pandas.concat instead.\n",
      "  new_df = new_df.append({'sentence': sentence}, ignore_index=True)\n",
      "C:\\Users\\hieuq\\AppData\\Local\\Temp\\ipykernel_13320\\1111861228.py:17: FutureWarning: The frame.append method is deprecated and will be removed from pandas in a future version. Use pandas.concat instead.\n",
      "  new_df = new_df.append({'sentence': sentence}, ignore_index=True)\n",
      "C:\\Users\\hieuq\\AppData\\Local\\Temp\\ipykernel_13320\\1111861228.py:17: FutureWarning: The frame.append method is deprecated and will be removed from pandas in a future version. Use pandas.concat instead.\n",
      "  new_df = new_df.append({'sentence': sentence}, ignore_index=True)\n",
      "C:\\Users\\hieuq\\AppData\\Local\\Temp\\ipykernel_13320\\1111861228.py:17: FutureWarning: The frame.append method is deprecated and will be removed from pandas in a future version. Use pandas.concat instead.\n",
      "  new_df = new_df.append({'sentence': sentence}, ignore_index=True)\n",
      "C:\\Users\\hieuq\\AppData\\Local\\Temp\\ipykernel_13320\\1111861228.py:17: FutureWarning: The frame.append method is deprecated and will be removed from pandas in a future version. Use pandas.concat instead.\n",
      "  new_df = new_df.append({'sentence': sentence}, ignore_index=True)\n",
      "C:\\Users\\hieuq\\AppData\\Local\\Temp\\ipykernel_13320\\1111861228.py:17: FutureWarning: The frame.append method is deprecated and will be removed from pandas in a future version. Use pandas.concat instead.\n",
      "  new_df = new_df.append({'sentence': sentence}, ignore_index=True)\n",
      "C:\\Users\\hieuq\\AppData\\Local\\Temp\\ipykernel_13320\\1111861228.py:17: FutureWarning: The frame.append method is deprecated and will be removed from pandas in a future version. Use pandas.concat instead.\n",
      "  new_df = new_df.append({'sentence': sentence}, ignore_index=True)\n",
      "C:\\Users\\hieuq\\AppData\\Local\\Temp\\ipykernel_13320\\1111861228.py:17: FutureWarning: The frame.append method is deprecated and will be removed from pandas in a future version. Use pandas.concat instead.\n",
      "  new_df = new_df.append({'sentence': sentence}, ignore_index=True)\n",
      "C:\\Users\\hieuq\\AppData\\Local\\Temp\\ipykernel_13320\\1111861228.py:17: FutureWarning: The frame.append method is deprecated and will be removed from pandas in a future version. Use pandas.concat instead.\n",
      "  new_df = new_df.append({'sentence': sentence}, ignore_index=True)\n",
      "C:\\Users\\hieuq\\AppData\\Local\\Temp\\ipykernel_13320\\1111861228.py:17: FutureWarning: The frame.append method is deprecated and will be removed from pandas in a future version. Use pandas.concat instead.\n",
      "  new_df = new_df.append({'sentence': sentence}, ignore_index=True)\n",
      "C:\\Users\\hieuq\\AppData\\Local\\Temp\\ipykernel_13320\\1111861228.py:17: FutureWarning: The frame.append method is deprecated and will be removed from pandas in a future version. Use pandas.concat instead.\n",
      "  new_df = new_df.append({'sentence': sentence}, ignore_index=True)\n",
      "C:\\Users\\hieuq\\AppData\\Local\\Temp\\ipykernel_13320\\1111861228.py:17: FutureWarning: The frame.append method is deprecated and will be removed from pandas in a future version. Use pandas.concat instead.\n",
      "  new_df = new_df.append({'sentence': sentence}, ignore_index=True)\n",
      "C:\\Users\\hieuq\\AppData\\Local\\Temp\\ipykernel_13320\\1111861228.py:17: FutureWarning: The frame.append method is deprecated and will be removed from pandas in a future version. Use pandas.concat instead.\n",
      "  new_df = new_df.append({'sentence': sentence}, ignore_index=True)\n",
      "C:\\Users\\hieuq\\AppData\\Local\\Temp\\ipykernel_13320\\1111861228.py:17: FutureWarning: The frame.append method is deprecated and will be removed from pandas in a future version. Use pandas.concat instead.\n",
      "  new_df = new_df.append({'sentence': sentence}, ignore_index=True)\n",
      "C:\\Users\\hieuq\\AppData\\Local\\Temp\\ipykernel_13320\\1111861228.py:17: FutureWarning: The frame.append method is deprecated and will be removed from pandas in a future version. Use pandas.concat instead.\n",
      "  new_df = new_df.append({'sentence': sentence}, ignore_index=True)\n",
      "C:\\Users\\hieuq\\AppData\\Local\\Temp\\ipykernel_13320\\1111861228.py:17: FutureWarning: The frame.append method is deprecated and will be removed from pandas in a future version. Use pandas.concat instead.\n",
      "  new_df = new_df.append({'sentence': sentence}, ignore_index=True)\n",
      "C:\\Users\\hieuq\\AppData\\Local\\Temp\\ipykernel_13320\\1111861228.py:17: FutureWarning: The frame.append method is deprecated and will be removed from pandas in a future version. Use pandas.concat instead.\n",
      "  new_df = new_df.append({'sentence': sentence}, ignore_index=True)\n",
      "C:\\Users\\hieuq\\AppData\\Local\\Temp\\ipykernel_13320\\1111861228.py:17: FutureWarning: The frame.append method is deprecated and will be removed from pandas in a future version. Use pandas.concat instead.\n",
      "  new_df = new_df.append({'sentence': sentence}, ignore_index=True)\n",
      "C:\\Users\\hieuq\\AppData\\Local\\Temp\\ipykernel_13320\\1111861228.py:17: FutureWarning: The frame.append method is deprecated and will be removed from pandas in a future version. Use pandas.concat instead.\n",
      "  new_df = new_df.append({'sentence': sentence}, ignore_index=True)\n",
      "C:\\Users\\hieuq\\AppData\\Local\\Temp\\ipykernel_13320\\1111861228.py:17: FutureWarning: The frame.append method is deprecated and will be removed from pandas in a future version. Use pandas.concat instead.\n",
      "  new_df = new_df.append({'sentence': sentence}, ignore_index=True)\n",
      "C:\\Users\\hieuq\\AppData\\Local\\Temp\\ipykernel_13320\\1111861228.py:17: FutureWarning: The frame.append method is deprecated and will be removed from pandas in a future version. Use pandas.concat instead.\n",
      "  new_df = new_df.append({'sentence': sentence}, ignore_index=True)\n",
      "C:\\Users\\hieuq\\AppData\\Local\\Temp\\ipykernel_13320\\1111861228.py:17: FutureWarning: The frame.append method is deprecated and will be removed from pandas in a future version. Use pandas.concat instead.\n",
      "  new_df = new_df.append({'sentence': sentence}, ignore_index=True)\n",
      "C:\\Users\\hieuq\\AppData\\Local\\Temp\\ipykernel_13320\\1111861228.py:17: FutureWarning: The frame.append method is deprecated and will be removed from pandas in a future version. Use pandas.concat instead.\n",
      "  new_df = new_df.append({'sentence': sentence}, ignore_index=True)\n",
      "C:\\Users\\hieuq\\AppData\\Local\\Temp\\ipykernel_13320\\1111861228.py:17: FutureWarning: The frame.append method is deprecated and will be removed from pandas in a future version. Use pandas.concat instead.\n",
      "  new_df = new_df.append({'sentence': sentence}, ignore_index=True)\n",
      "C:\\Users\\hieuq\\AppData\\Local\\Temp\\ipykernel_13320\\1111861228.py:17: FutureWarning: The frame.append method is deprecated and will be removed from pandas in a future version. Use pandas.concat instead.\n",
      "  new_df = new_df.append({'sentence': sentence}, ignore_index=True)\n",
      "C:\\Users\\hieuq\\AppData\\Local\\Temp\\ipykernel_13320\\1111861228.py:17: FutureWarning: The frame.append method is deprecated and will be removed from pandas in a future version. Use pandas.concat instead.\n",
      "  new_df = new_df.append({'sentence': sentence}, ignore_index=True)\n",
      "C:\\Users\\hieuq\\AppData\\Local\\Temp\\ipykernel_13320\\1111861228.py:17: FutureWarning: The frame.append method is deprecated and will be removed from pandas in a future version. Use pandas.concat instead.\n",
      "  new_df = new_df.append({'sentence': sentence}, ignore_index=True)\n",
      "C:\\Users\\hieuq\\AppData\\Local\\Temp\\ipykernel_13320\\1111861228.py:17: FutureWarning: The frame.append method is deprecated and will be removed from pandas in a future version. Use pandas.concat instead.\n",
      "  new_df = new_df.append({'sentence': sentence}, ignore_index=True)\n",
      "C:\\Users\\hieuq\\AppData\\Local\\Temp\\ipykernel_13320\\1111861228.py:17: FutureWarning: The frame.append method is deprecated and will be removed from pandas in a future version. Use pandas.concat instead.\n",
      "  new_df = new_df.append({'sentence': sentence}, ignore_index=True)\n",
      "C:\\Users\\hieuq\\AppData\\Local\\Temp\\ipykernel_13320\\1111861228.py:17: FutureWarning: The frame.append method is deprecated and will be removed from pandas in a future version. Use pandas.concat instead.\n",
      "  new_df = new_df.append({'sentence': sentence}, ignore_index=True)\n",
      "C:\\Users\\hieuq\\AppData\\Local\\Temp\\ipykernel_13320\\1111861228.py:17: FutureWarning: The frame.append method is deprecated and will be removed from pandas in a future version. Use pandas.concat instead.\n",
      "  new_df = new_df.append({'sentence': sentence}, ignore_index=True)\n",
      "C:\\Users\\hieuq\\AppData\\Local\\Temp\\ipykernel_13320\\1111861228.py:17: FutureWarning: The frame.append method is deprecated and will be removed from pandas in a future version. Use pandas.concat instead.\n",
      "  new_df = new_df.append({'sentence': sentence}, ignore_index=True)\n",
      "C:\\Users\\hieuq\\AppData\\Local\\Temp\\ipykernel_13320\\1111861228.py:17: FutureWarning: The frame.append method is deprecated and will be removed from pandas in a future version. Use pandas.concat instead.\n",
      "  new_df = new_df.append({'sentence': sentence}, ignore_index=True)\n",
      "C:\\Users\\hieuq\\AppData\\Local\\Temp\\ipykernel_13320\\1111861228.py:17: FutureWarning: The frame.append method is deprecated and will be removed from pandas in a future version. Use pandas.concat instead.\n",
      "  new_df = new_df.append({'sentence': sentence}, ignore_index=True)\n",
      "C:\\Users\\hieuq\\AppData\\Local\\Temp\\ipykernel_13320\\1111861228.py:17: FutureWarning: The frame.append method is deprecated and will be removed from pandas in a future version. Use pandas.concat instead.\n",
      "  new_df = new_df.append({'sentence': sentence}, ignore_index=True)\n",
      "C:\\Users\\hieuq\\AppData\\Local\\Temp\\ipykernel_13320\\1111861228.py:17: FutureWarning: The frame.append method is deprecated and will be removed from pandas in a future version. Use pandas.concat instead.\n",
      "  new_df = new_df.append({'sentence': sentence}, ignore_index=True)\n",
      "C:\\Users\\hieuq\\AppData\\Local\\Temp\\ipykernel_13320\\1111861228.py:17: FutureWarning: The frame.append method is deprecated and will be removed from pandas in a future version. Use pandas.concat instead.\n",
      "  new_df = new_df.append({'sentence': sentence}, ignore_index=True)\n",
      "C:\\Users\\hieuq\\AppData\\Local\\Temp\\ipykernel_13320\\1111861228.py:17: FutureWarning: The frame.append method is deprecated and will be removed from pandas in a future version. Use pandas.concat instead.\n",
      "  new_df = new_df.append({'sentence': sentence}, ignore_index=True)\n",
      "C:\\Users\\hieuq\\AppData\\Local\\Temp\\ipykernel_13320\\1111861228.py:17: FutureWarning: The frame.append method is deprecated and will be removed from pandas in a future version. Use pandas.concat instead.\n",
      "  new_df = new_df.append({'sentence': sentence}, ignore_index=True)\n",
      "C:\\Users\\hieuq\\AppData\\Local\\Temp\\ipykernel_13320\\1111861228.py:17: FutureWarning: The frame.append method is deprecated and will be removed from pandas in a future version. Use pandas.concat instead.\n",
      "  new_df = new_df.append({'sentence': sentence}, ignore_index=True)\n",
      "C:\\Users\\hieuq\\AppData\\Local\\Temp\\ipykernel_13320\\1111861228.py:17: FutureWarning: The frame.append method is deprecated and will be removed from pandas in a future version. Use pandas.concat instead.\n",
      "  new_df = new_df.append({'sentence': sentence}, ignore_index=True)\n",
      "C:\\Users\\hieuq\\AppData\\Local\\Temp\\ipykernel_13320\\1111861228.py:17: FutureWarning: The frame.append method is deprecated and will be removed from pandas in a future version. Use pandas.concat instead.\n",
      "  new_df = new_df.append({'sentence': sentence}, ignore_index=True)\n",
      "C:\\Users\\hieuq\\AppData\\Local\\Temp\\ipykernel_13320\\1111861228.py:17: FutureWarning: The frame.append method is deprecated and will be removed from pandas in a future version. Use pandas.concat instead.\n",
      "  new_df = new_df.append({'sentence': sentence}, ignore_index=True)\n",
      "C:\\Users\\hieuq\\AppData\\Local\\Temp\\ipykernel_13320\\1111861228.py:17: FutureWarning: The frame.append method is deprecated and will be removed from pandas in a future version. Use pandas.concat instead.\n",
      "  new_df = new_df.append({'sentence': sentence}, ignore_index=True)\n",
      "C:\\Users\\hieuq\\AppData\\Local\\Temp\\ipykernel_13320\\1111861228.py:17: FutureWarning: The frame.append method is deprecated and will be removed from pandas in a future version. Use pandas.concat instead.\n",
      "  new_df = new_df.append({'sentence': sentence}, ignore_index=True)\n",
      "C:\\Users\\hieuq\\AppData\\Local\\Temp\\ipykernel_13320\\1111861228.py:17: FutureWarning: The frame.append method is deprecated and will be removed from pandas in a future version. Use pandas.concat instead.\n",
      "  new_df = new_df.append({'sentence': sentence}, ignore_index=True)\n",
      "C:\\Users\\hieuq\\AppData\\Local\\Temp\\ipykernel_13320\\1111861228.py:17: FutureWarning: The frame.append method is deprecated and will be removed from pandas in a future version. Use pandas.concat instead.\n",
      "  new_df = new_df.append({'sentence': sentence}, ignore_index=True)\n",
      "C:\\Users\\hieuq\\AppData\\Local\\Temp\\ipykernel_13320\\1111861228.py:17: FutureWarning: The frame.append method is deprecated and will be removed from pandas in a future version. Use pandas.concat instead.\n",
      "  new_df = new_df.append({'sentence': sentence}, ignore_index=True)\n",
      "C:\\Users\\hieuq\\AppData\\Local\\Temp\\ipykernel_13320\\1111861228.py:17: FutureWarning: The frame.append method is deprecated and will be removed from pandas in a future version. Use pandas.concat instead.\n",
      "  new_df = new_df.append({'sentence': sentence}, ignore_index=True)\n",
      "C:\\Users\\hieuq\\AppData\\Local\\Temp\\ipykernel_13320\\1111861228.py:17: FutureWarning: The frame.append method is deprecated and will be removed from pandas in a future version. Use pandas.concat instead.\n",
      "  new_df = new_df.append({'sentence': sentence}, ignore_index=True)\n",
      "C:\\Users\\hieuq\\AppData\\Local\\Temp\\ipykernel_13320\\1111861228.py:17: FutureWarning: The frame.append method is deprecated and will be removed from pandas in a future version. Use pandas.concat instead.\n",
      "  new_df = new_df.append({'sentence': sentence}, ignore_index=True)\n",
      "C:\\Users\\hieuq\\AppData\\Local\\Temp\\ipykernel_13320\\1111861228.py:17: FutureWarning: The frame.append method is deprecated and will be removed from pandas in a future version. Use pandas.concat instead.\n",
      "  new_df = new_df.append({'sentence': sentence}, ignore_index=True)\n",
      "C:\\Users\\hieuq\\AppData\\Local\\Temp\\ipykernel_13320\\1111861228.py:17: FutureWarning: The frame.append method is deprecated and will be removed from pandas in a future version. Use pandas.concat instead.\n",
      "  new_df = new_df.append({'sentence': sentence}, ignore_index=True)\n",
      "C:\\Users\\hieuq\\AppData\\Local\\Temp\\ipykernel_13320\\1111861228.py:17: FutureWarning: The frame.append method is deprecated and will be removed from pandas in a future version. Use pandas.concat instead.\n",
      "  new_df = new_df.append({'sentence': sentence}, ignore_index=True)\n",
      "C:\\Users\\hieuq\\AppData\\Local\\Temp\\ipykernel_13320\\1111861228.py:17: FutureWarning: The frame.append method is deprecated and will be removed from pandas in a future version. Use pandas.concat instead.\n",
      "  new_df = new_df.append({'sentence': sentence}, ignore_index=True)\n",
      "C:\\Users\\hieuq\\AppData\\Local\\Temp\\ipykernel_13320\\1111861228.py:17: FutureWarning: The frame.append method is deprecated and will be removed from pandas in a future version. Use pandas.concat instead.\n",
      "  new_df = new_df.append({'sentence': sentence}, ignore_index=True)\n",
      "C:\\Users\\hieuq\\AppData\\Local\\Temp\\ipykernel_13320\\1111861228.py:17: FutureWarning: The frame.append method is deprecated and will be removed from pandas in a future version. Use pandas.concat instead.\n",
      "  new_df = new_df.append({'sentence': sentence}, ignore_index=True)\n",
      "C:\\Users\\hieuq\\AppData\\Local\\Temp\\ipykernel_13320\\1111861228.py:17: FutureWarning: The frame.append method is deprecated and will be removed from pandas in a future version. Use pandas.concat instead.\n",
      "  new_df = new_df.append({'sentence': sentence}, ignore_index=True)\n",
      "C:\\Users\\hieuq\\AppData\\Local\\Temp\\ipykernel_13320\\1111861228.py:17: FutureWarning: The frame.append method is deprecated and will be removed from pandas in a future version. Use pandas.concat instead.\n",
      "  new_df = new_df.append({'sentence': sentence}, ignore_index=True)\n",
      "C:\\Users\\hieuq\\AppData\\Local\\Temp\\ipykernel_13320\\1111861228.py:17: FutureWarning: The frame.append method is deprecated and will be removed from pandas in a future version. Use pandas.concat instead.\n",
      "  new_df = new_df.append({'sentence': sentence}, ignore_index=True)\n",
      "C:\\Users\\hieuq\\AppData\\Local\\Temp\\ipykernel_13320\\1111861228.py:17: FutureWarning: The frame.append method is deprecated and will be removed from pandas in a future version. Use pandas.concat instead.\n",
      "  new_df = new_df.append({'sentence': sentence}, ignore_index=True)\n",
      "C:\\Users\\hieuq\\AppData\\Local\\Temp\\ipykernel_13320\\1111861228.py:17: FutureWarning: The frame.append method is deprecated and will be removed from pandas in a future version. Use pandas.concat instead.\n",
      "  new_df = new_df.append({'sentence': sentence}, ignore_index=True)\n",
      "C:\\Users\\hieuq\\AppData\\Local\\Temp\\ipykernel_13320\\1111861228.py:17: FutureWarning: The frame.append method is deprecated and will be removed from pandas in a future version. Use pandas.concat instead.\n",
      "  new_df = new_df.append({'sentence': sentence}, ignore_index=True)\n",
      "C:\\Users\\hieuq\\AppData\\Local\\Temp\\ipykernel_13320\\1111861228.py:17: FutureWarning: The frame.append method is deprecated and will be removed from pandas in a future version. Use pandas.concat instead.\n",
      "  new_df = new_df.append({'sentence': sentence}, ignore_index=True)\n",
      "C:\\Users\\hieuq\\AppData\\Local\\Temp\\ipykernel_13320\\1111861228.py:17: FutureWarning: The frame.append method is deprecated and will be removed from pandas in a future version. Use pandas.concat instead.\n",
      "  new_df = new_df.append({'sentence': sentence}, ignore_index=True)\n",
      "C:\\Users\\hieuq\\AppData\\Local\\Temp\\ipykernel_13320\\1111861228.py:17: FutureWarning: The frame.append method is deprecated and will be removed from pandas in a future version. Use pandas.concat instead.\n",
      "  new_df = new_df.append({'sentence': sentence}, ignore_index=True)\n",
      "C:\\Users\\hieuq\\AppData\\Local\\Temp\\ipykernel_13320\\1111861228.py:17: FutureWarning: The frame.append method is deprecated and will be removed from pandas in a future version. Use pandas.concat instead.\n",
      "  new_df = new_df.append({'sentence': sentence}, ignore_index=True)\n",
      "C:\\Users\\hieuq\\AppData\\Local\\Temp\\ipykernel_13320\\1111861228.py:17: FutureWarning: The frame.append method is deprecated and will be removed from pandas in a future version. Use pandas.concat instead.\n",
      "  new_df = new_df.append({'sentence': sentence}, ignore_index=True)\n",
      "C:\\Users\\hieuq\\AppData\\Local\\Temp\\ipykernel_13320\\1111861228.py:17: FutureWarning: The frame.append method is deprecated and will be removed from pandas in a future version. Use pandas.concat instead.\n",
      "  new_df = new_df.append({'sentence': sentence}, ignore_index=True)\n",
      "C:\\Users\\hieuq\\AppData\\Local\\Temp\\ipykernel_13320\\1111861228.py:17: FutureWarning: The frame.append method is deprecated and will be removed from pandas in a future version. Use pandas.concat instead.\n",
      "  new_df = new_df.append({'sentence': sentence}, ignore_index=True)\n",
      "C:\\Users\\hieuq\\AppData\\Local\\Temp\\ipykernel_13320\\1111861228.py:17: FutureWarning: The frame.append method is deprecated and will be removed from pandas in a future version. Use pandas.concat instead.\n",
      "  new_df = new_df.append({'sentence': sentence}, ignore_index=True)\n",
      "C:\\Users\\hieuq\\AppData\\Local\\Temp\\ipykernel_13320\\1111861228.py:17: FutureWarning: The frame.append method is deprecated and will be removed from pandas in a future version. Use pandas.concat instead.\n",
      "  new_df = new_df.append({'sentence': sentence}, ignore_index=True)\n",
      "C:\\Users\\hieuq\\AppData\\Local\\Temp\\ipykernel_13320\\1111861228.py:17: FutureWarning: The frame.append method is deprecated and will be removed from pandas in a future version. Use pandas.concat instead.\n",
      "  new_df = new_df.append({'sentence': sentence}, ignore_index=True)\n",
      "C:\\Users\\hieuq\\AppData\\Local\\Temp\\ipykernel_13320\\1111861228.py:17: FutureWarning: The frame.append method is deprecated and will be removed from pandas in a future version. Use pandas.concat instead.\n",
      "  new_df = new_df.append({'sentence': sentence}, ignore_index=True)\n",
      "C:\\Users\\hieuq\\AppData\\Local\\Temp\\ipykernel_13320\\1111861228.py:17: FutureWarning: The frame.append method is deprecated and will be removed from pandas in a future version. Use pandas.concat instead.\n",
      "  new_df = new_df.append({'sentence': sentence}, ignore_index=True)\n",
      "C:\\Users\\hieuq\\AppData\\Local\\Temp\\ipykernel_13320\\1111861228.py:17: FutureWarning: The frame.append method is deprecated and will be removed from pandas in a future version. Use pandas.concat instead.\n",
      "  new_df = new_df.append({'sentence': sentence}, ignore_index=True)\n",
      "C:\\Users\\hieuq\\AppData\\Local\\Temp\\ipykernel_13320\\1111861228.py:17: FutureWarning: The frame.append method is deprecated and will be removed from pandas in a future version. Use pandas.concat instead.\n",
      "  new_df = new_df.append({'sentence': sentence}, ignore_index=True)\n",
      "C:\\Users\\hieuq\\AppData\\Local\\Temp\\ipykernel_13320\\1111861228.py:17: FutureWarning: The frame.append method is deprecated and will be removed from pandas in a future version. Use pandas.concat instead.\n",
      "  new_df = new_df.append({'sentence': sentence}, ignore_index=True)\n",
      "C:\\Users\\hieuq\\AppData\\Local\\Temp\\ipykernel_13320\\1111861228.py:17: FutureWarning: The frame.append method is deprecated and will be removed from pandas in a future version. Use pandas.concat instead.\n",
      "  new_df = new_df.append({'sentence': sentence}, ignore_index=True)\n",
      "C:\\Users\\hieuq\\AppData\\Local\\Temp\\ipykernel_13320\\1111861228.py:17: FutureWarning: The frame.append method is deprecated and will be removed from pandas in a future version. Use pandas.concat instead.\n",
      "  new_df = new_df.append({'sentence': sentence}, ignore_index=True)\n",
      "C:\\Users\\hieuq\\AppData\\Local\\Temp\\ipykernel_13320\\1111861228.py:17: FutureWarning: The frame.append method is deprecated and will be removed from pandas in a future version. Use pandas.concat instead.\n",
      "  new_df = new_df.append({'sentence': sentence}, ignore_index=True)\n",
      "C:\\Users\\hieuq\\AppData\\Local\\Temp\\ipykernel_13320\\1111861228.py:17: FutureWarning: The frame.append method is deprecated and will be removed from pandas in a future version. Use pandas.concat instead.\n",
      "  new_df = new_df.append({'sentence': sentence}, ignore_index=True)\n",
      "C:\\Users\\hieuq\\AppData\\Local\\Temp\\ipykernel_13320\\1111861228.py:17: FutureWarning: The frame.append method is deprecated and will be removed from pandas in a future version. Use pandas.concat instead.\n",
      "  new_df = new_df.append({'sentence': sentence}, ignore_index=True)\n",
      "C:\\Users\\hieuq\\AppData\\Local\\Temp\\ipykernel_13320\\1111861228.py:17: FutureWarning: The frame.append method is deprecated and will be removed from pandas in a future version. Use pandas.concat instead.\n",
      "  new_df = new_df.append({'sentence': sentence}, ignore_index=True)\n",
      "C:\\Users\\hieuq\\AppData\\Local\\Temp\\ipykernel_13320\\1111861228.py:17: FutureWarning: The frame.append method is deprecated and will be removed from pandas in a future version. Use pandas.concat instead.\n",
      "  new_df = new_df.append({'sentence': sentence}, ignore_index=True)\n",
      "C:\\Users\\hieuq\\AppData\\Local\\Temp\\ipykernel_13320\\1111861228.py:17: FutureWarning: The frame.append method is deprecated and will be removed from pandas in a future version. Use pandas.concat instead.\n",
      "  new_df = new_df.append({'sentence': sentence}, ignore_index=True)\n",
      "C:\\Users\\hieuq\\AppData\\Local\\Temp\\ipykernel_13320\\1111861228.py:17: FutureWarning: The frame.append method is deprecated and will be removed from pandas in a future version. Use pandas.concat instead.\n",
      "  new_df = new_df.append({'sentence': sentence}, ignore_index=True)\n",
      "C:\\Users\\hieuq\\AppData\\Local\\Temp\\ipykernel_13320\\1111861228.py:17: FutureWarning: The frame.append method is deprecated and will be removed from pandas in a future version. Use pandas.concat instead.\n",
      "  new_df = new_df.append({'sentence': sentence}, ignore_index=True)\n",
      "C:\\Users\\hieuq\\AppData\\Local\\Temp\\ipykernel_13320\\1111861228.py:17: FutureWarning: The frame.append method is deprecated and will be removed from pandas in a future version. Use pandas.concat instead.\n",
      "  new_df = new_df.append({'sentence': sentence}, ignore_index=True)\n",
      "C:\\Users\\hieuq\\AppData\\Local\\Temp\\ipykernel_13320\\1111861228.py:17: FutureWarning: The frame.append method is deprecated and will be removed from pandas in a future version. Use pandas.concat instead.\n",
      "  new_df = new_df.append({'sentence': sentence}, ignore_index=True)\n",
      "C:\\Users\\hieuq\\AppData\\Local\\Temp\\ipykernel_13320\\1111861228.py:17: FutureWarning: The frame.append method is deprecated and will be removed from pandas in a future version. Use pandas.concat instead.\n",
      "  new_df = new_df.append({'sentence': sentence}, ignore_index=True)\n",
      "C:\\Users\\hieuq\\AppData\\Local\\Temp\\ipykernel_13320\\1111861228.py:17: FutureWarning: The frame.append method is deprecated and will be removed from pandas in a future version. Use pandas.concat instead.\n",
      "  new_df = new_df.append({'sentence': sentence}, ignore_index=True)\n",
      "C:\\Users\\hieuq\\AppData\\Local\\Temp\\ipykernel_13320\\1111861228.py:17: FutureWarning: The frame.append method is deprecated and will be removed from pandas in a future version. Use pandas.concat instead.\n",
      "  new_df = new_df.append({'sentence': sentence}, ignore_index=True)\n",
      "C:\\Users\\hieuq\\AppData\\Local\\Temp\\ipykernel_13320\\1111861228.py:17: FutureWarning: The frame.append method is deprecated and will be removed from pandas in a future version. Use pandas.concat instead.\n",
      "  new_df = new_df.append({'sentence': sentence}, ignore_index=True)\n",
      "C:\\Users\\hieuq\\AppData\\Local\\Temp\\ipykernel_13320\\1111861228.py:17: FutureWarning: The frame.append method is deprecated and will be removed from pandas in a future version. Use pandas.concat instead.\n",
      "  new_df = new_df.append({'sentence': sentence}, ignore_index=True)\n",
      "C:\\Users\\hieuq\\AppData\\Local\\Temp\\ipykernel_13320\\1111861228.py:17: FutureWarning: The frame.append method is deprecated and will be removed from pandas in a future version. Use pandas.concat instead.\n",
      "  new_df = new_df.append({'sentence': sentence}, ignore_index=True)\n",
      "C:\\Users\\hieuq\\AppData\\Local\\Temp\\ipykernel_13320\\1111861228.py:17: FutureWarning: The frame.append method is deprecated and will be removed from pandas in a future version. Use pandas.concat instead.\n",
      "  new_df = new_df.append({'sentence': sentence}, ignore_index=True)\n",
      "C:\\Users\\hieuq\\AppData\\Local\\Temp\\ipykernel_13320\\1111861228.py:17: FutureWarning: The frame.append method is deprecated and will be removed from pandas in a future version. Use pandas.concat instead.\n",
      "  new_df = new_df.append({'sentence': sentence}, ignore_index=True)\n",
      "C:\\Users\\hieuq\\AppData\\Local\\Temp\\ipykernel_13320\\1111861228.py:17: FutureWarning: The frame.append method is deprecated and will be removed from pandas in a future version. Use pandas.concat instead.\n",
      "  new_df = new_df.append({'sentence': sentence}, ignore_index=True)\n",
      "C:\\Users\\hieuq\\AppData\\Local\\Temp\\ipykernel_13320\\1111861228.py:17: FutureWarning: The frame.append method is deprecated and will be removed from pandas in a future version. Use pandas.concat instead.\n",
      "  new_df = new_df.append({'sentence': sentence}, ignore_index=True)\n",
      "C:\\Users\\hieuq\\AppData\\Local\\Temp\\ipykernel_13320\\1111861228.py:17: FutureWarning: The frame.append method is deprecated and will be removed from pandas in a future version. Use pandas.concat instead.\n",
      "  new_df = new_df.append({'sentence': sentence}, ignore_index=True)\n",
      "C:\\Users\\hieuq\\AppData\\Local\\Temp\\ipykernel_13320\\1111861228.py:17: FutureWarning: The frame.append method is deprecated and will be removed from pandas in a future version. Use pandas.concat instead.\n",
      "  new_df = new_df.append({'sentence': sentence}, ignore_index=True)\n",
      "C:\\Users\\hieuq\\AppData\\Local\\Temp\\ipykernel_13320\\1111861228.py:17: FutureWarning: The frame.append method is deprecated and will be removed from pandas in a future version. Use pandas.concat instead.\n",
      "  new_df = new_df.append({'sentence': sentence}, ignore_index=True)\n",
      "C:\\Users\\hieuq\\AppData\\Local\\Temp\\ipykernel_13320\\1111861228.py:17: FutureWarning: The frame.append method is deprecated and will be removed from pandas in a future version. Use pandas.concat instead.\n",
      "  new_df = new_df.append({'sentence': sentence}, ignore_index=True)\n",
      "C:\\Users\\hieuq\\AppData\\Local\\Temp\\ipykernel_13320\\1111861228.py:17: FutureWarning: The frame.append method is deprecated and will be removed from pandas in a future version. Use pandas.concat instead.\n",
      "  new_df = new_df.append({'sentence': sentence}, ignore_index=True)\n",
      "C:\\Users\\hieuq\\AppData\\Local\\Temp\\ipykernel_13320\\1111861228.py:17: FutureWarning: The frame.append method is deprecated and will be removed from pandas in a future version. Use pandas.concat instead.\n",
      "  new_df = new_df.append({'sentence': sentence}, ignore_index=True)\n",
      "C:\\Users\\hieuq\\AppData\\Local\\Temp\\ipykernel_13320\\1111861228.py:17: FutureWarning: The frame.append method is deprecated and will be removed from pandas in a future version. Use pandas.concat instead.\n",
      "  new_df = new_df.append({'sentence': sentence}, ignore_index=True)\n",
      "C:\\Users\\hieuq\\AppData\\Local\\Temp\\ipykernel_13320\\1111861228.py:17: FutureWarning: The frame.append method is deprecated and will be removed from pandas in a future version. Use pandas.concat instead.\n",
      "  new_df = new_df.append({'sentence': sentence}, ignore_index=True)\n",
      "C:\\Users\\hieuq\\AppData\\Local\\Temp\\ipykernel_13320\\1111861228.py:17: FutureWarning: The frame.append method is deprecated and will be removed from pandas in a future version. Use pandas.concat instead.\n",
      "  new_df = new_df.append({'sentence': sentence}, ignore_index=True)\n",
      "C:\\Users\\hieuq\\AppData\\Local\\Temp\\ipykernel_13320\\1111861228.py:17: FutureWarning: The frame.append method is deprecated and will be removed from pandas in a future version. Use pandas.concat instead.\n",
      "  new_df = new_df.append({'sentence': sentence}, ignore_index=True)\n",
      "C:\\Users\\hieuq\\AppData\\Local\\Temp\\ipykernel_13320\\1111861228.py:17: FutureWarning: The frame.append method is deprecated and will be removed from pandas in a future version. Use pandas.concat instead.\n",
      "  new_df = new_df.append({'sentence': sentence}, ignore_index=True)\n",
      "C:\\Users\\hieuq\\AppData\\Local\\Temp\\ipykernel_13320\\1111861228.py:17: FutureWarning: The frame.append method is deprecated and will be removed from pandas in a future version. Use pandas.concat instead.\n",
      "  new_df = new_df.append({'sentence': sentence}, ignore_index=True)\n",
      "C:\\Users\\hieuq\\AppData\\Local\\Temp\\ipykernel_13320\\1111861228.py:17: FutureWarning: The frame.append method is deprecated and will be removed from pandas in a future version. Use pandas.concat instead.\n",
      "  new_df = new_df.append({'sentence': sentence}, ignore_index=True)\n",
      "C:\\Users\\hieuq\\AppData\\Local\\Temp\\ipykernel_13320\\1111861228.py:17: FutureWarning: The frame.append method is deprecated and will be removed from pandas in a future version. Use pandas.concat instead.\n",
      "  new_df = new_df.append({'sentence': sentence}, ignore_index=True)\n",
      "C:\\Users\\hieuq\\AppData\\Local\\Temp\\ipykernel_13320\\1111861228.py:17: FutureWarning: The frame.append method is deprecated and will be removed from pandas in a future version. Use pandas.concat instead.\n",
      "  new_df = new_df.append({'sentence': sentence}, ignore_index=True)\n",
      "C:\\Users\\hieuq\\AppData\\Local\\Temp\\ipykernel_13320\\1111861228.py:17: FutureWarning: The frame.append method is deprecated and will be removed from pandas in a future version. Use pandas.concat instead.\n",
      "  new_df = new_df.append({'sentence': sentence}, ignore_index=True)\n",
      "C:\\Users\\hieuq\\AppData\\Local\\Temp\\ipykernel_13320\\1111861228.py:17: FutureWarning: The frame.append method is deprecated and will be removed from pandas in a future version. Use pandas.concat instead.\n",
      "  new_df = new_df.append({'sentence': sentence}, ignore_index=True)\n",
      "C:\\Users\\hieuq\\AppData\\Local\\Temp\\ipykernel_13320\\1111861228.py:17: FutureWarning: The frame.append method is deprecated and will be removed from pandas in a future version. Use pandas.concat instead.\n",
      "  new_df = new_df.append({'sentence': sentence}, ignore_index=True)\n",
      "C:\\Users\\hieuq\\AppData\\Local\\Temp\\ipykernel_13320\\1111861228.py:17: FutureWarning: The frame.append method is deprecated and will be removed from pandas in a future version. Use pandas.concat instead.\n",
      "  new_df = new_df.append({'sentence': sentence}, ignore_index=True)\n",
      "C:\\Users\\hieuq\\AppData\\Local\\Temp\\ipykernel_13320\\1111861228.py:17: FutureWarning: The frame.append method is deprecated and will be removed from pandas in a future version. Use pandas.concat instead.\n",
      "  new_df = new_df.append({'sentence': sentence}, ignore_index=True)\n",
      "C:\\Users\\hieuq\\AppData\\Local\\Temp\\ipykernel_13320\\1111861228.py:17: FutureWarning: The frame.append method is deprecated and will be removed from pandas in a future version. Use pandas.concat instead.\n",
      "  new_df = new_df.append({'sentence': sentence}, ignore_index=True)\n",
      "C:\\Users\\hieuq\\AppData\\Local\\Temp\\ipykernel_13320\\1111861228.py:17: FutureWarning: The frame.append method is deprecated and will be removed from pandas in a future version. Use pandas.concat instead.\n",
      "  new_df = new_df.append({'sentence': sentence}, ignore_index=True)\n",
      "C:\\Users\\hieuq\\AppData\\Local\\Temp\\ipykernel_13320\\1111861228.py:17: FutureWarning: The frame.append method is deprecated and will be removed from pandas in a future version. Use pandas.concat instead.\n",
      "  new_df = new_df.append({'sentence': sentence}, ignore_index=True)\n",
      "C:\\Users\\hieuq\\AppData\\Local\\Temp\\ipykernel_13320\\1111861228.py:17: FutureWarning: The frame.append method is deprecated and will be removed from pandas in a future version. Use pandas.concat instead.\n",
      "  new_df = new_df.append({'sentence': sentence}, ignore_index=True)\n",
      "C:\\Users\\hieuq\\AppData\\Local\\Temp\\ipykernel_13320\\1111861228.py:17: FutureWarning: The frame.append method is deprecated and will be removed from pandas in a future version. Use pandas.concat instead.\n",
      "  new_df = new_df.append({'sentence': sentence}, ignore_index=True)\n",
      "C:\\Users\\hieuq\\AppData\\Local\\Temp\\ipykernel_13320\\1111861228.py:17: FutureWarning: The frame.append method is deprecated and will be removed from pandas in a future version. Use pandas.concat instead.\n",
      "  new_df = new_df.append({'sentence': sentence}, ignore_index=True)\n",
      "C:\\Users\\hieuq\\AppData\\Local\\Temp\\ipykernel_13320\\1111861228.py:17: FutureWarning: The frame.append method is deprecated and will be removed from pandas in a future version. Use pandas.concat instead.\n",
      "  new_df = new_df.append({'sentence': sentence}, ignore_index=True)\n",
      "C:\\Users\\hieuq\\AppData\\Local\\Temp\\ipykernel_13320\\1111861228.py:17: FutureWarning: The frame.append method is deprecated and will be removed from pandas in a future version. Use pandas.concat instead.\n",
      "  new_df = new_df.append({'sentence': sentence}, ignore_index=True)\n",
      "C:\\Users\\hieuq\\AppData\\Local\\Temp\\ipykernel_13320\\1111861228.py:17: FutureWarning: The frame.append method is deprecated and will be removed from pandas in a future version. Use pandas.concat instead.\n",
      "  new_df = new_df.append({'sentence': sentence}, ignore_index=True)\n",
      "C:\\Users\\hieuq\\AppData\\Local\\Temp\\ipykernel_13320\\1111861228.py:17: FutureWarning: The frame.append method is deprecated and will be removed from pandas in a future version. Use pandas.concat instead.\n",
      "  new_df = new_df.append({'sentence': sentence}, ignore_index=True)\n",
      "C:\\Users\\hieuq\\AppData\\Local\\Temp\\ipykernel_13320\\1111861228.py:17: FutureWarning: The frame.append method is deprecated and will be removed from pandas in a future version. Use pandas.concat instead.\n",
      "  new_df = new_df.append({'sentence': sentence}, ignore_index=True)\n",
      "C:\\Users\\hieuq\\AppData\\Local\\Temp\\ipykernel_13320\\1111861228.py:17: FutureWarning: The frame.append method is deprecated and will be removed from pandas in a future version. Use pandas.concat instead.\n",
      "  new_df = new_df.append({'sentence': sentence}, ignore_index=True)\n",
      "C:\\Users\\hieuq\\AppData\\Local\\Temp\\ipykernel_13320\\1111861228.py:17: FutureWarning: The frame.append method is deprecated and will be removed from pandas in a future version. Use pandas.concat instead.\n",
      "  new_df = new_df.append({'sentence': sentence}, ignore_index=True)\n",
      "C:\\Users\\hieuq\\AppData\\Local\\Temp\\ipykernel_13320\\1111861228.py:17: FutureWarning: The frame.append method is deprecated and will be removed from pandas in a future version. Use pandas.concat instead.\n",
      "  new_df = new_df.append({'sentence': sentence}, ignore_index=True)\n"
     ]
    }
   ],
   "source": [
    "import pandas as pd\n",
    "\n",
    "chunk_size = 256\n",
    "\n",
    "new_df = pd.DataFrame(columns=['sentence'])\n",
    "\n",
    "for i in range(0, len(test_data['data']), chunk_size):\n",
    "    sentence = test_data['data'].iloc[i:i+chunk_size].tolist()\n",
    "    sentence += [''] * (chunk_size - len(sentence))\n",
    "    new_df = new_df.append({'sentence': sentence}, ignore_index=True)\n",
    "\n",
    "print(new_df)"
   ]
  },
  {
   "cell_type": "code",
   "execution_count": 102,
   "metadata": {},
   "outputs": [],
   "source": [
    "new_df['sen'] = new_df['sentence'].apply(lambda x: ''.join(x))"
   ]
  },
  {
   "cell_type": "code",
   "execution_count": 103,
   "metadata": {},
   "outputs": [
    {
     "data": {
      "text/html": [
       "<div>\n",
       "<style scoped>\n",
       "    .dataframe tbody tr th:only-of-type {\n",
       "        vertical-align: middle;\n",
       "    }\n",
       "\n",
       "    .dataframe tbody tr th {\n",
       "        vertical-align: top;\n",
       "    }\n",
       "\n",
       "    .dataframe thead th {\n",
       "        text-align: right;\n",
       "    }\n",
       "</style>\n",
       "<table border=\"1\" class=\"dataframe\">\n",
       "  <thead>\n",
       "    <tr style=\"text-align: right;\">\n",
       "      <th></th>\n",
       "      <th>sentence</th>\n",
       "      <th>sen</th>\n",
       "    </tr>\n",
       "  </thead>\n",
       "  <tbody>\n",
       "    <tr>\n",
       "      <th>0</th>\n",
       "      <td>[RUGBY , UNION , - , CUTTITTA , BACK , FOR , I...</td>\n",
       "      <td>RUGBY UNION - CUTTITTA BACK FOR ITALY AFTER A ...</td>\n",
       "    </tr>\n",
       "    <tr>\n",
       "      <th>1</th>\n",
       "      <td>[Properzi , Curti , , , Carlo , Orlandi , , , ...</td>\n",
       "      <td>Properzi Curti , Carlo Orlandi , Massimo Cutti...</td>\n",
       "    </tr>\n",
       "    <tr>\n",
       "      <th>2</th>\n",
       "      <td>[brightly , but , Bitar , denied , them , an ,...</td>\n",
       "      <td>brightly but Bitar denied them an equaliser wh...</td>\n",
       "    </tr>\n",
       "    <tr>\n",
       "      <th>3</th>\n",
       "      <td>[23.25 ,  , 8. , Dominick , Gauthier , ( , Can...</td>\n",
       "      <td>23.25  8. Dominick Gauthier ( Canada ) 22.73  ...</td>\n",
       "    </tr>\n",
       "    <tr>\n",
       "      <th>4</th>\n",
       "      <td>[-DOCSTART- ,  , CRICKET , - , PAKISTAN , V , ...</td>\n",
       "      <td>-DOCSTART-  CRICKET - PAKISTAN V NEW ZEALAND O...</td>\n",
       "    </tr>\n",
       "    <tr>\n",
       "      <th>...</th>\n",
       "      <td>...</td>\n",
       "      <td>...</td>\n",
       "    </tr>\n",
       "    <tr>\n",
       "      <th>188</th>\n",
       "      <td>[27 ,  , NY , RANGERS , 11 , 13 , 5 , 97 , 86 ...</td>\n",
       "      <td>27  NY RANGERS 11 13 5 97 86 27  NY ISLANDERS ...</td>\n",
       "    </tr>\n",
       "    <tr>\n",
       "      <th>189</th>\n",
       "      <td>[ , Pittsburgh , 5 , WASHINGTON , 3 ,  , Montr...</td>\n",
       "      <td>Pittsburgh 5 WASHINGTON 3  Montreal 3 CHICAGO...</td>\n",
       "    </tr>\n",
       "    <tr>\n",
       "      <th>190</th>\n",
       "      <td>[outpointed , Cuba , 's , Jose , Ribalta , in ...</td>\n",
       "      <td>outpointed Cuba 's Jose Ribalta in their Inter...</td>\n",
       "    </tr>\n",
       "    <tr>\n",
       "      <th>191</th>\n",
       "      <td>[ , Their , other , marksmen , were , Brazilia...</td>\n",
       "      <td>Their other marksmen were Brazilian defender ...</td>\n",
       "    </tr>\n",
       "    <tr>\n",
       "      <th>192</th>\n",
       "      <td>[ , Real , Sociedad , 15 , 7 , 3 , 5 , 20 , 18...</td>\n",
       "      <td>Real Sociedad 15 7 3 5 20 18 24  Valladolid 1...</td>\n",
       "    </tr>\n",
       "  </tbody>\n",
       "</table>\n",
       "<p>193 rows × 2 columns</p>\n",
       "</div>"
      ],
      "text/plain": [
       "                                              sentence  \\\n",
       "0    [RUGBY , UNION , - , CUTTITTA , BACK , FOR , I...   \n",
       "1    [Properzi , Curti , , , Carlo , Orlandi , , , ...   \n",
       "2    [brightly , but , Bitar , denied , them , an ,...   \n",
       "3    [23.25 ,  , 8. , Dominick , Gauthier , ( , Can...   \n",
       "4    [-DOCSTART- ,  , CRICKET , - , PAKISTAN , V , ...   \n",
       "..                                                 ...   \n",
       "188  [27 ,  , NY , RANGERS , 11 , 13 , 5 , 97 , 86 ...   \n",
       "189  [ , Pittsburgh , 5 , WASHINGTON , 3 ,  , Montr...   \n",
       "190  [outpointed , Cuba , 's , Jose , Ribalta , in ...   \n",
       "191  [ , Their , other , marksmen , were , Brazilia...   \n",
       "192  [ , Real , Sociedad , 15 , 7 , 3 , 5 , 20 , 18...   \n",
       "\n",
       "                                                   sen  \n",
       "0    RUGBY UNION - CUTTITTA BACK FOR ITALY AFTER A ...  \n",
       "1    Properzi Curti , Carlo Orlandi , Massimo Cutti...  \n",
       "2    brightly but Bitar denied them an equaliser wh...  \n",
       "3    23.25  8. Dominick Gauthier ( Canada ) 22.73  ...  \n",
       "4    -DOCSTART-  CRICKET - PAKISTAN V NEW ZEALAND O...  \n",
       "..                                                 ...  \n",
       "188  27  NY RANGERS 11 13 5 97 86 27  NY ISLANDERS ...  \n",
       "189   Pittsburgh 5 WASHINGTON 3  Montreal 3 CHICAGO...  \n",
       "190  outpointed Cuba 's Jose Ribalta in their Inter...  \n",
       "191   Their other marksmen were Brazilian defender ...  \n",
       "192   Real Sociedad 15 7 3 5 20 18 24  Valladolid 1...  \n",
       "\n",
       "[193 rows x 2 columns]"
      ]
     },
     "execution_count": 103,
     "metadata": {},
     "output_type": "execute_result"
    }
   ],
   "source": [
    "new_df"
   ]
  },
  {
   "cell_type": "code",
   "execution_count": 105,
   "metadata": {},
   "outputs": [],
   "source": [
    "sen = new_df['sen']"
   ]
  },
  {
   "cell_type": "code",
   "execution_count": 122,
   "metadata": {},
   "outputs": [
    {
     "name": "stdout",
     "output_type": "stream",
     "text": [
      "1/1 [==============================] - 0s 50ms/step\n"
     ]
    },
    {
     "data": {
      "text/plain": [
       "['O']"
      ]
     },
     "execution_count": 122,
     "metadata": {},
     "output_type": "execute_result"
    }
   ],
   "source": [
    "a = make_prediction(model=loaded_model, preprocessed_sentence=pad_sequences(tokenizer.texts_to_sequences(['Lucas']), maxlen=maxlen, padding='post'), id2word=id2word, id2tag=id2tag)[1]\n",
    "a"
   ]
  },
  {
   "cell_type": "code",
   "execution_count": null,
   "metadata": {},
   "outputs": [],
   "source": [
    "make_prediction(model=loaded_model, preprocessed_sentence=pad_sequences(tokenizer.texts_to_sequences([new_df['sentence'][0]]), maxlen=maxlen, padding='post'), id2word=id2word, id2tag=id2tag)[1][0])"
   ]
  },
  {
   "cell_type": "code",
   "execution_count": 183,
   "metadata": {
    "scrolled": true
   },
   "outputs": [
    {
     "name": "stdout",
     "output_type": "stream",
     "text": [
      "1/1 [==============================] - 0s 47ms/step\n",
      "1/1 [==============================] - 0s 43ms/step\n",
      "1/1 [==============================] - 0s 44ms/step\n",
      "1/1 [==============================] - 0s 41ms/step\n",
      "1/1 [==============================] - 0s 42ms/step\n",
      "1/1 [==============================] - 0s 43ms/step\n",
      "1/1 [==============================] - 0s 42ms/step\n",
      "1/1 [==============================] - 0s 42ms/step\n",
      "1/1 [==============================] - 0s 43ms/step\n",
      "1/1 [==============================] - 0s 42ms/step\n",
      "1/1 [==============================] - 0s 41ms/step\n",
      "1/1 [==============================] - 0s 41ms/step\n",
      "1/1 [==============================] - 0s 41ms/step\n",
      "1/1 [==============================] - 0s 41ms/step\n",
      "1/1 [==============================] - 0s 44ms/step\n",
      "1/1 [==============================] - 0s 42ms/step\n",
      "1/1 [==============================] - 0s 43ms/step\n",
      "1/1 [==============================] - 0s 41ms/step\n",
      "1/1 [==============================] - 0s 43ms/step\n",
      "1/1 [==============================] - 0s 41ms/step\n",
      "1/1 [==============================] - 0s 41ms/step\n",
      "1/1 [==============================] - 0s 41ms/step\n",
      "1/1 [==============================] - 0s 43ms/step\n",
      "1/1 [==============================] - 0s 42ms/step\n",
      "1/1 [==============================] - 0s 40ms/step\n",
      "1/1 [==============================] - 0s 42ms/step\n",
      "1/1 [==============================] - 0s 41ms/step\n",
      "1/1 [==============================] - 0s 42ms/step\n",
      "1/1 [==============================] - 0s 43ms/step\n",
      "1/1 [==============================] - 0s 41ms/step\n",
      "1/1 [==============================] - 0s 43ms/step\n",
      "1/1 [==============================] - 0s 43ms/step\n",
      "1/1 [==============================] - 0s 45ms/step\n",
      "1/1 [==============================] - 0s 40ms/step\n",
      "1/1 [==============================] - 0s 42ms/step\n",
      "1/1 [==============================] - 0s 41ms/step\n",
      "1/1 [==============================] - 0s 43ms/step\n",
      "1/1 [==============================] - 0s 41ms/step\n",
      "1/1 [==============================] - 0s 42ms/step\n",
      "1/1 [==============================] - 0s 42ms/step\n",
      "1/1 [==============================] - 0s 43ms/step\n",
      "1/1 [==============================] - 0s 44ms/step\n",
      "1/1 [==============================] - 0s 46ms/step\n",
      "1/1 [==============================] - 0s 42ms/step\n",
      "1/1 [==============================] - 0s 41ms/step\n",
      "1/1 [==============================] - 0s 43ms/step\n",
      "1/1 [==============================] - 0s 41ms/step\n",
      "1/1 [==============================] - 0s 43ms/step\n",
      "1/1 [==============================] - 0s 42ms/step\n",
      "1/1 [==============================] - 0s 42ms/step\n",
      "1/1 [==============================] - 0s 42ms/step\n",
      "1/1 [==============================] - 0s 42ms/step\n",
      "1/1 [==============================] - 0s 41ms/step\n",
      "1/1 [==============================] - 0s 46ms/step\n",
      "1/1 [==============================] - 0s 40ms/step\n",
      "1/1 [==============================] - 0s 41ms/step\n",
      "1/1 [==============================] - 0s 45ms/step\n",
      "1/1 [==============================] - 0s 41ms/step\n",
      "1/1 [==============================] - 0s 42ms/step\n",
      "1/1 [==============================] - 0s 41ms/step\n",
      "1/1 [==============================] - 0s 41ms/step\n",
      "1/1 [==============================] - 0s 43ms/step\n",
      "1/1 [==============================] - 0s 43ms/step\n",
      "1/1 [==============================] - 0s 42ms/step\n",
      "1/1 [==============================] - 0s 42ms/step\n",
      "1/1 [==============================] - 0s 41ms/step\n",
      "1/1 [==============================] - 0s 41ms/step\n",
      "1/1 [==============================] - 0s 40ms/step\n",
      "1/1 [==============================] - 0s 42ms/step\n",
      "1/1 [==============================] - 0s 42ms/step\n",
      "1/1 [==============================] - 0s 43ms/step\n",
      "1/1 [==============================] - 0s 43ms/step\n",
      "1/1 [==============================] - 0s 44ms/step\n",
      "1/1 [==============================] - 0s 41ms/step\n",
      "1/1 [==============================] - 0s 42ms/step\n",
      "1/1 [==============================] - 0s 52ms/step\n",
      "1/1 [==============================] - 0s 43ms/step\n",
      "1/1 [==============================] - 0s 51ms/step\n",
      "1/1 [==============================] - 0s 45ms/step\n",
      "1/1 [==============================] - 0s 50ms/step\n",
      "1/1 [==============================] - 0s 50ms/step\n",
      "1/1 [==============================] - 0s 50ms/step\n",
      "1/1 [==============================] - 0s 52ms/step\n",
      "1/1 [==============================] - 0s 43ms/step\n",
      "1/1 [==============================] - 0s 42ms/step\n",
      "1/1 [==============================] - 0s 41ms/step\n",
      "1/1 [==============================] - 0s 49ms/step\n",
      "1/1 [==============================] - 0s 52ms/step\n",
      "1/1 [==============================] - 0s 51ms/step\n",
      "1/1 [==============================] - 0s 50ms/step\n",
      "1/1 [==============================] - 0s 41ms/step\n",
      "1/1 [==============================] - 0s 40ms/step\n",
      "1/1 [==============================] - 0s 44ms/step\n",
      "1/1 [==============================] - 0s 47ms/step\n",
      "1/1 [==============================] - 0s 55ms/step\n",
      "1/1 [==============================] - 0s 51ms/step\n",
      "1/1 [==============================] - 0s 54ms/step\n",
      "1/1 [==============================] - 0s 41ms/step\n",
      "1/1 [==============================] - 0s 42ms/step\n",
      "1/1 [==============================] - 0s 44ms/step\n",
      "1/1 [==============================] - 0s 52ms/step\n",
      "1/1 [==============================] - 0s 51ms/step\n",
      "1/1 [==============================] - 0s 43ms/step\n",
      "1/1 [==============================] - 0s 41ms/step\n",
      "1/1 [==============================] - 0s 41ms/step\n",
      "1/1 [==============================] - 0s 43ms/step\n",
      "1/1 [==============================] - 0s 43ms/step\n",
      "1/1 [==============================] - 0s 40ms/step\n",
      "1/1 [==============================] - 0s 42ms/step\n",
      "1/1 [==============================] - 0s 44ms/step\n",
      "1/1 [==============================] - 0s 44ms/step\n",
      "1/1 [==============================] - 0s 44ms/step\n",
      "1/1 [==============================] - 0s 41ms/step\n",
      "1/1 [==============================] - 0s 42ms/step\n",
      "1/1 [==============================] - 0s 41ms/step\n",
      "1/1 [==============================] - 0s 43ms/step\n",
      "1/1 [==============================] - 0s 43ms/step\n",
      "1/1 [==============================] - 0s 42ms/step\n",
      "1/1 [==============================] - 0s 42ms/step\n",
      "1/1 [==============================] - 0s 40ms/step\n",
      "1/1 [==============================] - 0s 42ms/step\n",
      "1/1 [==============================] - 0s 42ms/step\n",
      "1/1 [==============================] - 0s 41ms/step\n",
      "1/1 [==============================] - 0s 41ms/step\n",
      "1/1 [==============================] - 0s 45ms/step\n",
      "1/1 [==============================] - 0s 52ms/step\n",
      "1/1 [==============================] - 0s 52ms/step\n",
      "1/1 [==============================] - 0s 51ms/step\n",
      "1/1 [==============================] - 0s 44ms/step\n",
      "1/1 [==============================] - 0s 41ms/step\n",
      "1/1 [==============================] - 0s 41ms/step\n",
      "1/1 [==============================] - 0s 44ms/step\n",
      "1/1 [==============================] - 0s 65ms/step\n",
      "1/1 [==============================] - 0s 52ms/step\n",
      "1/1 [==============================] - 0s 51ms/step\n",
      "1/1 [==============================] - 0s 41ms/step\n",
      "1/1 [==============================] - 0s 40ms/step\n",
      "1/1 [==============================] - 0s 41ms/step\n",
      "1/1 [==============================] - 0s 42ms/step\n",
      "1/1 [==============================] - 0s 42ms/step\n",
      "1/1 [==============================] - 0s 43ms/step\n",
      "1/1 [==============================] - 0s 49ms/step\n",
      "1/1 [==============================] - 0s 49ms/step\n",
      "1/1 [==============================] - 0s 49ms/step\n",
      "1/1 [==============================] - 0s 41ms/step\n",
      "1/1 [==============================] - 0s 43ms/step\n",
      "1/1 [==============================] - 0s 41ms/step\n",
      "1/1 [==============================] - 0s 42ms/step\n",
      "1/1 [==============================] - 0s 40ms/step\n",
      "1/1 [==============================] - 0s 41ms/step\n",
      "1/1 [==============================] - 0s 40ms/step\n",
      "1/1 [==============================] - 0s 42ms/step\n",
      "1/1 [==============================] - 0s 41ms/step\n",
      "1/1 [==============================] - 0s 42ms/step\n",
      "1/1 [==============================] - 0s 41ms/step\n",
      "1/1 [==============================] - 0s 40ms/step\n",
      "1/1 [==============================] - 0s 41ms/step\n",
      "1/1 [==============================] - 0s 40ms/step\n",
      "1/1 [==============================] - 0s 44ms/step\n",
      "1/1 [==============================] - 0s 51ms/step\n",
      "1/1 [==============================] - 0s 52ms/step\n",
      "1/1 [==============================] - 0s 52ms/step\n",
      "1/1 [==============================] - 0s 50ms/step\n",
      "1/1 [==============================] - 0s 51ms/step\n",
      "1/1 [==============================] - 0s 52ms/step\n",
      "1/1 [==============================] - 0s 50ms/step\n",
      "1/1 [==============================] - 0s 50ms/step\n",
      "1/1 [==============================] - 0s 51ms/step\n",
      "1/1 [==============================] - 0s 51ms/step\n",
      "1/1 [==============================] - 0s 52ms/step\n",
      "1/1 [==============================] - 0s 50ms/step\n",
      "1/1 [==============================] - 0s 50ms/step\n",
      "1/1 [==============================] - 0s 49ms/step\n",
      "1/1 [==============================] - 0s 51ms/step\n",
      "1/1 [==============================] - 0s 49ms/step\n",
      "1/1 [==============================] - 0s 50ms/step\n",
      "1/1 [==============================] - 0s 49ms/step\n",
      "1/1 [==============================] - 0s 49ms/step\n",
      "1/1 [==============================] - 0s 48ms/step\n",
      "1/1 [==============================] - 0s 41ms/step\n",
      "1/1 [==============================] - 0s 42ms/step\n",
      "1/1 [==============================] - 0s 44ms/step\n",
      "1/1 [==============================] - 0s 52ms/step\n",
      "1/1 [==============================] - 0s 52ms/step\n",
      "1/1 [==============================] - 0s 50ms/step\n",
      "1/1 [==============================] - 0s 42ms/step\n",
      "1/1 [==============================] - 0s 45ms/step\n",
      "1/1 [==============================] - 0s 42ms/step\n",
      "1/1 [==============================] - 0s 43ms/step\n",
      "1/1 [==============================] - 0s 53ms/step\n",
      "1/1 [==============================] - 0s 51ms/step\n",
      "1/1 [==============================] - 0s 43ms/step\n",
      "1/1 [==============================] - 0s 41ms/step\n"
     ]
    }
   ],
   "source": [
    "new_df['label'] = new_df['sen'].apply(lambda x: make_prediction(model=loaded_model, preprocessed_sentence=pad_sequences(tokenizer.texts_to_sequences([x]), maxlen=maxlen, padding='post'), id2word=id2word, id2tag=id2tag)[1])"
   ]
  },
  {
   "cell_type": "code",
   "execution_count": 184,
   "metadata": {},
   "outputs": [
    {
     "data": {
      "text/html": [
       "<div>\n",
       "<style scoped>\n",
       "    .dataframe tbody tr th:only-of-type {\n",
       "        vertical-align: middle;\n",
       "    }\n",
       "\n",
       "    .dataframe tbody tr th {\n",
       "        vertical-align: top;\n",
       "    }\n",
       "\n",
       "    .dataframe thead th {\n",
       "        text-align: right;\n",
       "    }\n",
       "</style>\n",
       "<table border=\"1\" class=\"dataframe\">\n",
       "  <thead>\n",
       "    <tr style=\"text-align: right;\">\n",
       "      <th></th>\n",
       "      <th>sentence</th>\n",
       "      <th>sen</th>\n",
       "      <th>label</th>\n",
       "    </tr>\n",
       "  </thead>\n",
       "  <tbody>\n",
       "    <tr>\n",
       "      <th>0</th>\n",
       "      <td>[RUGBY , UNION , - , CUTTITTA , BACK , FOR , I...</td>\n",
       "      <td>RUGBY UNION - CUTTITTA BACK FOR ITALY AFTER A ...</td>\n",
       "      <td>[O, O, O, O, O, O, O, O, O, O, O, O, O, O, O, ...</td>\n",
       "    </tr>\n",
       "    <tr>\n",
       "      <th>1</th>\n",
       "      <td>[Properzi , Curti , , , Carlo , Orlandi , , , ...</td>\n",
       "      <td>Properzi Curti , Carlo Orlandi , Massimo Cutti...</td>\n",
       "      <td>[B-PER, B-PER, I-PER, I-PER, O, O, O, O, O, O,...</td>\n",
       "    </tr>\n",
       "    <tr>\n",
       "      <th>2</th>\n",
       "      <td>[brightly , but , Bitar , denied , them , an ,...</td>\n",
       "      <td>brightly but Bitar denied them an equaliser wh...</td>\n",
       "      <td>[O, O, O, O, O, O, O, O, O, O, O, O, O, O, O, ...</td>\n",
       "    </tr>\n",
       "    <tr>\n",
       "      <th>3</th>\n",
       "      <td>[23.25 ,  , 8. , Dominick , Gauthier , ( , Can...</td>\n",
       "      <td>23.25  8. Dominick Gauthier ( Canada ) 22.73  ...</td>\n",
       "      <td>[O, O, O, O, O, O, O, O, O, O, O, O, O, O, O, ...</td>\n",
       "    </tr>\n",
       "    <tr>\n",
       "      <th>4</th>\n",
       "      <td>[-DOCSTART- ,  , CRICKET , - , PAKISTAN , V , ...</td>\n",
       "      <td>-DOCSTART-  CRICKET - PAKISTAN V NEW ZEALAND O...</td>\n",
       "      <td>[O, O, B-LOC, O, O, O, O, O, O, O, O, B-MISC, ...</td>\n",
       "    </tr>\n",
       "    <tr>\n",
       "      <th>...</th>\n",
       "      <td>...</td>\n",
       "      <td>...</td>\n",
       "      <td>...</td>\n",
       "    </tr>\n",
       "    <tr>\n",
       "      <th>188</th>\n",
       "      <td>[27 ,  , NY , RANGERS , 11 , 13 , 5 , 97 , 86 ...</td>\n",
       "      <td>27  NY RANGERS 11 13 5 97 86 27  NY ISLANDERS ...</td>\n",
       "      <td>[O, B-ORG, O, O, O, O, O, O, O, O, O, O, O, O,...</td>\n",
       "    </tr>\n",
       "    <tr>\n",
       "      <th>189</th>\n",
       "      <td>[ , Pittsburgh , 5 , WASHINGTON , 3 ,  , Montr...</td>\n",
       "      <td>Pittsburgh 5 WASHINGTON 3  Montreal 3 CHICAGO...</td>\n",
       "      <td>[O, O, O, O, O, O, I-ORG, I-ORG, I-ORG, O, O, ...</td>\n",
       "    </tr>\n",
       "    <tr>\n",
       "      <th>190</th>\n",
       "      <td>[outpointed , Cuba , 's , Jose , Ribalta , in ...</td>\n",
       "      <td>outpointed Cuba 's Jose Ribalta in their Inter...</td>\n",
       "      <td>[B-LOC, O, O, O, O, B-MISC, I-MISC, O, O, O, O...</td>\n",
       "    </tr>\n",
       "    <tr>\n",
       "      <th>191</th>\n",
       "      <td>[ , Their , other , marksmen , were , Brazilia...</td>\n",
       "      <td>Their other marksmen were Brazilian defender ...</td>\n",
       "      <td>[O, O, B-MISC, O, O, O, O, O, O, O, O, O, O, O...</td>\n",
       "    </tr>\n",
       "    <tr>\n",
       "      <th>192</th>\n",
       "      <td>[ , Real , Sociedad , 15 , 7 , 3 , 5 , 20 , 18...</td>\n",
       "      <td>Real Sociedad 15 7 3 5 20 18 24  Valladolid 1...</td>\n",
       "      <td>[O, O, O, O, O, O, O, O, O, O, O, O, O, O, O, ...</td>\n",
       "    </tr>\n",
       "  </tbody>\n",
       "</table>\n",
       "<p>193 rows × 3 columns</p>\n",
       "</div>"
      ],
      "text/plain": [
       "                                              sentence  \\\n",
       "0    [RUGBY , UNION , - , CUTTITTA , BACK , FOR , I...   \n",
       "1    [Properzi , Curti , , , Carlo , Orlandi , , , ...   \n",
       "2    [brightly , but , Bitar , denied , them , an ,...   \n",
       "3    [23.25 ,  , 8. , Dominick , Gauthier , ( , Can...   \n",
       "4    [-DOCSTART- ,  , CRICKET , - , PAKISTAN , V , ...   \n",
       "..                                                 ...   \n",
       "188  [27 ,  , NY , RANGERS , 11 , 13 , 5 , 97 , 86 ...   \n",
       "189  [ , Pittsburgh , 5 , WASHINGTON , 3 ,  , Montr...   \n",
       "190  [outpointed , Cuba , 's , Jose , Ribalta , in ...   \n",
       "191  [ , Their , other , marksmen , were , Brazilia...   \n",
       "192  [ , Real , Sociedad , 15 , 7 , 3 , 5 , 20 , 18...   \n",
       "\n",
       "                                                   sen  \\\n",
       "0    RUGBY UNION - CUTTITTA BACK FOR ITALY AFTER A ...   \n",
       "1    Properzi Curti , Carlo Orlandi , Massimo Cutti...   \n",
       "2    brightly but Bitar denied them an equaliser wh...   \n",
       "3    23.25  8. Dominick Gauthier ( Canada ) 22.73  ...   \n",
       "4    -DOCSTART-  CRICKET - PAKISTAN V NEW ZEALAND O...   \n",
       "..                                                 ...   \n",
       "188  27  NY RANGERS 11 13 5 97 86 27  NY ISLANDERS ...   \n",
       "189   Pittsburgh 5 WASHINGTON 3  Montreal 3 CHICAGO...   \n",
       "190  outpointed Cuba 's Jose Ribalta in their Inter...   \n",
       "191   Their other marksmen were Brazilian defender ...   \n",
       "192   Real Sociedad 15 7 3 5 20 18 24  Valladolid 1...   \n",
       "\n",
       "                                                 label  \n",
       "0    [O, O, O, O, O, O, O, O, O, O, O, O, O, O, O, ...  \n",
       "1    [B-PER, B-PER, I-PER, I-PER, O, O, O, O, O, O,...  \n",
       "2    [O, O, O, O, O, O, O, O, O, O, O, O, O, O, O, ...  \n",
       "3    [O, O, O, O, O, O, O, O, O, O, O, O, O, O, O, ...  \n",
       "4    [O, O, B-LOC, O, O, O, O, O, O, O, O, B-MISC, ...  \n",
       "..                                                 ...  \n",
       "188  [O, B-ORG, O, O, O, O, O, O, O, O, O, O, O, O,...  \n",
       "189  [O, O, O, O, O, O, I-ORG, I-ORG, I-ORG, O, O, ...  \n",
       "190  [B-LOC, O, O, O, O, B-MISC, I-MISC, O, O, O, O...  \n",
       "191  [O, O, B-MISC, O, O, O, O, O, O, O, O, O, O, O...  \n",
       "192  [O, O, O, O, O, O, O, O, O, O, O, O, O, O, O, ...  \n",
       "\n",
       "[193 rows x 3 columns]"
      ]
     },
     "execution_count": 184,
     "metadata": {},
     "output_type": "execute_result"
    }
   ],
   "source": [
    "new_df"
   ]
  },
  {
   "cell_type": "code",
   "execution_count": 186,
   "metadata": {},
   "outputs": [
    {
     "name": "stdout",
     "output_type": "stream",
     "text": [
      "38622\n"
     ]
    }
   ],
   "source": [
    "test_data = new_df['label']\n",
    "sum = 0\n",
    "for x in test_data:\n",
    "    sum += len(x)\n",
    "print(sum)"
   ]
  },
  {
   "cell_type": "code",
   "execution_count": 182,
   "metadata": {},
   "outputs": [
    {
     "data": {
      "text/plain": [
       "['O',\n",
       " 'O',\n",
       " 'O',\n",
       " 'O',\n",
       " 'O',\n",
       " 'O',\n",
       " 'O',\n",
       " 'O',\n",
       " 'O',\n",
       " 'O',\n",
       " 'O',\n",
       " 'O',\n",
       " 'O',\n",
       " 'O',\n",
       " 'O',\n",
       " 'O',\n",
       " 'O',\n",
       " 'O',\n",
       " 'O',\n",
       " 'O',\n",
       " 'O',\n",
       " 'O',\n",
       " 'O',\n",
       " 'O',\n",
       " 'O',\n",
       " 'O',\n",
       " 'O',\n",
       " 'O',\n",
       " 'O',\n",
       " 'O',\n",
       " 'O',\n",
       " 'O',\n",
       " 'O',\n",
       " 'O',\n",
       " 'O',\n",
       " 'O',\n",
       " 'O',\n",
       " 'O',\n",
       " 'O',\n",
       " 'O',\n",
       " 'O',\n",
       " 'O',\n",
       " 'O',\n",
       " 'O',\n",
       " 'O',\n",
       " 'O',\n",
       " 'O',\n",
       " 'O',\n",
       " 'O',\n",
       " 'O',\n",
       " 'O',\n",
       " 'O',\n",
       " 'O',\n",
       " 'O',\n",
       " 'O',\n",
       " 'O',\n",
       " 'O',\n",
       " 'O',\n",
       " 'O',\n",
       " 'O',\n",
       " 'O',\n",
       " 'O',\n",
       " 'O',\n",
       " 'O',\n",
       " 'O',\n",
       " 'O',\n",
       " 'O',\n",
       " 'O',\n",
       " 'O',\n",
       " 'O',\n",
       " 'O',\n",
       " 'O',\n",
       " 'O',\n",
       " 'O',\n",
       " 'O',\n",
       " 'O',\n",
       " 'O',\n",
       " 'O',\n",
       " 'O',\n",
       " 'O',\n",
       " 'O',\n",
       " 'O',\n",
       " 'O',\n",
       " 'O',\n",
       " 'O',\n",
       " 'O',\n",
       " 'O',\n",
       " 'O',\n",
       " 'O',\n",
       " 'O',\n",
       " 'O',\n",
       " 'O',\n",
       " 'O',\n",
       " 'O',\n",
       " 'O',\n",
       " 'O',\n",
       " 'O',\n",
       " 'O',\n",
       " 'O',\n",
       " 'O',\n",
       " 'O',\n",
       " 'O',\n",
       " 'O',\n",
       " 'O',\n",
       " 'O',\n",
       " 'B-MISC',\n",
       " 'B-MISC',\n",
       " 'I-MISC',\n",
       " 'O',\n",
       " 'O',\n",
       " 'O',\n",
       " 'O',\n",
       " 'O',\n",
       " 'O',\n",
       " 'O',\n",
       " 'O',\n",
       " 'O',\n",
       " 'O',\n",
       " 'O',\n",
       " 'O',\n",
       " 'O',\n",
       " 'O',\n",
       " 'O',\n",
       " 'O',\n",
       " 'O',\n",
       " 'O',\n",
       " 'O',\n",
       " 'O',\n",
       " 'O',\n",
       " 'O',\n",
       " 'O',\n",
       " 'O',\n",
       " 'O',\n",
       " 'O',\n",
       " 'O',\n",
       " 'O',\n",
       " 'O',\n",
       " 'O',\n",
       " 'O',\n",
       " 'O',\n",
       " 'O',\n",
       " 'O',\n",
       " 'O',\n",
       " 'O',\n",
       " 'O',\n",
       " 'O',\n",
       " 'O',\n",
       " 'O',\n",
       " 'O',\n",
       " 'O',\n",
       " 'O',\n",
       " 'O',\n",
       " 'O',\n",
       " 'O',\n",
       " 'O',\n",
       " 'O',\n",
       " 'O',\n",
       " 'O',\n",
       " 'O',\n",
       " 'O',\n",
       " 'O',\n",
       " 'O',\n",
       " 'O',\n",
       " 'O',\n",
       " 'O',\n",
       " 'O',\n",
       " 'O',\n",
       " 'O',\n",
       " 'O',\n",
       " 'O',\n",
       " 'O',\n",
       " 'O',\n",
       " 'O',\n",
       " 'O',\n",
       " 'O',\n",
       " 'O',\n",
       " 'O',\n",
       " 'O',\n",
       " 'O',\n",
       " 'O',\n",
       " 'O',\n",
       " 'B-PER',\n",
       " 'I-PER',\n",
       " 'I-PER',\n",
       " 'I-PER',\n",
       " 'I-PER',\n",
       " 'I-PER']"
      ]
     },
     "execution_count": 182,
     "metadata": {},
     "output_type": "execute_result"
    }
   ],
   "source": [
    "new_df['label'][191]"
   ]
  },
  {
   "cell_type": "code",
   "execution_count": null,
   "metadata": {},
   "outputs": [],
   "source": []
  },
  {
   "cell_type": "code",
   "execution_count": null,
   "metadata": {},
   "outputs": [],
   "source": []
  },
  {
   "cell_type": "code",
   "execution_count": null,
   "metadata": {},
   "outputs": [],
   "source": [
    "y_test_d_predictions = test_data['label'].values"
   ]
  },
  {
   "cell_type": "code",
   "execution_count": null,
   "metadata": {},
   "outputs": [],
   "source": [
    "import numpy as np\n",
    "import csv\n",
    "\n",
    "csv_file_path = 'output_nnn.csv'\n",
    "\n",
    "with open(csv_file_path, 'w', newline='') as csvfile:\n",
    "    csvwriter = csv.writer(csvfile)\n",
    "    for item in y_test_d_predictions:\n",
    "        csvwriter.writerow([item])\n",
    "\n",
    "print(f\"Array has been written to {csv_file_path}\")"
   ]
  },
  {
   "cell_type": "code",
   "execution_count": null,
   "metadata": {},
   "outputs": [],
   "source": [
    "import zipfile\n",
    "\n",
    "csv_file_path = 'output_nnn.csv'\n",
    "zip_file_path = 'output_nnn.csv.zip'\n",
    "\n",
    "# Create a Zip file and add the CSV file to it\n",
    "with zipfile.ZipFile(zip_file_path, 'w', zipfile.ZIP_DEFLATED) as zipf:\n",
    "    zipf.write(csv_file_path, arcname='output_nnn.csv')\n",
    "\n",
    "print(f\"{csv_file_path} has been zipped to {zip_file_path}\")"
   ]
  },
  {
   "cell_type": "code",
   "execution_count": null,
   "metadata": {},
   "outputs": [],
   "source": []
  },
  {
   "cell_type": "code",
   "execution_count": null,
   "metadata": {},
   "outputs": [],
   "source": []
  },
  {
   "cell_type": "code",
   "execution_count": null,
   "metadata": {},
   "outputs": [],
   "source": []
  },
  {
   "cell_type": "code",
   "execution_count": null,
   "metadata": {},
   "outputs": [],
   "source": []
  },
  {
   "cell_type": "code",
   "execution_count": null,
   "metadata": {},
   "outputs": [],
   "source": []
  },
  {
   "cell_type": "code",
   "execution_count": null,
   "metadata": {},
   "outputs": [],
   "source": [
    "# Import necessary libraries\n",
    "import torch\n",
    "from transformers import BertTokenizer, BertForTokenClassification\n",
    "from transformers import AdamW, get_linear_schedule_with_warmup\n",
    "from torch.utils.data import DataLoader\n",
    "\n",
    "# Load the BERT tokenizer and model\n",
    "tokenizer = BertTokenizer.from_pretrained(\"bert-base-uncased\")\n",
    "model = BertForTokenClassification.from_pretrained(\"bert-base-uncased\", num_labels=NUM_LABELS)  # Set NUM_LABELS according to your dataset\n",
    "\n",
    "# Tokenization\n",
    "def tokenize_and_preserve_labels(sentence, text_labels):\n",
    "    tokenized_sentence = []\n",
    "    labels = []\n",
    "\n",
    "    for word, label in zip(sentence, text_labels):\n",
    "        tokenized_word = tokenizer.tokenize(word)\n",
    "        n_subwords = len(tokenized_word)\n",
    "        tokenized_sentence.extend(tokenized_word)\n",
    "        labels.extend([label] * n_subwords)\n",
    "\n",
    "    return tokenized_sentence, labels\n",
    "\n",
    "# Assuming `sentences` and `labels` are lists containing sentences and their corresponding labels\n",
    "tokenized_texts_and_labels = [tokenize_and_preserve_labels(sent, labs) for sent, labs in zip(sentences, labels)]\n",
    "tokenized_texts = [token_label_pair[0] for token_label_pair in tokenized_texts_and_labels]\n",
    "labels = [token_label_pair[1] for token_label_pair in tokenized_texts_and_labels]\n",
    "\n",
    "# Convert tokenized text and labels to tensor format\n",
    "input_ids = pad_sequences([tokenizer.convert_tokens_to_ids(txt) for txt in tokenized_texts], maxlen=MAX_LEN, dtype=\"long\", value=0.0, truncating=\"post\", padding=\"post\")\n",
    "tags = pad_sequences([[tag2idx.get(l) for l in lab] for lab in labels], maxlen=MAX_LEN, value=tag2idx[\"PAD\"], padding=\"post\", dtype=\"long\", truncating=\"post\")\n",
    "\n",
    "# Create attention masks to ignore padded tokens\n",
    "attention_masks = [[float(i != 0.0) for i in ii] for ii in input_ids]\n",
    "\n",
    "# Split data into train and validation sets and wrap them in DataLoader for efficient batching\n",
    "\n",
    "# Fine-tuning setup\n",
    "optimizer = AdamW(model.parameters(), lr=3e-5, eps=1e-8)\n",
    "total_steps = len(train_dataloader) * EPOCHS\n",
    "scheduler = get_linear_schedule_with_warmup(optimizer, num_warmup_steps=0, num_training_steps=total_steps)\n",
    "\n",
    "# Training loop\n",
    "for _ in range(EPOCHS):\n",
    "    model.train()\n",
    "    for batch in train_dataloader:\n",
    "        b_input_ids, b_labels, b_masks = batch\n",
    "        outputs = model(b_input_ids, token_type_ids=None, attention_mask=b_masks, labels=b_labels)\n",
    "        loss = outputs[0]\n",
    "        loss.backward()\n",
    "        optimizer.step()\n",
    "        scheduler.step()\n",
    "        model.zero_grad()\n",
    "    # Validation loop can be added here\n",
    "\n",
    "model.save_pretrained(\"./ner_model\")"
   ]
  }
 ],
 "metadata": {
  "kaggle": {
   "accelerator": "gpu",
   "dataSources": [
    {
     "datasetId": 1014,
     "sourceId": 4361,
     "sourceType": "datasetVersion"
    },
    {
     "datasetId": 1861688,
     "sourceId": 3043695,
     "sourceType": "datasetVersion"
    }
   ],
   "dockerImageVersionId": 30152,
   "isGpuEnabled": true,
   "isInternetEnabled": false,
   "language": "python",
   "sourceType": "notebook"
  },
  "kernelspec": {
   "display_name": "Python 3 (ipykernel)",
   "language": "python",
   "name": "python3"
  },
  "language_info": {
   "codemirror_mode": {
    "name": "ipython",
    "version": 3
   },
   "file_extension": ".py",
   "mimetype": "text/x-python",
   "name": "python",
   "nbconvert_exporter": "python",
   "pygments_lexer": "ipython3",
   "version": "3.10.11"
  }
 },
 "nbformat": 4,
 "nbformat_minor": 4
}
