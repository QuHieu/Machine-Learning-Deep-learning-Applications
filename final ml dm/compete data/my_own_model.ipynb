{
 "cells": [
  {
   "cell_type": "markdown",
   "metadata": {},
   "source": [
    "# 1- Importing Libraries"
   ]
  },
  {
   "cell_type": "code",
   "execution_count": 1,
   "metadata": {
    "execution": {
     "iopub.execute_input": "2022-01-15T16:28:01.937999Z",
     "iopub.status.busy": "2022-01-15T16:28:01.937479Z",
     "iopub.status.idle": "2022-01-15T16:28:06.525904Z",
     "shell.execute_reply": "2022-01-15T16:28:06.525195Z",
     "shell.execute_reply.started": "2022-01-15T16:28:01.937965Z"
    }
   },
   "outputs": [],
   "source": [
    "import numpy as np\n",
    "import pandas as pd\n",
    "import matplotlib.pyplot as plt\n",
    "import seaborn as sns\n",
    "import tensorflow as tf"
   ]
  },
  {
   "cell_type": "markdown",
   "metadata": {},
   "source": [
    "# 2- Importing Data "
   ]
  },
  {
   "cell_type": "code",
   "execution_count": 59,
   "metadata": {
    "execution": {
     "iopub.execute_input": "2022-01-15T16:28:06.529836Z",
     "iopub.status.busy": "2022-01-15T16:28:06.529637Z",
     "iopub.status.idle": "2022-01-15T16:28:07.57241Z",
     "shell.execute_reply": "2022-01-15T16:28:07.571743Z",
     "shell.execute_reply.started": "2022-01-15T16:28:06.529812Z"
    }
   },
   "outputs": [
    {
     "data": {
      "text/html": [
       "<div>\n",
       "<style scoped>\n",
       "    .dataframe tbody tr th:only-of-type {\n",
       "        vertical-align: middle;\n",
       "    }\n",
       "\n",
       "    .dataframe tbody tr th {\n",
       "        vertical-align: top;\n",
       "    }\n",
       "\n",
       "    .dataframe thead th {\n",
       "        text-align: right;\n",
       "    }\n",
       "</style>\n",
       "<table border=\"1\" class=\"dataframe\">\n",
       "  <thead>\n",
       "    <tr style=\"text-align: right;\">\n",
       "      <th></th>\n",
       "      <th>data</th>\n",
       "      <th>1</th>\n",
       "      <th>2</th>\n",
       "      <th>3</th>\n",
       "    </tr>\n",
       "  </thead>\n",
       "  <tbody>\n",
       "    <tr>\n",
       "      <th>0</th>\n",
       "      <td>NaN</td>\n",
       "      <td>NaN</td>\n",
       "      <td>NaN</td>\n",
       "      <td>NaN</td>\n",
       "    </tr>\n",
       "    <tr>\n",
       "      <th>1</th>\n",
       "      <td>EU</td>\n",
       "      <td>NaN</td>\n",
       "      <td>NaN</td>\n",
       "      <td>NaN</td>\n",
       "    </tr>\n",
       "    <tr>\n",
       "      <th>2</th>\n",
       "      <td>rejects</td>\n",
       "      <td>NaN</td>\n",
       "      <td>NaN</td>\n",
       "      <td>NaN</td>\n",
       "    </tr>\n",
       "    <tr>\n",
       "      <th>3</th>\n",
       "      <td>German</td>\n",
       "      <td>NaN</td>\n",
       "      <td>NaN</td>\n",
       "      <td>NaN</td>\n",
       "    </tr>\n",
       "    <tr>\n",
       "      <th>4</th>\n",
       "      <td>call</td>\n",
       "      <td>NaN</td>\n",
       "      <td>NaN</td>\n",
       "      <td>NaN</td>\n",
       "    </tr>\n",
       "  </tbody>\n",
       "</table>\n",
       "</div>"
      ],
      "text/plain": [
       "      data   1    2    3\n",
       "0      NaN NaN  NaN  NaN\n",
       "1       EU NaN  NaN  NaN\n",
       "2  rejects NaN  NaN  NaN\n",
       "3   German NaN  NaN  NaN\n",
       "4     call NaN  NaN  NaN"
      ]
     },
     "execution_count": 59,
     "metadata": {},
     "output_type": "execute_result"
    }
   ],
   "source": [
    "data_path = \"train_data.csv\"\n",
    "\n",
    "data = pd.read_csv(data_path, sep=';',  header=None, skip_blank_lines=False)\n",
    "# filling the first column that determines which sentence each word belongs to.\n",
    "data.fillna(method = 'ffill', inplace = True)\n",
    "data.rename(columns = {0:'data'}, inplace = True)\n",
    "data.head()"
   ]
  },
  {
   "cell_type": "code",
   "execution_count": 61,
   "metadata": {},
   "outputs": [
    {
     "data": {
      "text/html": [
       "<div>\n",
       "<style scoped>\n",
       "    .dataframe tbody tr th:only-of-type {\n",
       "        vertical-align: middle;\n",
       "    }\n",
       "\n",
       "    .dataframe tbody tr th {\n",
       "        vertical-align: top;\n",
       "    }\n",
       "\n",
       "    .dataframe thead th {\n",
       "        text-align: right;\n",
       "    }\n",
       "</style>\n",
       "<table border=\"1\" class=\"dataframe\">\n",
       "  <thead>\n",
       "    <tr style=\"text-align: right;\">\n",
       "      <th></th>\n",
       "      <th>data</th>\n",
       "      <th>label</th>\n",
       "    </tr>\n",
       "  </thead>\n",
       "  <tbody>\n",
       "    <tr>\n",
       "      <th>0</th>\n",
       "      <td></td>\n",
       "      <td></td>\n",
       "    </tr>\n",
       "    <tr>\n",
       "      <th>1</th>\n",
       "      <td>EU</td>\n",
       "      <td>B-ORG</td>\n",
       "    </tr>\n",
       "    <tr>\n",
       "      <th>2</th>\n",
       "      <td>rejects</td>\n",
       "      <td>O</td>\n",
       "    </tr>\n",
       "    <tr>\n",
       "      <th>3</th>\n",
       "      <td>German</td>\n",
       "      <td>B-MISC</td>\n",
       "    </tr>\n",
       "    <tr>\n",
       "      <th>4</th>\n",
       "      <td>call</td>\n",
       "      <td>O</td>\n",
       "    </tr>\n",
       "    <tr>\n",
       "      <th>...</th>\n",
       "      <td>...</td>\n",
       "      <td>...</td>\n",
       "    </tr>\n",
       "    <tr>\n",
       "      <th>219547</th>\n",
       "      <td>three</td>\n",
       "      <td></td>\n",
       "    </tr>\n",
       "    <tr>\n",
       "      <th>219548</th>\n",
       "      <td>Swansea</td>\n",
       "      <td>B-ORG</td>\n",
       "    </tr>\n",
       "    <tr>\n",
       "      <th>219549</th>\n",
       "      <td>1</td>\n",
       "      <td>O</td>\n",
       "    </tr>\n",
       "    <tr>\n",
       "      <th>219550</th>\n",
       "      <td>Lincoln</td>\n",
       "      <td>B-ORG</td>\n",
       "    </tr>\n",
       "    <tr>\n",
       "      <th>219551</th>\n",
       "      <td>2</td>\n",
       "      <td>O</td>\n",
       "    </tr>\n",
       "  </tbody>\n",
       "</table>\n",
       "<p>219552 rows × 2 columns</p>\n",
       "</div>"
      ],
      "text/plain": [
       "           data   label\n",
       "0                      \n",
       "1            EU   B-ORG\n",
       "2       rejects       O\n",
       "3        German  B-MISC\n",
       "4          call       O\n",
       "...         ...     ...\n",
       "219547    three        \n",
       "219548  Swansea   B-ORG\n",
       "219549        1       O\n",
       "219550  Lincoln   B-ORG\n",
       "219551        2       O\n",
       "\n",
       "[219552 rows x 2 columns]"
      ]
     },
     "execution_count": 61,
     "metadata": {},
     "output_type": "execute_result"
    }
   ],
   "source": [
    "import pandas as pd\n",
    "\n",
    "# file_path = 'drive/MyDrive/Colab Notebooks/compete data/train_gt.csv'\n",
    "file_path = 'train_gt.csv'\n",
    "\n",
    "label = pd.read_csv(file_path, header=None, names=['Labels'], skip_blank_lines=False)\n",
    "data['label'] = label\n",
    "data = data[['data', 'label']]\n",
    "\n",
    "data['data'] = data['data'].fillna('')\n",
    "data['label'] = data['label'].fillna('')\n",
    "\n",
    "data"
   ]
  },
  {
   "cell_type": "code",
   "execution_count": null,
   "metadata": {},
   "outputs": [],
   "source": [
    "# final_data['data'] = final_data['data'].fillna('')\n",
    "# final_data['label'] = final_data['label'].fillna('')"
   ]
  },
  {
   "cell_type": "code",
   "execution_count": null,
   "metadata": {},
   "outputs": [],
   "source": []
  },
  {
   "cell_type": "code",
   "execution_count": null,
   "metadata": {},
   "outputs": [],
   "source": []
  },
  {
   "cell_type": "markdown",
   "metadata": {},
   "source": [
    "## Ready to create new data"
   ]
  },
  {
   "cell_type": "code",
   "execution_count": 6,
   "metadata": {},
   "outputs": [
    {
     "name": "stderr",
     "output_type": "stream",
     "text": [
      "100%|███████████████████████████████████████████████████████████████████████| 202386/202386 [00:07<00:00, 27453.21it/s]\n",
      "100%|█████████████████████████████████████████████████████████████████████████| 50937/50937 [00:02<00:00, 25006.37it/s]\n"
     ]
    }
   ],
   "source": [
    "from sklearn.preprocessing import LabelEncoder\n",
    "from tqdm import tqdm\n",
    "\n",
    "def load_data(gt_path, data_path):\n",
    "\twith open(data_path) as f:\n",
    "\t\tdata = f.read().splitlines()\n",
    "\n",
    "\twith open(gt_path, \"r\") as f:\n",
    "\t\tlabels = f.read().splitlines()\n",
    "\n",
    "\tdf = pd.DataFrame({\"text\": data, \"label\": labels})\n",
    "\tdf = df[df[\"text\"] != \";;;\"]\n",
    "\tdf[\"text\"] = df[\"text\"].apply(lambda x: x.replace(\";;;\", \"\"))\n",
    "\tdf = df[~(df[\"label\"].str.strip()==\"\")]\n",
    "\tdf = df[~df[\"label\"].str.contains(\";\")]\n",
    "\n",
    "\tdf[\"label\"] = df[\"label\"].str.strip()\n",
    "\n",
    "\tdf[\"label\"] = np.where(df[\"label\"] == \"O O\", \"O\", df[\"label\"])\n",
    "\treturn df\n",
    "\n",
    "train = load_data(\"train_gt.csv\", \"train_data.csv\")\n",
    "valid = load_data(\"valid_gt.csv\", \"valid_data.csv\")\n",
    "# label_mapping = {'O': 0, 'B-ORG': 1, 'B-MISC': 2, 'B-PER': 3, 'I-PER': 4, 'B-LOC': 5, 'I-ORG': 6, 'I-MISC': 7, 'I-LOC': 8}\n",
    "# train['label'] = train['label'].map(label_mapping)\n",
    "# valid['label'] = valid['label'].map(label_mapping)\n",
    "# print(len(valid))\n",
    "# print(train['label'].unique())\n",
    "# print(valid['label'].unique())\n",
    "ner_pos = LabelEncoder()\n",
    "def rows_to_sentences_and_labels(df):\n",
    "    sentences = []\n",
    "    sentences_labels = []\n",
    "    current_sentence = []\n",
    "    current_labels = []\n",
    "\n",
    "    for index, row in tqdm(df.iterrows(), total = len(df)):\n",
    "        word, label = row['text'], row['label']\n",
    "        current_sentence.append(word.strip())\n",
    "        current_labels.append(label)\n",
    "        if word.strip() == '.':\n",
    "            sentences.append(current_sentence)\n",
    "            sentences_labels.append(current_labels)\n",
    "            current_sentence = []\n",
    "            current_labels = []\n",
    "\n",
    "    return sentences, sentences_labels\n",
    "\n",
    "train_sentences, train_sentences_labels = rows_to_sentences_and_labels(train)\n",
    "valid_sentences, valid_sentences_labels = rows_to_sentences_and_labels(valid)"
   ]
  },
  {
   "cell_type": "code",
   "execution_count": 7,
   "metadata": {},
   "outputs": [
    {
     "data": {
      "text/plain": [
       "[['EU', 'rejects', 'German', 'call', 'to', 'boycott', 'British', 'lamb', '.'],\n",
       " ['Peter',\n",
       "  'Blackburn',\n",
       "  'BRUSSELS',\n",
       "  '1996-08-22',\n",
       "  'The',\n",
       "  'European',\n",
       "  'Commission',\n",
       "  'said',\n",
       "  'on',\n",
       "  'Thursday',\n",
       "  'it',\n",
       "  'disagreed',\n",
       "  'with',\n",
       "  'German',\n",
       "  'advice',\n",
       "  'to',\n",
       "  'consumers',\n",
       "  'to',\n",
       "  'shun',\n",
       "  'British',\n",
       "  'lamb',\n",
       "  'until',\n",
       "  'scientists',\n",
       "  'determine',\n",
       "  'whether',\n",
       "  'mad',\n",
       "  'cow',\n",
       "  'disease',\n",
       "  'can',\n",
       "  'be',\n",
       "  'transmitted',\n",
       "  'to',\n",
       "  'sheep',\n",
       "  '.'],\n",
       " ['Germany',\n",
       "  \"'s\",\n",
       "  'representative',\n",
       "  'to',\n",
       "  'the',\n",
       "  'European',\n",
       "  'Union',\n",
       "  \"'s\",\n",
       "  'veterinary',\n",
       "  'committee',\n",
       "  'Werner',\n",
       "  'Zwingmann',\n",
       "  'said',\n",
       "  'on',\n",
       "  'Wednesday',\n",
       "  'consumers',\n",
       "  'should',\n",
       "  'buy',\n",
       "  'sheepmeat',\n",
       "  'from',\n",
       "  'countries',\n",
       "  'other',\n",
       "  'than',\n",
       "  'Britain',\n",
       "  'until',\n",
       "  'the',\n",
       "  'scientific',\n",
       "  'advice',\n",
       "  'was',\n",
       "  'clearer',\n",
       "  '.'],\n",
       " ['We',\n",
       "  'do',\n",
       "  \"n't\",\n",
       "  'support',\n",
       "  'any',\n",
       "  'such',\n",
       "  'recommendation',\n",
       "  'because',\n",
       "  'we',\n",
       "  'do',\n",
       "  \"n't\",\n",
       "  'see',\n",
       "  'any',\n",
       "  'grounds',\n",
       "  'for',\n",
       "  'it',\n",
       "  'the',\n",
       "  'Commission',\n",
       "  \"'s\",\n",
       "  'chief',\n",
       "  'spokesman',\n",
       "  'Nikolaus',\n",
       "  'van',\n",
       "  'der',\n",
       "  'Pas',\n",
       "  'told',\n",
       "  'a',\n",
       "  'news',\n",
       "  'briefing',\n",
       "  '.'],\n",
       " ['He',\n",
       "  'said',\n",
       "  'further',\n",
       "  'scientific',\n",
       "  'study',\n",
       "  'was',\n",
       "  'required',\n",
       "  'and',\n",
       "  'if',\n",
       "  'it',\n",
       "  'was',\n",
       "  'found',\n",
       "  'that',\n",
       "  'action',\n",
       "  'was',\n",
       "  'needed',\n",
       "  'it',\n",
       "  'should',\n",
       "  'be',\n",
       "  'taken',\n",
       "  'by',\n",
       "  'the',\n",
       "  'European',\n",
       "  'Union',\n",
       "  '.']]"
      ]
     },
     "execution_count": 7,
     "metadata": {},
     "output_type": "execute_result"
    }
   ],
   "source": [
    "train_sentences[:5]"
   ]
  },
  {
   "cell_type": "code",
   "execution_count": 8,
   "metadata": {},
   "outputs": [
    {
     "data": {
      "text/plain": [
       "[['B-ORG', 'O', 'B-MISC', 'O', 'O', 'O', 'B-MISC', 'O', 'O'],\n",
       " ['B-PER',\n",
       "  'I-PER',\n",
       "  'B-LOC',\n",
       "  'O',\n",
       "  'O',\n",
       "  'B-ORG',\n",
       "  'I-ORG',\n",
       "  'O',\n",
       "  'O',\n",
       "  'O',\n",
       "  'O',\n",
       "  'O',\n",
       "  'O',\n",
       "  'B-MISC',\n",
       "  'O',\n",
       "  'O',\n",
       "  'O',\n",
       "  'O',\n",
       "  'O',\n",
       "  'B-MISC',\n",
       "  'O',\n",
       "  'O',\n",
       "  'O',\n",
       "  'O',\n",
       "  'O',\n",
       "  'O',\n",
       "  'O',\n",
       "  'O',\n",
       "  'O',\n",
       "  'O',\n",
       "  'O',\n",
       "  'O',\n",
       "  'O',\n",
       "  'O'],\n",
       " ['B-LOC',\n",
       "  'O',\n",
       "  'O',\n",
       "  'O',\n",
       "  'O',\n",
       "  'B-ORG',\n",
       "  'I-ORG',\n",
       "  'O',\n",
       "  'O',\n",
       "  'O',\n",
       "  'B-PER',\n",
       "  'I-PER',\n",
       "  'O',\n",
       "  'O',\n",
       "  'O',\n",
       "  'O',\n",
       "  'O',\n",
       "  'O',\n",
       "  'O',\n",
       "  'O',\n",
       "  'O',\n",
       "  'O',\n",
       "  'O',\n",
       "  'B-LOC',\n",
       "  'O',\n",
       "  'O',\n",
       "  'O',\n",
       "  'O',\n",
       "  'O',\n",
       "  'O',\n",
       "  'O'],\n",
       " ['O',\n",
       "  'O',\n",
       "  'O',\n",
       "  'O',\n",
       "  'O',\n",
       "  'O',\n",
       "  'O',\n",
       "  'O',\n",
       "  'O',\n",
       "  'O',\n",
       "  'O',\n",
       "  'O',\n",
       "  'O',\n",
       "  'O',\n",
       "  'O',\n",
       "  'O',\n",
       "  'O',\n",
       "  'B-ORG',\n",
       "  'O',\n",
       "  'O',\n",
       "  'O',\n",
       "  'B-PER',\n",
       "  'I-PER',\n",
       "  'I-PER',\n",
       "  'I-PER',\n",
       "  'O',\n",
       "  'O',\n",
       "  'O',\n",
       "  'O',\n",
       "  'O'],\n",
       " ['O',\n",
       "  'O',\n",
       "  'O',\n",
       "  'O',\n",
       "  'O',\n",
       "  'O',\n",
       "  'O',\n",
       "  'O',\n",
       "  'O',\n",
       "  'O',\n",
       "  'O',\n",
       "  'O',\n",
       "  'O',\n",
       "  'O',\n",
       "  'O',\n",
       "  'O',\n",
       "  'O',\n",
       "  'O',\n",
       "  'O',\n",
       "  'O',\n",
       "  'O',\n",
       "  'O',\n",
       "  'B-ORG',\n",
       "  'I-ORG',\n",
       "  'O']]"
      ]
     },
     "execution_count": 8,
     "metadata": {},
     "output_type": "execute_result"
    }
   ],
   "source": [
    "train_sentences_labels[:5]"
   ]
  },
  {
   "cell_type": "code",
   "execution_count": null,
   "metadata": {},
   "outputs": [],
   "source": []
  },
  {
   "cell_type": "code",
   "execution_count": 23,
   "metadata": {},
   "outputs": [
    {
     "data": {
      "text/html": [
       "<div>\n",
       "<style scoped>\n",
       "    .dataframe tbody tr th:only-of-type {\n",
       "        vertical-align: middle;\n",
       "    }\n",
       "\n",
       "    .dataframe tbody tr th {\n",
       "        vertical-align: top;\n",
       "    }\n",
       "\n",
       "    .dataframe thead th {\n",
       "        text-align: right;\n",
       "    }\n",
       "</style>\n",
       "<table border=\"1\" class=\"dataframe\">\n",
       "  <thead>\n",
       "    <tr style=\"text-align: right;\">\n",
       "      <th></th>\n",
       "      <th>data</th>\n",
       "      <th>label</th>\n",
       "      <th>sentence</th>\n",
       "    </tr>\n",
       "  </thead>\n",
       "  <tbody>\n",
       "    <tr>\n",
       "      <th>0</th>\n",
       "      <td>[EU, rejects, German, call, to, boycott, Briti...</td>\n",
       "      <td>[B-ORG, O, B-MISC, O, O, O, B-MISC, O, O]</td>\n",
       "      <td>EU rejects German call to boycott British lamb .</td>\n",
       "    </tr>\n",
       "    <tr>\n",
       "      <th>1</th>\n",
       "      <td>[Peter, Blackburn, BRUSSELS, 1996-08-22, The, ...</td>\n",
       "      <td>[B-PER, I-PER, B-LOC, O, O, B-ORG, I-ORG, O, O...</td>\n",
       "      <td>Peter Blackburn BRUSSELS 1996-08-22 The Europe...</td>\n",
       "    </tr>\n",
       "    <tr>\n",
       "      <th>2</th>\n",
       "      <td>[Germany, 's, representative, to, the, Europea...</td>\n",
       "      <td>[B-LOC, O, O, O, O, B-ORG, I-ORG, O, O, O, B-P...</td>\n",
       "      <td>Germany 's representative to the European Unio...</td>\n",
       "    </tr>\n",
       "    <tr>\n",
       "      <th>3</th>\n",
       "      <td>[We, do, n't, support, any, such, recommendati...</td>\n",
       "      <td>[O, O, O, O, O, O, O, O, O, O, O, O, O, O, O, ...</td>\n",
       "      <td>We do n't support any such recommendation beca...</td>\n",
       "    </tr>\n",
       "    <tr>\n",
       "      <th>4</th>\n",
       "      <td>[He, said, further, scientific, study, was, re...</td>\n",
       "      <td>[O, O, O, O, O, O, O, O, O, O, O, O, O, O, O, ...</td>\n",
       "      <td>He said further scientific study was required ...</td>\n",
       "    </tr>\n",
       "    <tr>\n",
       "      <th>...</th>\n",
       "      <td>...</td>\n",
       "      <td>...</td>\n",
       "      <td>...</td>\n",
       "    </tr>\n",
       "    <tr>\n",
       "      <th>7369</th>\n",
       "      <td>[That, ;;O;O, and, the, fact, he, is, only, a,...</td>\n",
       "      <td>[O, O, O, O, O, O, O, O, O, O, O, O, O, O, O, ...</td>\n",
       "      <td>That ;;O;O and the fact he is only a few hours...</td>\n",
       "    </tr>\n",
       "    <tr>\n",
       "      <th>7370</th>\n",
       "      <td>[-DOCSTART-, MOTORCYCLING, -, SAN, MARINO, GRA...</td>\n",
       "      <td>[O, O, O, B-LOC, I-LOC, B-MISC, I-MISC, O, O, O]</td>\n",
       "      <td>-DOCSTART- MOTORCYCLING - SAN MARINO GRAND PRI...</td>\n",
       "    </tr>\n",
       "    <tr>\n",
       "      <th>7371</th>\n",
       "      <td>[IMOLA, ;;O;O, Italy, 1996-08-30, Practice, ti...</td>\n",
       "      <td>[B-LOC, O, B-LOC, O, O, O, O, O, O, O, O, O, B...</td>\n",
       "      <td>IMOLA ;;O;O Italy 1996-08-30 Practice times se...</td>\n",
       "    </tr>\n",
       "    <tr>\n",
       "      <th>7372</th>\n",
       "      <td>[NORTHAMPTON, ;;O;O, England, 1996-08-30, Lead...</td>\n",
       "      <td>[B-LOC, O, B-LOC, O, O, O, O, O, O, O, O, O, B...</td>\n",
       "      <td>NORTHAMPTON ;;O;O England 1996-08-30 Leading s...</td>\n",
       "    </tr>\n",
       "    <tr>\n",
       "      <th>7373</th>\n",
       "      <td>[-DOCSTART-, SOCCER, -, ENGLISH, SOCCER, RESUL...</td>\n",
       "      <td>[O, O, O, B-MISC, O, O, O]</td>\n",
       "      <td>-DOCSTART- SOCCER - ENGLISH SOCCER RESULTS .</td>\n",
       "    </tr>\n",
       "  </tbody>\n",
       "</table>\n",
       "<p>7374 rows × 3 columns</p>\n",
       "</div>"
      ],
      "text/plain": [
       "                                                   data  \\\n",
       "0     [EU, rejects, German, call, to, boycott, Briti...   \n",
       "1     [Peter, Blackburn, BRUSSELS, 1996-08-22, The, ...   \n",
       "2     [Germany, 's, representative, to, the, Europea...   \n",
       "3     [We, do, n't, support, any, such, recommendati...   \n",
       "4     [He, said, further, scientific, study, was, re...   \n",
       "...                                                 ...   \n",
       "7369  [That, ;;O;O, and, the, fact, he, is, only, a,...   \n",
       "7370  [-DOCSTART-, MOTORCYCLING, -, SAN, MARINO, GRA...   \n",
       "7371  [IMOLA, ;;O;O, Italy, 1996-08-30, Practice, ti...   \n",
       "7372  [NORTHAMPTON, ;;O;O, England, 1996-08-30, Lead...   \n",
       "7373  [-DOCSTART-, SOCCER, -, ENGLISH, SOCCER, RESUL...   \n",
       "\n",
       "                                                  label  \\\n",
       "0             [B-ORG, O, B-MISC, O, O, O, B-MISC, O, O]   \n",
       "1     [B-PER, I-PER, B-LOC, O, O, B-ORG, I-ORG, O, O...   \n",
       "2     [B-LOC, O, O, O, O, B-ORG, I-ORG, O, O, O, B-P...   \n",
       "3     [O, O, O, O, O, O, O, O, O, O, O, O, O, O, O, ...   \n",
       "4     [O, O, O, O, O, O, O, O, O, O, O, O, O, O, O, ...   \n",
       "...                                                 ...   \n",
       "7369  [O, O, O, O, O, O, O, O, O, O, O, O, O, O, O, ...   \n",
       "7370   [O, O, O, B-LOC, I-LOC, B-MISC, I-MISC, O, O, O]   \n",
       "7371  [B-LOC, O, B-LOC, O, O, O, O, O, O, O, O, O, B...   \n",
       "7372  [B-LOC, O, B-LOC, O, O, O, O, O, O, O, O, O, B...   \n",
       "7373                         [O, O, O, B-MISC, O, O, O]   \n",
       "\n",
       "                                               sentence  \n",
       "0      EU rejects German call to boycott British lamb .  \n",
       "1     Peter Blackburn BRUSSELS 1996-08-22 The Europe...  \n",
       "2     Germany 's representative to the European Unio...  \n",
       "3     We do n't support any such recommendation beca...  \n",
       "4     He said further scientific study was required ...  \n",
       "...                                                 ...  \n",
       "7369  That ;;O;O and the fact he is only a few hours...  \n",
       "7370  -DOCSTART- MOTORCYCLING - SAN MARINO GRAND PRI...  \n",
       "7371  IMOLA ;;O;O Italy 1996-08-30 Practice times se...  \n",
       "7372  NORTHAMPTON ;;O;O England 1996-08-30 Leading s...  \n",
       "7373       -DOCSTART- SOCCER - ENGLISH SOCCER RESULTS .  \n",
       "\n",
       "[7374 rows x 3 columns]"
      ]
     },
     "execution_count": 23,
     "metadata": {},
     "output_type": "execute_result"
    }
   ],
   "source": [
    "import pandas as pd\n",
    "\n",
    "# Create a DataFrame\n",
    "ready_data = pd.DataFrame({'data': train_sentences, 'label': train_sentences_labels})\n",
    "\n",
    "# Print or use the DataFrame as needed\n",
    "ready_data['sentence'] = ready_data['data'].apply(lambda x: ' '.join(x))\n",
    "\n",
    "# ready_data['label'] = ready_data['label'].apply(lambda x: (t = '\"' + t + '\"') for t in x)\n",
    "# df['label'] = df['label'].apply(lambda x: [str(i) for i in x])\n",
    "\n",
    "ready_data\n"
   ]
  },
  {
   "cell_type": "code",
   "execution_count": null,
   "metadata": {},
   "outputs": [],
   "source": []
  },
  {
   "cell_type": "code",
   "execution_count": null,
   "metadata": {},
   "outputs": [],
   "source": []
  },
  {
   "cell_type": "code",
   "execution_count": null,
   "metadata": {},
   "outputs": [],
   "source": []
  },
  {
   "cell_type": "code",
   "execution_count": null,
   "metadata": {},
   "outputs": [],
   "source": []
  },
  {
   "cell_type": "code",
   "execution_count": null,
   "metadata": {
    "execution": {
     "iopub.execute_input": "2022-01-15T16:28:07.573879Z",
     "iopub.status.busy": "2022-01-15T16:28:07.573587Z",
     "iopub.status.idle": "2022-01-15T16:28:08.023774Z",
     "shell.execute_reply": "2022-01-15T16:28:08.023123Z",
     "shell.execute_reply.started": "2022-01-15T16:28:07.573812Z"
    }
   },
   "outputs": [],
   "source": [
    "# ready_dist_path = \"../input/named-entity-recognition-ner-corpus/ner.csv\"\n",
    "# ready_data = pd.read_csv(ready_dist_path)\n",
    "# ready_data.head()"
   ]
  },
  {
   "cell_type": "markdown",
   "metadata": {},
   "source": [
    "# 3- Get to know our data"
   ]
  },
  {
   "cell_type": "code",
   "execution_count": null,
   "metadata": {
    "execution": {
     "iopub.execute_input": "2022-01-15T16:28:08.02621Z",
     "iopub.status.busy": "2022-01-15T16:28:08.02592Z",
     "iopub.status.idle": "2022-01-15T16:28:08.030961Z",
     "shell.execute_reply": "2022-01-15T16:28:08.030207Z",
     "shell.execute_reply.started": "2022-01-15T16:28:08.026162Z"
    }
   },
   "outputs": [],
   "source": [
    "# def join_a_sentence(sentence_number):\n",
    "\n",
    "#     \"\"\"\n",
    "#     Args.:\n",
    "#           sentence_number: sentence number we want to join and return. \n",
    "          \n",
    "#     Returns:\n",
    "#           The joined sentence.\n",
    "#     \"\"\"\n",
    "    \n",
    "#     sentence_number = str(sentence_number)\n",
    "#     the_sentence_words_list = list(data[data['Sentence #'] == 'Sentence: {}'.format(sentence_number)]['Word'])\n",
    "    \n",
    "#     return ' '.join(the_sentence_words_list)"
   ]
  },
  {
   "cell_type": "code",
   "execution_count": null,
   "metadata": {
    "execution": {
     "iopub.execute_input": "2022-01-15T16:28:08.032722Z",
     "iopub.status.busy": "2022-01-15T16:28:08.032175Z",
     "iopub.status.idle": "2022-01-15T16:28:08.273723Z",
     "shell.execute_reply": "2022-01-15T16:28:08.273008Z",
     "shell.execute_reply.started": "2022-01-15T16:28:08.032687Z"
    }
   },
   "outputs": [],
   "source": [
    "# join_a_sentence(sentence_number = 1)"
   ]
  },
  {
   "cell_type": "code",
   "execution_count": null,
   "metadata": {
    "execution": {
     "iopub.execute_input": "2022-01-15T16:28:08.275612Z",
     "iopub.status.busy": "2022-01-15T16:28:08.275247Z",
     "iopub.status.idle": "2022-01-15T16:28:08.40867Z",
     "shell.execute_reply": "2022-01-15T16:28:08.408031Z",
     "shell.execute_reply.started": "2022-01-15T16:28:08.275577Z"
    }
   },
   "outputs": [],
   "source": [
    "# join_a_sentence(sentence_number = 100)"
   ]
  },
  {
   "cell_type": "code",
   "execution_count": 14,
   "metadata": {
    "execution": {
     "iopub.execute_input": "2022-01-15T16:28:08.410563Z",
     "iopub.status.busy": "2022-01-15T16:28:08.41011Z",
     "iopub.status.idle": "2022-01-15T16:28:08.416969Z",
     "shell.execute_reply": "2022-01-15T16:28:08.416335Z",
     "shell.execute_reply.started": "2022-01-15T16:28:08.410521Z"
    }
   },
   "outputs": [
    {
     "data": {
      "text/plain": [
       "(219552, 4)"
      ]
     },
     "execution_count": 14,
     "metadata": {},
     "output_type": "execute_result"
    }
   ],
   "source": [
    "# Data Shape\n",
    "data.shape"
   ]
  },
  {
   "cell_type": "code",
   "execution_count": null,
   "metadata": {
    "execution": {
     "iopub.execute_input": "2022-01-15T16:28:08.418809Z",
     "iopub.status.busy": "2022-01-15T16:28:08.418387Z",
     "iopub.status.idle": "2022-01-15T16:28:09.738051Z",
     "shell.execute_reply": "2022-01-15T16:28:09.7374Z",
     "shell.execute_reply.started": "2022-01-15T16:28:08.418772Z"
    }
   },
   "outputs": [],
   "source": [
    "# Number of unique sentences\n",
    "# len(np.unique(data['Sentence #']))"
   ]
  },
  {
   "cell_type": "code",
   "execution_count": null,
   "metadata": {
    "execution": {
     "iopub.execute_input": "2022-01-15T16:28:09.739582Z",
     "iopub.status.busy": "2022-01-15T16:28:09.739321Z",
     "iopub.status.idle": "2022-01-15T16:28:09.933133Z",
     "shell.execute_reply": "2022-01-15T16:28:09.932371Z",
     "shell.execute_reply.started": "2022-01-15T16:28:09.739547Z"
    }
   },
   "outputs": [],
   "source": [
    "# print(\"Number of unique words in the dataset: {}\".format(data.Word.nunique()))\n",
    "# print(\"Number of unique tags in the dataset: {}\".format(data.Tag.nunique()))"
   ]
  },
  {
   "cell_type": "code",
   "execution_count": 62,
   "metadata": {
    "execution": {
     "iopub.execute_input": "2022-01-15T16:28:09.936576Z",
     "iopub.status.busy": "2022-01-15T16:28:09.935837Z",
     "iopub.status.idle": "2022-01-15T16:28:10.023376Z",
     "shell.execute_reply": "2022-01-15T16:28:10.022325Z",
     "shell.execute_reply.started": "2022-01-15T16:28:09.936533Z"
    }
   },
   "outputs": [
    {
     "data": {
      "text/plain": [
       "array(['', 'B-ORG', 'O', 'B-MISC', 'B-PER', 'I-PER', 'B-LOC', 'I-ORG',\n",
       "       'I-MISC', 'I-LOC'], dtype=object)"
      ]
     },
     "execution_count": 62,
     "metadata": {},
     "output_type": "execute_result"
    }
   ],
   "source": [
    "tags = data.label.unique()\n",
    "tags"
   ]
  },
  {
   "cell_type": "code",
   "execution_count": null,
   "metadata": {
    "execution": {
     "iopub.execute_input": "2022-01-15T16:28:10.028376Z",
     "iopub.status.busy": "2022-01-15T16:28:10.027975Z",
     "iopub.status.idle": "2022-01-15T16:28:10.035029Z",
     "shell.execute_reply": "2022-01-15T16:28:10.034126Z",
     "shell.execute_reply.started": "2022-01-15T16:28:10.028347Z"
    }
   },
   "outputs": [],
   "source": [
    "# def num_words_tags (tags, data):\n",
    "    \n",
    "#     \"\"\"This functions takes the tags we want to count and the datafram \n",
    "#     and return a dict where the key is the tag and the value is the frequency\n",
    "#     of that tag\"\"\"\n",
    "    \n",
    "#     tags_count = {}\n",
    "    \n",
    "#     for tag in tags:\n",
    "#         len_tag = len(data[data['Tag'] == tag])\n",
    "#         tags_count[tag] = len_tag\n",
    "    \n",
    "#     return tags_count"
   ]
  },
  {
   "cell_type": "code",
   "execution_count": null,
   "metadata": {
    "execution": {
     "iopub.execute_input": "2022-01-15T16:28:10.03688Z",
     "iopub.status.busy": "2022-01-15T16:28:10.036603Z",
     "iopub.status.idle": "2022-01-15T16:28:12.331067Z",
     "shell.execute_reply": "2022-01-15T16:28:12.330399Z",
     "shell.execute_reply.started": "2022-01-15T16:28:10.036827Z"
    }
   },
   "outputs": [],
   "source": [
    "# tags_count = num_words_tags(tags, data)\n",
    "# tags_count"
   ]
  },
  {
   "cell_type": "code",
   "execution_count": null,
   "metadata": {
    "execution": {
     "iopub.execute_input": "2022-01-15T16:28:12.332808Z",
     "iopub.status.busy": "2022-01-15T16:28:12.332398Z",
     "iopub.status.idle": "2022-01-15T16:28:13.70397Z",
     "shell.execute_reply": "2022-01-15T16:28:13.703314Z",
     "shell.execute_reply.started": "2022-01-15T16:28:12.332771Z"
    }
   },
   "outputs": [],
   "source": [
    "# plt.figure(figsize = (10, 6))\n",
    "# plt.hist(data.Tag, log = True, label = 'Tags', color = 'olive', bins = 50)\n",
    "# plt.xlabel('Tags', fontsize = 16)\n",
    "# plt.ylabel('Count', fontsize = 16)\n",
    "# plt.title(\"Tags Frequency\", fontsize = 20)\n",
    "# plt.grid(alpha=0.3)\n",
    "# plt.legend()\n",
    "# plt.xticks(fontsize=15)\n",
    "# plt.yticks(fontsize=15)\n",
    "# plt.xticks(rotation=90)\n",
    "# plt.show()"
   ]
  },
  {
   "cell_type": "markdown",
   "metadata": {},
   "source": [
    "**Code that I used to produce  ready_data** "
   ]
  },
  {
   "cell_type": "code",
   "execution_count": null,
   "metadata": {
    "execution": {
     "iopub.execute_input": "2022-01-15T16:28:13.705533Z",
     "iopub.status.busy": "2022-01-15T16:28:13.7052Z",
     "iopub.status.idle": "2022-01-15T16:28:13.712191Z",
     "shell.execute_reply": "2022-01-15T16:28:13.711497Z",
     "shell.execute_reply.started": "2022-01-15T16:28:13.705492Z"
    }
   },
   "outputs": [],
   "source": [
    "# def process_Data():\n",
    "    \n",
    "#     data_dict = {}\n",
    "    \n",
    "#     for sn in range(1, len(np.unique(data['Sentence #']))+1):\n",
    "        \n",
    "#         all_sen_data = []\n",
    "        \n",
    "#         se_data = data[data['Sentence #']  == 'Sentence: {}'.format(sn)]\n",
    "#         sentence = ' '.join(list(se_data['Word']))\n",
    "#         all_sen_data.append(sentence)\n",
    "        \n",
    "#         sen_pos = list(se_data['POS'])\n",
    "#         all_sen_data.append(sen_pos)\n",
    "        \n",
    "#         sen_tags = list(se_data['Tag'])\n",
    "#         all_sen_data.append(sen_tags)\n",
    "        \n",
    "#         data_dict['Sentence: {}'.format(sn)] = all_sen_data\n",
    "        \n",
    "#         if sn % 10000 == 0:\n",
    "#             print(\"{} sentences are processed\".format(sn))\n",
    "        \n",
    "#     return data_dict"
   ]
  },
  {
   "cell_type": "markdown",
   "metadata": {},
   "source": [
    "# 4- Data Preprocessing"
   ]
  },
  {
   "cell_type": "code",
   "execution_count": 24,
   "metadata": {
    "execution": {
     "iopub.execute_input": "2022-01-15T16:28:13.713855Z",
     "iopub.status.busy": "2022-01-15T16:28:13.713584Z",
     "iopub.status.idle": "2022-01-15T16:28:13.726969Z",
     "shell.execute_reply": "2022-01-15T16:28:13.726361Z",
     "shell.execute_reply.started": "2022-01-15T16:28:13.71379Z"
    }
   },
   "outputs": [
    {
     "data": {
      "text/html": [
       "<div>\n",
       "<style scoped>\n",
       "    .dataframe tbody tr th:only-of-type {\n",
       "        vertical-align: middle;\n",
       "    }\n",
       "\n",
       "    .dataframe tbody tr th {\n",
       "        vertical-align: top;\n",
       "    }\n",
       "\n",
       "    .dataframe thead th {\n",
       "        text-align: right;\n",
       "    }\n",
       "</style>\n",
       "<table border=\"1\" class=\"dataframe\">\n",
       "  <thead>\n",
       "    <tr style=\"text-align: right;\">\n",
       "      <th></th>\n",
       "      <th>data</th>\n",
       "      <th>label</th>\n",
       "      <th>sentence</th>\n",
       "    </tr>\n",
       "  </thead>\n",
       "  <tbody>\n",
       "    <tr>\n",
       "      <th>0</th>\n",
       "      <td>[EU, rejects, German, call, to, boycott, Briti...</td>\n",
       "      <td>[B-ORG, O, B-MISC, O, O, O, B-MISC, O, O]</td>\n",
       "      <td>EU rejects German call to boycott British lamb .</td>\n",
       "    </tr>\n",
       "    <tr>\n",
       "      <th>1</th>\n",
       "      <td>[Peter, Blackburn, BRUSSELS, 1996-08-22, The, ...</td>\n",
       "      <td>[B-PER, I-PER, B-LOC, O, O, B-ORG, I-ORG, O, O...</td>\n",
       "      <td>Peter Blackburn BRUSSELS 1996-08-22 The Europe...</td>\n",
       "    </tr>\n",
       "    <tr>\n",
       "      <th>2</th>\n",
       "      <td>[Germany, 's, representative, to, the, Europea...</td>\n",
       "      <td>[B-LOC, O, O, O, O, B-ORG, I-ORG, O, O, O, B-P...</td>\n",
       "      <td>Germany 's representative to the European Unio...</td>\n",
       "    </tr>\n",
       "    <tr>\n",
       "      <th>3</th>\n",
       "      <td>[We, do, n't, support, any, such, recommendati...</td>\n",
       "      <td>[O, O, O, O, O, O, O, O, O, O, O, O, O, O, O, ...</td>\n",
       "      <td>We do n't support any such recommendation beca...</td>\n",
       "    </tr>\n",
       "    <tr>\n",
       "      <th>4</th>\n",
       "      <td>[He, said, further, scientific, study, was, re...</td>\n",
       "      <td>[O, O, O, O, O, O, O, O, O, O, O, O, O, O, O, ...</td>\n",
       "      <td>He said further scientific study was required ...</td>\n",
       "    </tr>\n",
       "  </tbody>\n",
       "</table>\n",
       "</div>"
      ],
      "text/plain": [
       "                                                data  \\\n",
       "0  [EU, rejects, German, call, to, boycott, Briti...   \n",
       "1  [Peter, Blackburn, BRUSSELS, 1996-08-22, The, ...   \n",
       "2  [Germany, 's, representative, to, the, Europea...   \n",
       "3  [We, do, n't, support, any, such, recommendati...   \n",
       "4  [He, said, further, scientific, study, was, re...   \n",
       "\n",
       "                                               label  \\\n",
       "0          [B-ORG, O, B-MISC, O, O, O, B-MISC, O, O]   \n",
       "1  [B-PER, I-PER, B-LOC, O, O, B-ORG, I-ORG, O, O...   \n",
       "2  [B-LOC, O, O, O, O, B-ORG, I-ORG, O, O, O, B-P...   \n",
       "3  [O, O, O, O, O, O, O, O, O, O, O, O, O, O, O, ...   \n",
       "4  [O, O, O, O, O, O, O, O, O, O, O, O, O, O, O, ...   \n",
       "\n",
       "                                            sentence  \n",
       "0   EU rejects German call to boycott British lamb .  \n",
       "1  Peter Blackburn BRUSSELS 1996-08-22 The Europe...  \n",
       "2  Germany 's representative to the European Unio...  \n",
       "3  We do n't support any such recommendation beca...  \n",
       "4  He said further scientific study was required ...  "
      ]
     },
     "execution_count": 24,
     "metadata": {},
     "output_type": "execute_result"
    }
   ],
   "source": [
    "ready_data.head()"
   ]
  },
  {
   "cell_type": "code",
   "execution_count": 25,
   "metadata": {
    "execution": {
     "iopub.execute_input": "2022-01-15T16:28:13.728361Z",
     "iopub.status.busy": "2022-01-15T16:28:13.728076Z",
     "iopub.status.idle": "2022-01-15T16:28:13.749368Z",
     "shell.execute_reply": "2022-01-15T16:28:13.748766Z",
     "shell.execute_reply.started": "2022-01-15T16:28:13.728328Z"
    }
   },
   "outputs": [],
   "source": [
    "X = list(ready_data['sentence'])\n",
    "Y = list(ready_data['label'])"
   ]
  },
  {
   "cell_type": "code",
   "execution_count": 29,
   "metadata": {
    "execution": {
     "iopub.execute_input": "2022-01-15T16:28:13.750959Z",
     "iopub.status.busy": "2022-01-15T16:28:13.7505Z",
     "iopub.status.idle": "2022-01-15T16:28:15.630858Z",
     "shell.execute_reply": "2022-01-15T16:28:15.630143Z",
     "shell.execute_reply.started": "2022-01-15T16:28:13.750912Z"
    }
   },
   "outputs": [],
   "source": [
    "# from ast import literal_eval\n",
    "# Y_ready = []\n",
    "\n",
    "# for sen_tags in Y:\n",
    "#     Y_ready.append(literal_eval(sen_tags))\n",
    "\n",
    "Y_ready = Y"
   ]
  },
  {
   "cell_type": "code",
   "execution_count": 30,
   "metadata": {},
   "outputs": [],
   "source": [
    "# import json\n",
    "\n",
    "# Y_ready = []\n",
    "\n",
    "# for sen_tags in Y:\n",
    "#     Y_ready.append(json.loads(sen_tags))\n",
    "\n",
    "# Now Y_ready contains lists instead of string representations of lists\n"
   ]
  },
  {
   "cell_type": "code",
   "execution_count": 31,
   "metadata": {
    "execution": {
     "iopub.execute_input": "2022-01-15T16:28:15.632449Z",
     "iopub.status.busy": "2022-01-15T16:28:15.632208Z",
     "iopub.status.idle": "2022-01-15T16:28:15.638263Z",
     "shell.execute_reply": "2022-01-15T16:28:15.636737Z",
     "shell.execute_reply.started": "2022-01-15T16:28:15.632416Z"
    }
   },
   "outputs": [
    {
     "name": "stdout",
     "output_type": "stream",
     "text": [
      "First three sentences: \n",
      "\n",
      "['EU rejects German call to boycott British lamb .', 'Peter Blackburn BRUSSELS 1996-08-22 The European Commission said on Thursday it disagreed with German advice to consumers to shun British lamb until scientists determine whether mad cow disease can be transmitted to sheep .', \"Germany 's representative to the European Union 's veterinary committee Werner Zwingmann said on Wednesday consumers should buy sheepmeat from countries other than Britain until the scientific advice was clearer .\"]\n"
     ]
    }
   ],
   "source": [
    "print(\"First three sentences: \\n\")\n",
    "print(X[:3])"
   ]
  },
  {
   "cell_type": "code",
   "execution_count": 32,
   "metadata": {
    "execution": {
     "iopub.execute_input": "2022-01-15T16:28:17.305871Z",
     "iopub.status.busy": "2022-01-15T16:28:17.305371Z",
     "iopub.status.idle": "2022-01-15T16:28:17.31082Z",
     "shell.execute_reply": "2022-01-15T16:28:17.309773Z",
     "shell.execute_reply.started": "2022-01-15T16:28:17.305833Z"
    }
   },
   "outputs": [
    {
     "name": "stdout",
     "output_type": "stream",
     "text": [
      "First three Tags: \n",
      "\n",
      "[['B-ORG', 'O', 'B-MISC', 'O', 'O', 'O', 'B-MISC', 'O', 'O'], ['B-PER', 'I-PER', 'B-LOC', 'O', 'O', 'B-ORG', 'I-ORG', 'O', 'O', 'O', 'O', 'O', 'O', 'B-MISC', 'O', 'O', 'O', 'O', 'O', 'B-MISC', 'O', 'O', 'O', 'O', 'O', 'O', 'O', 'O', 'O', 'O', 'O', 'O', 'O', 'O'], ['B-LOC', 'O', 'O', 'O', 'O', 'B-ORG', 'I-ORG', 'O', 'O', 'O', 'B-PER', 'I-PER', 'O', 'O', 'O', 'O', 'O', 'O', 'O', 'O', 'O', 'O', 'O', 'B-LOC', 'O', 'O', 'O', 'O', 'O', 'O', 'O']]\n"
     ]
    }
   ],
   "source": [
    "print(\"First three Tags: \\n\")\n",
    "print(Y_ready[:3])"
   ]
  },
  {
   "cell_type": "markdown",
   "metadata": {},
   "source": [
    "We need to tokenize the sentences by mapping each word to a unique identifier, then we need to pad them because NN need the input sentences to have the same lenght."
   ]
  },
  {
   "cell_type": "code",
   "execution_count": 33,
   "metadata": {
    "execution": {
     "iopub.execute_input": "2022-01-15T16:28:18.521711Z",
     "iopub.status.busy": "2022-01-15T16:28:18.521033Z",
     "iopub.status.idle": "2022-01-15T16:28:19.383639Z",
     "shell.execute_reply": "2022-01-15T16:28:19.382869Z",
     "shell.execute_reply.started": "2022-01-15T16:28:18.521672Z"
    }
   },
   "outputs": [],
   "source": [
    "from tensorflow.keras.preprocessing.text import Tokenizer\n",
    "from tensorflow.keras.preprocessing.sequence import pad_sequences"
   ]
  },
  {
   "cell_type": "code",
   "execution_count": 34,
   "metadata": {
    "execution": {
     "iopub.execute_input": "2022-01-15T16:28:19.385612Z",
     "iopub.status.busy": "2022-01-15T16:28:19.385373Z",
     "iopub.status.idle": "2022-01-15T16:28:19.394684Z",
     "shell.execute_reply": "2022-01-15T16:28:19.393337Z",
     "shell.execute_reply.started": "2022-01-15T16:28:19.38558Z"
    }
   },
   "outputs": [
    {
     "name": "stdout",
     "output_type": "stream",
     "text": [
      "Number of examples: 7374\n"
     ]
    }
   ],
   "source": [
    "print(\"Number of examples: {}\".format(len(X)))"
   ]
  },
  {
   "cell_type": "markdown",
   "metadata": {},
   "source": [
    "- **Toknize sentences**"
   ]
  },
  {
   "cell_type": "code",
   "execution_count": 126,
   "metadata": {
    "execution": {
     "iopub.execute_input": "2022-01-15T16:28:20.761422Z",
     "iopub.status.busy": "2022-01-15T16:28:20.760867Z",
     "iopub.status.idle": "2022-01-15T16:28:22.891782Z",
     "shell.execute_reply": "2022-01-15T16:28:22.891075Z",
     "shell.execute_reply.started": "2022-01-15T16:28:20.761383Z"
    }
   },
   "outputs": [],
   "source": [
    "# cutoff reviews after 110 words\n",
    "maxlen = 256\n",
    "\n",
    "# consider the top 36000 words in the dataset\n",
    "max_words = 36000\n",
    "\n",
    "# tokenize each sentence in the dataset\n",
    "tokenizer = Tokenizer(num_words=max_words)\n",
    "tokenizer.fit_on_texts(X)\n",
    "sequences = tokenizer.texts_to_sequences(X)"
   ]
  },
  {
   "cell_type": "code",
   "execution_count": 203,
   "metadata": {},
   "outputs": [
    {
     "data": {
      "text/plain": [
       "'Peter Blackburn BRUSSELS 1996-08-22 The European Commission said on Thursday it disagreed with German advice to consumers to shun British lamb until scientists determine whether mad cow disease can be transmitted to sheep .'"
      ]
     },
     "execution_count": 203,
     "metadata": {},
     "output_type": "execute_result"
    }
   ],
   "source": [
    "X[1]"
   ]
  },
  {
   "cell_type": "code",
   "execution_count": 202,
   "metadata": {},
   "outputs": [
    {
     "data": {
      "text/plain": [
       "[765,\n",
       " 1880,\n",
       " 749,\n",
       " 20,\n",
       " 22,\n",
       " 86,\n",
       " 2,\n",
       " 228,\n",
       " 345,\n",
       " 10,\n",
       " 9,\n",
       " 72,\n",
       " 28,\n",
       " 7297,\n",
       " 23,\n",
       " 208,\n",
       " 3936,\n",
       " 5,\n",
       " 2421,\n",
       " 5,\n",
       " 10291,\n",
       " 217,\n",
       " 5708,\n",
       " 417,\n",
       " 3385,\n",
       " 2019,\n",
       " 541,\n",
       " 1765,\n",
       " 1881,\n",
       " 663,\n",
       " 326,\n",
       " 41,\n",
       " 7298,\n",
       " 5,\n",
       " 1648]"
      ]
     },
     "execution_count": 202,
     "metadata": {},
     "output_type": "execute_result"
    }
   ],
   "source": [
    "sequences[1]"
   ]
  },
  {
   "cell_type": "code",
   "execution_count": 127,
   "metadata": {},
   "outputs": [
    {
     "data": {
      "text/plain": [
       "7374"
      ]
     },
     "execution_count": 127,
     "metadata": {},
     "output_type": "execute_result"
    }
   ],
   "source": [
    "len(sequences)"
   ]
  },
  {
   "cell_type": "code",
   "execution_count": 128,
   "metadata": {
    "execution": {
     "iopub.execute_input": "2022-01-15T16:28:22.898546Z",
     "iopub.status.busy": "2022-01-15T16:28:22.896523Z",
     "iopub.status.idle": "2022-01-15T16:28:22.9202Z",
     "shell.execute_reply": "2022-01-15T16:28:22.919531Z",
     "shell.execute_reply.started": "2022-01-15T16:28:22.898505Z"
    }
   },
   "outputs": [
    {
     "name": "stdout",
     "output_type": "stream",
     "text": [
      "Found 17563 unique tokens.\n"
     ]
    }
   ],
   "source": [
    "word_index = tokenizer.word_index\n",
    "print(\"Found {} unique tokens.\".format(len(word_index)))\n",
    "ind2word = dict([(value, key) for (key, value) in word_index.items()])"
   ]
  },
  {
   "cell_type": "code",
   "execution_count": 129,
   "metadata": {},
   "outputs": [],
   "source": [
    "# ind2word"
   ]
  },
  {
   "cell_type": "code",
   "execution_count": 130,
   "metadata": {
    "execution": {
     "iopub.execute_input": "2022-01-15T16:28:22.92684Z",
     "iopub.status.busy": "2022-01-15T16:28:22.924552Z",
     "iopub.status.idle": "2022-01-15T16:28:22.931689Z",
     "shell.execute_reply": "2022-01-15T16:28:22.931071Z",
     "shell.execute_reply.started": "2022-01-15T16:28:22.926789Z"
    }
   },
   "outputs": [],
   "source": [
    "word2id = word_index"
   ]
  },
  {
   "cell_type": "code",
   "execution_count": 131,
   "metadata": {
    "execution": {
     "iopub.execute_input": "2022-01-15T16:28:24.227475Z",
     "iopub.status.busy": "2022-01-15T16:28:24.226694Z",
     "iopub.status.idle": "2022-01-15T16:28:24.247212Z",
     "shell.execute_reply": "2022-01-15T16:28:24.246437Z",
     "shell.execute_reply.started": "2022-01-15T16:28:24.227428Z"
    }
   },
   "outputs": [],
   "source": [
    "# dict. that map each identifier to its word\n",
    "id2word = {}\n",
    "for key, value in word2id.items():\n",
    "    id2word[value] = key"
   ]
  },
  {
   "cell_type": "code",
   "execution_count": 132,
   "metadata": {},
   "outputs": [],
   "source": [
    "# id2word"
   ]
  },
  {
   "cell_type": "markdown",
   "metadata": {},
   "source": [
    "- **Sentences padding**"
   ]
  },
  {
   "cell_type": "code",
   "execution_count": 133,
   "metadata": {
    "execution": {
     "iopub.execute_input": "2022-01-15T16:28:25.189794Z",
     "iopub.status.busy": "2022-01-15T16:28:25.189273Z",
     "iopub.status.idle": "2022-01-15T16:28:25.603874Z",
     "shell.execute_reply": "2022-01-15T16:28:25.603159Z",
     "shell.execute_reply.started": "2022-01-15T16:28:25.189757Z"
    }
   },
   "outputs": [],
   "source": [
    "# pad the sequences so that all sequences are of the same size\n",
    "X_preprocessed = pad_sequences(sequences, maxlen=maxlen, padding='post')"
   ]
  },
  {
   "cell_type": "code",
   "execution_count": 134,
   "metadata": {
    "execution": {
     "iopub.execute_input": "2022-01-15T16:28:25.605524Z",
     "iopub.status.busy": "2022-01-15T16:28:25.605249Z",
     "iopub.status.idle": "2022-01-15T16:28:25.615829Z",
     "shell.execute_reply": "2022-01-15T16:28:25.615089Z",
     "shell.execute_reply.started": "2022-01-15T16:28:25.605489Z"
    }
   },
   "outputs": [
    {
     "data": {
      "text/plain": [
       "array([  946, 10290,   208,   631,     5,  3935,   217,  5708,     0,\n",
       "           0,     0,     0,     0,     0,     0,     0,     0,     0,\n",
       "           0,     0,     0,     0,     0,     0,     0,     0,     0,\n",
       "           0,     0,     0,     0,     0,     0,     0,     0,     0,\n",
       "           0,     0,     0,     0,     0,     0,     0,     0,     0,\n",
       "           0,     0,     0,     0,     0,     0,     0,     0,     0,\n",
       "           0,     0,     0,     0,     0,     0,     0,     0,     0,\n",
       "           0,     0,     0,     0,     0,     0,     0,     0,     0,\n",
       "           0,     0,     0,     0,     0,     0,     0,     0,     0,\n",
       "           0,     0,     0,     0,     0,     0,     0,     0,     0,\n",
       "           0,     0,     0,     0,     0,     0,     0,     0,     0,\n",
       "           0,     0,     0,     0,     0,     0,     0,     0,     0,\n",
       "           0,     0,     0,     0,     0,     0,     0,     0,     0,\n",
       "           0,     0,     0,     0,     0,     0,     0,     0,     0,\n",
       "           0,     0,     0,     0,     0,     0,     0,     0,     0,\n",
       "           0,     0,     0,     0,     0,     0,     0,     0,     0,\n",
       "           0,     0,     0,     0,     0,     0,     0,     0,     0,\n",
       "           0,     0,     0,     0,     0,     0,     0,     0,     0,\n",
       "           0,     0,     0,     0,     0,     0,     0,     0,     0,\n",
       "           0,     0,     0,     0,     0,     0,     0,     0,     0,\n",
       "           0,     0,     0,     0,     0,     0,     0,     0,     0,\n",
       "           0,     0,     0,     0,     0,     0,     0,     0,     0,\n",
       "           0,     0,     0,     0,     0,     0,     0,     0,     0,\n",
       "           0,     0,     0,     0,     0,     0,     0,     0,     0,\n",
       "           0,     0,     0,     0,     0,     0,     0,     0,     0,\n",
       "           0,     0,     0,     0,     0,     0,     0,     0,     0,\n",
       "           0,     0,     0,     0,     0,     0,     0,     0,     0,\n",
       "           0,     0,     0,     0,     0,     0,     0,     0,     0,\n",
       "           0,     0,     0,     0])"
      ]
     },
     "execution_count": 134,
     "metadata": {},
     "output_type": "execute_result"
    }
   ],
   "source": [
    "# first example after tokenization and padding. \n",
    "X_preprocessed[0]"
   ]
  },
  {
   "cell_type": "code",
   "execution_count": 135,
   "metadata": {
    "execution": {
     "iopub.execute_input": "2022-01-15T16:28:25.663592Z",
     "iopub.status.busy": "2022-01-15T16:28:25.663405Z",
     "iopub.status.idle": "2022-01-15T16:28:25.671193Z",
     "shell.execute_reply": "2022-01-15T16:28:25.670199Z",
     "shell.execute_reply.started": "2022-01-15T16:28:25.66357Z"
    }
   },
   "outputs": [
    {
     "data": {
      "text/plain": [
       "array([ 21,  88, 389,  88,  81,   0,   0,   0,   0,   0,   0,   0,   0,\n",
       "         0,   0,   0,   0,   0,   0,   0,   0,   0,   0,   0,   0,   0,\n",
       "         0,   0,   0,   0,   0,   0,   0,   0,   0,   0,   0,   0,   0,\n",
       "         0,   0,   0,   0,   0,   0,   0,   0,   0,   0,   0,   0,   0,\n",
       "         0,   0,   0,   0,   0,   0,   0,   0,   0,   0,   0,   0,   0,\n",
       "         0,   0,   0,   0,   0,   0,   0,   0,   0,   0,   0,   0,   0,\n",
       "         0,   0,   0,   0,   0,   0,   0,   0,   0,   0,   0,   0,   0,\n",
       "         0,   0,   0,   0,   0,   0,   0,   0,   0,   0,   0,   0,   0,\n",
       "         0,   0,   0,   0,   0,   0,   0,   0,   0,   0,   0,   0,   0,\n",
       "         0,   0,   0,   0,   0,   0,   0,   0,   0,   0,   0,   0,   0,\n",
       "         0,   0,   0,   0,   0,   0,   0,   0,   0,   0,   0,   0,   0,\n",
       "         0,   0,   0,   0,   0,   0,   0,   0,   0,   0,   0,   0,   0,\n",
       "         0,   0,   0,   0,   0,   0,   0,   0,   0,   0,   0,   0,   0,\n",
       "         0,   0,   0,   0,   0,   0,   0,   0,   0,   0,   0,   0,   0,\n",
       "         0,   0,   0,   0,   0,   0,   0,   0,   0,   0,   0,   0,   0,\n",
       "         0,   0,   0,   0,   0,   0,   0,   0,   0,   0,   0,   0,   0,\n",
       "         0,   0,   0,   0,   0,   0,   0,   0,   0,   0,   0,   0,   0,\n",
       "         0,   0,   0,   0,   0,   0,   0,   0,   0,   0,   0,   0,   0,\n",
       "         0,   0,   0,   0,   0,   0,   0,   0,   0,   0,   0,   0,   0,\n",
       "         0,   0,   0,   0,   0,   0,   0,   0,   0])"
      ]
     },
     "execution_count": 135,
     "metadata": {},
     "output_type": "execute_result"
    }
   ],
   "source": [
    "# 22479 example after tokenization and padding. \n",
    "X_preprocessed[7373]"
   ]
  },
  {
   "cell_type": "markdown",
   "metadata": {},
   "source": [
    "- **Preprocess tags**"
   ]
  },
  {
   "cell_type": "code",
   "execution_count": 136,
   "metadata": {
    "execution": {
     "iopub.execute_input": "2022-01-15T16:28:28.495178Z",
     "iopub.status.busy": "2022-01-15T16:28:28.494629Z",
     "iopub.status.idle": "2022-01-15T16:28:28.498879Z",
     "shell.execute_reply": "2022-01-15T16:28:28.498237Z",
     "shell.execute_reply.started": "2022-01-15T16:28:28.495124Z"
    }
   },
   "outputs": [],
   "source": [
    "# dict. that map each tag to its identifier\n",
    "tags2id = {}\n",
    "for i, tag in enumerate(tags):\n",
    "    tags2id[tag] = i"
   ]
  },
  {
   "cell_type": "code",
   "execution_count": 137,
   "metadata": {
    "execution": {
     "iopub.execute_input": "2022-01-15T16:28:28.653939Z",
     "iopub.status.busy": "2022-01-15T16:28:28.653496Z",
     "iopub.status.idle": "2022-01-15T16:28:28.659892Z",
     "shell.execute_reply": "2022-01-15T16:28:28.659136Z",
     "shell.execute_reply.started": "2022-01-15T16:28:28.653898Z"
    }
   },
   "outputs": [
    {
     "data": {
      "text/plain": [
       "{'': 0,\n",
       " 'B-ORG': 1,\n",
       " 'O': 2,\n",
       " 'B-MISC': 3,\n",
       " 'B-PER': 4,\n",
       " 'I-PER': 5,\n",
       " 'B-LOC': 6,\n",
       " 'I-ORG': 7,\n",
       " 'I-MISC': 8,\n",
       " 'I-LOC': 9}"
      ]
     },
     "execution_count": 137,
     "metadata": {},
     "output_type": "execute_result"
    }
   ],
   "source": [
    "tags2id"
   ]
  },
  {
   "cell_type": "code",
   "execution_count": 138,
   "metadata": {
    "execution": {
     "iopub.execute_input": "2022-01-15T16:28:29.560649Z",
     "iopub.status.busy": "2022-01-15T16:28:29.56033Z",
     "iopub.status.idle": "2022-01-15T16:28:29.565407Z",
     "shell.execute_reply": "2022-01-15T16:28:29.564631Z",
     "shell.execute_reply.started": "2022-01-15T16:28:29.560612Z"
    }
   },
   "outputs": [],
   "source": [
    "# dict. that map each identifier to its tag\n",
    "id2tag = {}\n",
    "for key, value in tags2id.items():\n",
    "    id2tag[value] = key"
   ]
  },
  {
   "cell_type": "code",
   "execution_count": 139,
   "metadata": {
    "execution": {
     "iopub.execute_input": "2022-01-15T16:28:29.75886Z",
     "iopub.status.busy": "2022-01-15T16:28:29.758337Z",
     "iopub.status.idle": "2022-01-15T16:28:29.764454Z",
     "shell.execute_reply": "2022-01-15T16:28:29.763728Z",
     "shell.execute_reply.started": "2022-01-15T16:28:29.758829Z"
    },
    "scrolled": true
   },
   "outputs": [
    {
     "data": {
      "text/plain": [
       "{0: '',\n",
       " 1: 'B-ORG',\n",
       " 2: 'O',\n",
       " 3: 'B-MISC',\n",
       " 4: 'B-PER',\n",
       " 5: 'I-PER',\n",
       " 6: 'B-LOC',\n",
       " 7: 'I-ORG',\n",
       " 8: 'I-MISC',\n",
       " 9: 'I-LOC'}"
      ]
     },
     "execution_count": 139,
     "metadata": {},
     "output_type": "execute_result"
    }
   ],
   "source": [
    "id2tag"
   ]
  },
  {
   "cell_type": "code",
   "execution_count": 140,
   "metadata": {
    "execution": {
     "iopub.execute_input": "2022-01-15T16:28:29.959207Z",
     "iopub.status.busy": "2022-01-15T16:28:29.958962Z",
     "iopub.status.idle": "2022-01-15T16:28:29.964995Z",
     "shell.execute_reply": "2022-01-15T16:28:29.964189Z",
     "shell.execute_reply.started": "2022-01-15T16:28:29.959161Z"
    }
   },
   "outputs": [],
   "source": [
    "def preprocess_tags(tags2id, Y_ready):\n",
    "    \n",
    "    Y_preprocessed = []\n",
    "    maxlen = 256\n",
    "    # for each target \n",
    "    for y in Y_ready:\n",
    "        \n",
    "        # place holder to store the new preprocessed tag list\n",
    "        Y_place_holder = []\n",
    "        \n",
    "        # for each tag in rhe tag list \n",
    "        for tag in y:\n",
    "            # append the id of the tag in the place holder list\n",
    "            Y_place_holder.append(tags2id[tag])\n",
    "        \n",
    "        # find the lenght of the new preprocessed tag list \n",
    "        len_new_tag_list = len(Y_place_holder)\n",
    "        # find the differance in length between the len of tag list and padded sentences\n",
    "        num_O_to_add = maxlen - len_new_tag_list\n",
    "        \n",
    "        # add 'O's to padd the tag lists\n",
    "        padded_tags = Y_place_holder + ([tags2id['O']] * num_O_to_add)\n",
    "        Y_preprocessed.append(padded_tags[:maxlen])\n",
    "        \n",
    "    return Y_preprocessed"
   ]
  },
  {
   "cell_type": "code",
   "execution_count": 141,
   "metadata": {
    "execution": {
     "iopub.execute_input": "2022-01-15T16:28:30.748993Z",
     "iopub.status.busy": "2022-01-15T16:28:30.748738Z",
     "iopub.status.idle": "2022-01-15T16:28:30.98637Z",
     "shell.execute_reply": "2022-01-15T16:28:30.985312Z",
     "shell.execute_reply.started": "2022-01-15T16:28:30.748964Z"
    }
   },
   "outputs": [],
   "source": [
    "Y_preprocessed = preprocess_tags(tags2id, Y_ready)"
   ]
  },
  {
   "cell_type": "code",
   "execution_count": 142,
   "metadata": {
    "execution": {
     "iopub.execute_input": "2022-01-15T16:28:31.00146Z",
     "iopub.status.busy": "2022-01-15T16:28:31.001246Z",
     "iopub.status.idle": "2022-01-15T16:28:31.005942Z",
     "shell.execute_reply": "2022-01-15T16:28:31.005271Z",
     "shell.execute_reply.started": "2022-01-15T16:28:31.001433Z"
    }
   },
   "outputs": [
    {
     "name": "stdout",
     "output_type": "stream",
     "text": [
      "[2, 2, 2, 3, 2, 2, 2, 2, 2, 2, 2, 2, 2, 2, 2, 2, 2, 2, 2, 2, 2, 2, 2, 2, 2, 2, 2, 2, 2, 2, 2, 2, 2, 2, 2, 2, 2, 2, 2, 2, 2, 2, 2, 2, 2, 2, 2, 2, 2, 2, 2, 2, 2, 2, 2, 2, 2, 2, 2, 2, 2, 2, 2, 2, 2, 2, 2, 2, 2, 2, 2, 2, 2, 2, 2, 2, 2, 2, 2, 2, 2, 2, 2, 2, 2, 2, 2, 2, 2, 2, 2, 2, 2, 2, 2, 2, 2, 2, 2, 2, 2, 2, 2, 2, 2, 2, 2, 2, 2, 2, 2, 2, 2, 2, 2, 2, 2, 2, 2, 2, 2, 2, 2, 2, 2, 2, 2, 2, 2, 2, 2, 2, 2, 2, 2, 2, 2, 2, 2, 2, 2, 2, 2, 2, 2, 2, 2, 2, 2, 2, 2, 2, 2, 2, 2, 2, 2, 2, 2, 2, 2, 2, 2, 2, 2, 2, 2, 2, 2, 2, 2, 2, 2, 2, 2, 2, 2, 2, 2, 2, 2, 2, 2, 2, 2, 2, 2, 2, 2, 2, 2, 2, 2, 2, 2, 2, 2, 2, 2, 2, 2, 2, 2, 2, 2, 2, 2, 2, 2, 2, 2, 2, 2, 2, 2, 2, 2, 2, 2, 2, 2, 2, 2, 2, 2, 2, 2, 2, 2, 2, 2, 2, 2, 2, 2, 2, 2, 2, 2, 2, 2, 2, 2, 2, 2, 2, 2, 2, 2, 2, 2, 2, 2, 2, 2, 2]\n"
     ]
    }
   ],
   "source": [
    "print(Y_preprocessed[7373])"
   ]
  },
  {
   "cell_type": "code",
   "execution_count": 143,
   "metadata": {},
   "outputs": [
    {
     "name": "stdout",
     "output_type": "stream",
     "text": [
      "[1, 2, 3, 2, 2, 2, 3, 2, 2, 2, 2, 2, 2, 2, 2, 2, 2, 2, 2, 2, 2, 2, 2, 2, 2, 2, 2, 2, 2, 2, 2, 2, 2, 2, 2, 2, 2, 2, 2, 2, 2, 2, 2, 2, 2, 2, 2, 2, 2, 2, 2, 2, 2, 2, 2, 2, 2, 2, 2, 2, 2, 2, 2, 2, 2, 2, 2, 2, 2, 2, 2, 2, 2, 2, 2, 2, 2, 2, 2, 2, 2, 2, 2, 2, 2, 2, 2, 2, 2, 2, 2, 2, 2, 2, 2, 2, 2, 2, 2, 2, 2, 2, 2, 2, 2, 2, 2, 2, 2, 2, 2, 2, 2, 2, 2, 2, 2, 2, 2, 2, 2, 2, 2, 2, 2, 2, 2, 2, 2, 2, 2, 2, 2, 2, 2, 2, 2, 2, 2, 2, 2, 2, 2, 2, 2, 2, 2, 2, 2, 2, 2, 2, 2, 2, 2, 2, 2, 2, 2, 2, 2, 2, 2, 2, 2, 2, 2, 2, 2, 2, 2, 2, 2, 2, 2, 2, 2, 2, 2, 2, 2, 2, 2, 2, 2, 2, 2, 2, 2, 2, 2, 2, 2, 2, 2, 2, 2, 2, 2, 2, 2, 2, 2, 2, 2, 2, 2, 2, 2, 2, 2, 2, 2, 2, 2, 2, 2, 2, 2, 2, 2, 2, 2, 2, 2, 2, 2, 2, 2, 2, 2, 2, 2, 2, 2, 2, 2, 2, 2, 2, 2, 2, 2, 2, 2, 2, 2, 2, 2, 2, 2, 2, 2, 2, 2, 2]\n"
     ]
    }
   ],
   "source": [
    "print(Y_preprocessed[0])"
   ]
  },
  {
   "cell_type": "code",
   "execution_count": 144,
   "metadata": {},
   "outputs": [],
   "source": [
    "# for x in Y_preprocessed:\n",
    "#     if len(x) != 110:\n",
    "#         print(len(x))"
   ]
  },
  {
   "cell_type": "code",
   "execution_count": 145,
   "metadata": {
    "execution": {
     "iopub.execute_input": "2022-01-15T16:28:31.99478Z",
     "iopub.status.busy": "2022-01-15T16:28:31.994074Z",
     "iopub.status.idle": "2022-01-15T16:28:32.002239Z",
     "shell.execute_reply": "2022-01-15T16:28:32.001446Z",
     "shell.execute_reply.started": "2022-01-15T16:28:31.994742Z"
    }
   },
   "outputs": [
    {
     "name": "stdout",
     "output_type": "stream",
     "text": [
      "['B-ORG', 'O', 'B-MISC', 'O', 'O', 'O', 'B-MISC', 'O', 'O']\n"
     ]
    }
   ],
   "source": [
    "print(Y_ready[0])"
   ]
  },
  {
   "cell_type": "markdown",
   "metadata": {},
   "source": [
    "### By now we have the data ready for training our model \n"
   ]
  },
  {
   "cell_type": "markdown",
   "metadata": {},
   "source": [
    "- **Data shuffling and splitting**"
   ]
  },
  {
   "cell_type": "code",
   "execution_count": 146,
   "metadata": {
    "execution": {
     "iopub.execute_input": "2022-01-15T16:28:33.782947Z",
     "iopub.status.busy": "2022-01-15T16:28:33.782269Z",
     "iopub.status.idle": "2022-01-15T16:28:33.789623Z",
     "shell.execute_reply": "2022-01-15T16:28:33.788713Z",
     "shell.execute_reply.started": "2022-01-15T16:28:33.782893Z"
    }
   },
   "outputs": [
    {
     "name": "stdout",
     "output_type": "stream",
     "text": [
      "The Lenght of training examples: 7374\n",
      "The Lenght of training targets: 7374\n"
     ]
    }
   ],
   "source": [
    "print(\"The Lenght of training examples: {}\".format(len(X_preprocessed)))\n",
    "print(\"The Lenght of training targets: {}\".format(len(Y_preprocessed)))"
   ]
  },
  {
   "cell_type": "code",
   "execution_count": 147,
   "metadata": {
    "execution": {
     "iopub.execute_input": "2022-01-15T16:28:34.065115Z",
     "iopub.status.busy": "2022-01-15T16:28:34.064779Z",
     "iopub.status.idle": "2022-01-15T16:28:35.13735Z",
     "shell.execute_reply": "2022-01-15T16:28:35.136336Z",
     "shell.execute_reply.started": "2022-01-15T16:28:34.065085Z"
    }
   },
   "outputs": [],
   "source": [
    "X_preprocessed = np.asarray(X_preprocessed)\n",
    "# Y_preprocessed = [np.array(inner_list) for inner_list in Y_preprocessed]\n",
    "Y_preprocessed = np.asarray(Y_preprocessed)\n",
    "# Y_preprocessed = np.asarray(Y_preprocessed_arrays)"
   ]
  },
  {
   "cell_type": "code",
   "execution_count": 148,
   "metadata": {},
   "outputs": [
    {
     "data": {
      "text/plain": [
       "array([[1, 2, 3, ..., 2, 2, 2],\n",
       "       [4, 5, 6, ..., 2, 2, 2],\n",
       "       [6, 2, 2, ..., 2, 2, 2],\n",
       "       ...,\n",
       "       [6, 2, 6, ..., 2, 2, 2],\n",
       "       [6, 2, 6, ..., 2, 2, 2],\n",
       "       [2, 2, 2, ..., 2, 2, 2]])"
      ]
     },
     "execution_count": 148,
     "metadata": {},
     "output_type": "execute_result"
    }
   ],
   "source": [
    "Y_preprocessed"
   ]
  },
  {
   "cell_type": "code",
   "execution_count": 149,
   "metadata": {},
   "outputs": [
    {
     "data": {
      "text/plain": [
       "array([[  946, 10290,   208, ...,     0,     0,     0],\n",
       "       [  765,  1880,   749, ...,     0,     0,     0],\n",
       "       [  142,    12,  3006, ...,     0,     0,     0],\n",
       "       ...,\n",
       "       [17545,     1,     1, ...,     0,     0,     0],\n",
       "       [ 1915,     1,     1, ...,     0,     0,     0],\n",
       "       [   21,    88,   389, ...,     0,     0,     0]])"
      ]
     },
     "execution_count": 149,
     "metadata": {},
     "output_type": "execute_result"
    }
   ],
   "source": [
    "X_preprocessed"
   ]
  },
  {
   "cell_type": "code",
   "execution_count": 150,
   "metadata": {
    "execution": {
     "iopub.execute_input": "2022-01-15T16:28:35.144045Z",
     "iopub.status.busy": "2022-01-15T16:28:35.141964Z",
     "iopub.status.idle": "2022-01-15T16:28:35.149819Z",
     "shell.execute_reply": "2022-01-15T16:28:35.148844Z",
     "shell.execute_reply.started": "2022-01-15T16:28:35.143994Z"
    }
   },
   "outputs": [],
   "source": [
    "# 70% of the datat will be used for training \n",
    "training_samples = 0.7\n",
    "# 15% of the datat will be used for validation \n",
    "validation_samples = 0.15\n",
    "# 15% of the datat will be used for testing \n",
    "testing_samples = 0.15"
   ]
  },
  {
   "cell_type": "code",
   "execution_count": 151,
   "metadata": {
    "execution": {
     "iopub.execute_input": "2022-01-15T16:28:35.157309Z",
     "iopub.status.busy": "2022-01-15T16:28:35.154689Z",
     "iopub.status.idle": "2022-01-15T16:28:35.163459Z",
     "shell.execute_reply": "2022-01-15T16:28:35.162119Z",
     "shell.execute_reply.started": "2022-01-15T16:28:35.157267Z"
    }
   },
   "outputs": [],
   "source": [
    "indices = np.arange(len(Y_preprocessed))"
   ]
  },
  {
   "cell_type": "code",
   "execution_count": 152,
   "metadata": {
    "execution": {
     "iopub.execute_input": "2022-01-15T16:28:35.171633Z",
     "iopub.status.busy": "2022-01-15T16:28:35.170578Z",
     "iopub.status.idle": "2022-01-15T16:28:35.180716Z",
     "shell.execute_reply": "2022-01-15T16:28:35.17984Z",
     "shell.execute_reply.started": "2022-01-15T16:28:35.171592Z"
    }
   },
   "outputs": [],
   "source": [
    "np.random.seed(seed=555)\n",
    "np.random.shuffle(indices)"
   ]
  },
  {
   "cell_type": "code",
   "execution_count": 153,
   "metadata": {},
   "outputs": [
    {
     "data": {
      "text/plain": [
       "array([7005, 1276,  587, ..., 7145, 4782, 6554])"
      ]
     },
     "execution_count": 153,
     "metadata": {},
     "output_type": "execute_result"
    }
   ],
   "source": [
    "indices"
   ]
  },
  {
   "cell_type": "code",
   "execution_count": 154,
   "metadata": {
    "execution": {
     "iopub.execute_input": "2022-01-15T16:28:35.186473Z",
     "iopub.status.busy": "2022-01-15T16:28:35.185104Z",
     "iopub.status.idle": "2022-01-15T16:28:35.225648Z",
     "shell.execute_reply": "2022-01-15T16:28:35.224798Z",
     "shell.execute_reply.started": "2022-01-15T16:28:35.186428Z"
    }
   },
   "outputs": [],
   "source": [
    "X_preprocessed = X_preprocessed[indices]\n",
    "indices = indices.astype(int)\n",
    "Y_preprocessed = Y_preprocessed[indices]"
   ]
  },
  {
   "cell_type": "code",
   "execution_count": 155,
   "metadata": {
    "execution": {
     "iopub.execute_input": "2022-01-15T16:28:35.527725Z",
     "iopub.status.busy": "2022-01-15T16:28:35.527259Z",
     "iopub.status.idle": "2022-01-15T16:28:35.537469Z",
     "shell.execute_reply": "2022-01-15T16:28:35.535711Z",
     "shell.execute_reply.started": "2022-01-15T16:28:35.527688Z"
    }
   },
   "outputs": [
    {
     "name": "stdout",
     "output_type": "stream",
     "text": [
      "Number of training examples: 5161\n",
      "Number of validation examples: 1107\n",
      "Number of testing examples: 1106\n",
      "Total number of examples after shuffling and splitting: 7374\n"
     ]
    }
   ],
   "source": [
    "X_train = X_preprocessed[: int(0.7 * len(X_preprocessed))]\n",
    "print(\"Number of training examples: {}\".format(len(X_train)))\n",
    "\n",
    "\n",
    "X_val = X_preprocessed[int(0.7 * len(X_preprocessed)) : int(0.7 * len(X_preprocessed)) + (int(0.15 * len(X_preprocessed)) + 1)]\n",
    "print(\"Number of validation examples: {}\".format(len(X_val)))\n",
    "\n",
    "\n",
    "X_test = X_preprocessed[int(0.7 * len(X_preprocessed)) + (int(0.15 * len(X_preprocessed)) + 1) : ]\n",
    "print(\"Number of testing examples: {}\".format(len(X_test)))\n",
    "\n",
    "\n",
    "\n",
    "Y_train = Y_preprocessed[: int(0.7 * len(X_preprocessed))]\n",
    "Y_val = Y_preprocessed[int(0.7 * len(X_preprocessed)) : int(0.7 * len(X_preprocessed)) + (int(0.15 * len(X_preprocessed)) + 1)]\n",
    "Y_test = Y_preprocessed[int(0.7 * len(X_preprocessed)) + (int(0.15 * len(X_preprocessed)) + 1) : ]\n",
    "\n",
    "print(\"Total number of examples after shuffling and splitting: {}\".format(len(X_train) + len(X_val) + len(X_test)))"
   ]
  },
  {
   "cell_type": "markdown",
   "metadata": {},
   "source": [
    "# 5- Model Training and Evaluation"
   ]
  },
  {
   "cell_type": "code",
   "execution_count": 156,
   "metadata": {
    "execution": {
     "iopub.execute_input": "2022-01-15T16:28:37.426614Z",
     "iopub.status.busy": "2022-01-15T16:28:37.426048Z",
     "iopub.status.idle": "2022-01-15T16:28:37.432265Z",
     "shell.execute_reply": "2022-01-15T16:28:37.431596Z",
     "shell.execute_reply.started": "2022-01-15T16:28:37.426574Z"
    }
   },
   "outputs": [
    {
     "data": {
      "text/plain": [
       "array([11696, 11697,   170,  1598,   924,  2862,   244,  6322,  6323,\n",
       "           0,     0,     0,     0,     0,     0,     0,     0,     0,\n",
       "           0,     0,     0,     0,     0,     0,     0,     0,     0,\n",
       "           0,     0,     0,     0,     0,     0,     0,     0,     0,\n",
       "           0,     0,     0,     0,     0,     0,     0,     0,     0,\n",
       "           0,     0,     0,     0,     0,     0,     0,     0,     0,\n",
       "           0,     0,     0,     0,     0,     0,     0,     0,     0,\n",
       "           0,     0,     0,     0,     0,     0,     0,     0,     0,\n",
       "           0,     0,     0,     0,     0,     0,     0,     0,     0,\n",
       "           0,     0,     0,     0,     0,     0,     0,     0,     0,\n",
       "           0,     0,     0,     0,     0,     0,     0,     0,     0,\n",
       "           0,     0,     0,     0,     0,     0,     0,     0,     0,\n",
       "           0,     0,     0,     0,     0,     0,     0,     0,     0,\n",
       "           0,     0,     0,     0,     0,     0,     0,     0,     0,\n",
       "           0,     0,     0,     0,     0,     0,     0,     0,     0,\n",
       "           0,     0,     0,     0,     0,     0,     0,     0,     0,\n",
       "           0,     0,     0,     0,     0,     0,     0,     0,     0,\n",
       "           0,     0,     0,     0,     0,     0,     0,     0,     0,\n",
       "           0,     0,     0,     0,     0,     0,     0,     0,     0,\n",
       "           0,     0,     0,     0,     0,     0,     0,     0,     0,\n",
       "           0,     0,     0,     0,     0,     0,     0,     0,     0,\n",
       "           0,     0,     0,     0,     0,     0,     0,     0,     0,\n",
       "           0,     0,     0,     0,     0,     0,     0,     0,     0,\n",
       "           0,     0,     0,     0,     0,     0,     0,     0,     0,\n",
       "           0,     0,     0,     0,     0,     0,     0,     0,     0,\n",
       "           0,     0,     0,     0,     0,     0,     0,     0,     0,\n",
       "           0,     0,     0,     0,     0,     0,     0,     0,     0,\n",
       "           0,     0,     0,     0,     0,     0,     0,     0,     0,\n",
       "           0,     0,     0,     0])"
      ]
     },
     "execution_count": 156,
     "metadata": {},
     "output_type": "execute_result"
    }
   ],
   "source": [
    "X_train[1000]"
   ]
  },
  {
   "cell_type": "code",
   "execution_count": 157,
   "metadata": {
    "execution": {
     "iopub.execute_input": "2022-01-15T16:28:37.641071Z",
     "iopub.status.busy": "2022-01-15T16:28:37.640827Z",
     "iopub.status.idle": "2022-01-15T16:28:37.64719Z",
     "shell.execute_reply": "2022-01-15T16:28:37.646309Z",
     "shell.execute_reply.started": "2022-01-15T16:28:37.641042Z"
    }
   },
   "outputs": [
    {
     "data": {
      "text/plain": [
       "array([1, 7, 2, 2, 6, 2, 6, 2, 1, 2, 2, 2, 2, 2, 2, 2, 2, 2, 2, 2, 2, 2,\n",
       "       2, 2, 2, 2, 2, 2, 2, 2, 2, 2, 2, 2, 2, 2, 2, 2, 2, 2, 2, 2, 2, 2,\n",
       "       2, 2, 2, 2, 2, 2, 2, 2, 2, 2, 2, 2, 2, 2, 2, 2, 2, 2, 2, 2, 2, 2,\n",
       "       2, 2, 2, 2, 2, 2, 2, 2, 2, 2, 2, 2, 2, 2, 2, 2, 2, 2, 2, 2, 2, 2,\n",
       "       2, 2, 2, 2, 2, 2, 2, 2, 2, 2, 2, 2, 2, 2, 2, 2, 2, 2, 2, 2, 2, 2,\n",
       "       2, 2, 2, 2, 2, 2, 2, 2, 2, 2, 2, 2, 2, 2, 2, 2, 2, 2, 2, 2, 2, 2,\n",
       "       2, 2, 2, 2, 2, 2, 2, 2, 2, 2, 2, 2, 2, 2, 2, 2, 2, 2, 2, 2, 2, 2,\n",
       "       2, 2, 2, 2, 2, 2, 2, 2, 2, 2, 2, 2, 2, 2, 2, 2, 2, 2, 2, 2, 2, 2,\n",
       "       2, 2, 2, 2, 2, 2, 2, 2, 2, 2, 2, 2, 2, 2, 2, 2, 2, 2, 2, 2, 2, 2,\n",
       "       2, 2, 2, 2, 2, 2, 2, 2, 2, 2, 2, 2, 2, 2, 2, 2, 2, 2, 2, 2, 2, 2,\n",
       "       2, 2, 2, 2, 2, 2, 2, 2, 2, 2, 2, 2, 2, 2, 2, 2, 2, 2, 2, 2, 2, 2,\n",
       "       2, 2, 2, 2, 2, 2, 2, 2, 2, 2, 2, 2, 2, 2])"
      ]
     },
     "execution_count": 157,
     "metadata": {},
     "output_type": "execute_result"
    }
   ],
   "source": [
    "Y_train[1000]"
   ]
  },
  {
   "cell_type": "code",
   "execution_count": 158,
   "metadata": {
    "execution": {
     "iopub.execute_input": "2022-01-15T16:28:37.837546Z",
     "iopub.status.busy": "2022-01-15T16:28:37.837325Z",
     "iopub.status.idle": "2022-01-15T16:28:37.842683Z",
     "shell.execute_reply": "2022-01-15T16:28:37.84193Z",
     "shell.execute_reply.started": "2022-01-15T16:28:37.83752Z"
    }
   },
   "outputs": [
    {
     "data": {
      "text/plain": [
       "'jordan'"
      ]
     },
     "execution_count": 158,
     "metadata": {},
     "output_type": "execute_result"
    }
   ],
   "source": [
    "id2word[729]"
   ]
  },
  {
   "cell_type": "markdown",
   "metadata": {},
   "source": [
    "## Load dataset to the model using train_dataset = tf.data.Dataset \n"
   ]
  },
  {
   "cell_type": "code",
   "execution_count": 172,
   "metadata": {},
   "outputs": [
    {
     "data": {
      "text/plain": [
       "array([[  731,  8283, 17179,   317,   356,    28,    12,  1974,  2964,\n",
       "          266,    23, 17180,   401,     0,     0,     0,     0,     0,\n",
       "            0,     0,     0,     0,     0,     0,     0,     0,     0,\n",
       "            0,     0,     0,     0,     0,     0,     0,     0,     0,\n",
       "            0,     0,     0,     0,     0,     0,     0,     0,     0,\n",
       "            0,     0,     0,     0,     0,     0,     0,     0,     0,\n",
       "            0,     0,     0,     0,     0,     0,     0,     0,     0,\n",
       "            0,     0,     0,     0,     0,     0,     0,     0,     0,\n",
       "            0,     0,     0,     0,     0,     0,     0,     0,     0,\n",
       "            0,     0,     0,     0,     0,     0,     0,     0,     0,\n",
       "            0,     0,     0,     0,     0,     0,     0,     0,     0,\n",
       "            0,     0,     0,     0,     0,     0,     0,     0,     0,\n",
       "            0,     0,     0,     0,     0,     0,     0,     0,     0,\n",
       "            0,     0,     0,     0,     0,     0,     0,     0,     0,\n",
       "            0,     0,     0,     0,     0,     0,     0,     0,     0,\n",
       "            0,     0,     0,     0,     0,     0,     0,     0,     0,\n",
       "            0,     0,     0,     0,     0,     0,     0,     0,     0,\n",
       "            0,     0,     0,     0,     0,     0,     0,     0,     0,\n",
       "            0,     0,     0,     0,     0,     0,     0,     0,     0,\n",
       "            0,     0,     0,     0,     0,     0,     0,     0,     0,\n",
       "            0,     0,     0,     0,     0,     0,     0,     0,     0,\n",
       "            0,     0,     0,     0,     0,     0,     0,     0,     0,\n",
       "            0,     0,     0,     0,     0,     0,     0,     0,     0,\n",
       "            0,     0,     0,     0,     0,     0,     0,     0,     0,\n",
       "            0,     0,     0,     0,     0,     0,     0,     0,     0,\n",
       "            0,     0,     0,     0,     0,     0,     0,     0,     0,\n",
       "            0,     0,     0,     0,     0,     0,     0,     0,     0,\n",
       "            0,     0,     0,     0,     0,     0,     0,     0,     0,\n",
       "            0,     0,     0,     0],\n",
       "       [ 8047,    10,    26,    19,  3598,    23,     2,   291,  4159,\n",
       "            0,     0,     0,     0,     0,     0,     0,     0,     0,\n",
       "            0,     0,     0,     0,     0,     0,     0,     0,     0,\n",
       "            0,     0,     0,     0,     0,     0,     0,     0,     0,\n",
       "            0,     0,     0,     0,     0,     0,     0,     0,     0,\n",
       "            0,     0,     0,     0,     0,     0,     0,     0,     0,\n",
       "            0,     0,     0,     0,     0,     0,     0,     0,     0,\n",
       "            0,     0,     0,     0,     0,     0,     0,     0,     0,\n",
       "            0,     0,     0,     0,     0,     0,     0,     0,     0,\n",
       "            0,     0,     0,     0,     0,     0,     0,     0,     0,\n",
       "            0,     0,     0,     0,     0,     0,     0,     0,     0,\n",
       "            0,     0,     0,     0,     0,     0,     0,     0,     0,\n",
       "            0,     0,     0,     0,     0,     0,     0,     0,     0,\n",
       "            0,     0,     0,     0,     0,     0,     0,     0,     0,\n",
       "            0,     0,     0,     0,     0,     0,     0,     0,     0,\n",
       "            0,     0,     0,     0,     0,     0,     0,     0,     0,\n",
       "            0,     0,     0,     0,     0,     0,     0,     0,     0,\n",
       "            0,     0,     0,     0,     0,     0,     0,     0,     0,\n",
       "            0,     0,     0,     0,     0,     0,     0,     0,     0,\n",
       "            0,     0,     0,     0,     0,     0,     0,     0,     0,\n",
       "            0,     0,     0,     0,     0,     0,     0,     0,     0,\n",
       "            0,     0,     0,     0,     0,     0,     0,     0,     0,\n",
       "            0,     0,     0,     0,     0,     0,     0,     0,     0,\n",
       "            0,     0,     0,     0,     0,     0,     0,     0,     0,\n",
       "            0,     0,     0,     0,     0,     0,     0,     0,     0,\n",
       "            0,     0,     0,     0,     0,     0,     0,     0,     0,\n",
       "            0,     0,     0,     0,     0,     0,     0,     0,     0,\n",
       "            0,     0,     0,     0,     0,     0,     0,     0,     0,\n",
       "            0,     0,     0,     0]])"
      ]
     },
     "execution_count": 172,
     "metadata": {},
     "output_type": "execute_result"
    }
   ],
   "source": [
    "X_train[:2]"
   ]
  },
  {
   "cell_type": "code",
   "execution_count": 160,
   "metadata": {
    "_kg_hide-output": true,
    "execution": {
     "iopub.execute_input": "2022-01-15T16:28:39.683644Z",
     "iopub.status.busy": "2022-01-15T16:28:39.682944Z",
     "iopub.status.idle": "2022-01-15T16:28:41.985145Z",
     "shell.execute_reply": "2022-01-15T16:28:41.98435Z",
     "shell.execute_reply.started": "2022-01-15T16:28:39.683607Z"
    }
   },
   "outputs": [],
   "source": [
    "train_dataset = tf.data.Dataset.from_tensor_slices((X_train, Y_train))\n",
    "val_dataset = tf.data.Dataset.from_tensor_slices((X_val, Y_val))\n",
    "test_dataset = tf.data.Dataset.from_tensor_slices((X_test, Y_test))"
   ]
  },
  {
   "cell_type": "code",
   "execution_count": 161,
   "metadata": {
    "execution": {
     "iopub.execute_input": "2022-01-15T16:29:10.048431Z",
     "iopub.status.busy": "2022-01-15T16:29:10.047767Z",
     "iopub.status.idle": "2022-01-15T16:29:10.063802Z",
     "shell.execute_reply": "2022-01-15T16:29:10.062899Z",
     "shell.execute_reply.started": "2022-01-15T16:29:10.048383Z"
    }
   },
   "outputs": [],
   "source": [
    "BATCH_SIZE = 132\n",
    "SHUFFLE_BUFFER_SIZE = 132\n",
    "\n",
    "train_dataset = train_dataset.shuffle(SHUFFLE_BUFFER_SIZE).batch(BATCH_SIZE)\n",
    "val_dataset = val_dataset.batch(BATCH_SIZE)\n",
    "test_dataset = test_dataset.batch(BATCH_SIZE)"
   ]
  },
  {
   "cell_type": "code",
   "execution_count": 162,
   "metadata": {
    "execution": {
     "iopub.execute_input": "2022-01-15T16:29:11.034833Z",
     "iopub.status.busy": "2022-01-15T16:29:11.034112Z",
     "iopub.status.idle": "2022-01-15T16:29:12.114376Z",
     "shell.execute_reply": "2022-01-15T16:29:12.113655Z",
     "shell.execute_reply.started": "2022-01-15T16:29:11.034793Z"
    }
   },
   "outputs": [],
   "source": [
    "embedding_dim = 300\n",
    "maxlen = 256\n",
    "max_words = 36000\n",
    "num_tags = len(tags)\n",
    "\n",
    "model = tf.keras.models.Sequential([\n",
    "    tf.keras.layers.Embedding(max_words, embedding_dim, input_length=maxlen),\n",
    "    tf.keras.layers.Bidirectional(tf.keras.layers.LSTM(units=100, activation='tanh', return_sequences=True)),\n",
    "    tf.keras.layers.Bidirectional(tf.keras.layers.LSTM(units=100, activation='tanh', return_sequences=True)),\n",
    "    tf.keras.layers.TimeDistributed(tf.keras.layers.Dense(num_tags, activation='softmax'))\n",
    "])"
   ]
  },
  {
   "cell_type": "code",
   "execution_count": 163,
   "metadata": {
    "execution": {
     "iopub.execute_input": "2022-01-15T16:29:14.912633Z",
     "iopub.status.busy": "2022-01-15T16:29:14.912033Z",
     "iopub.status.idle": "2022-01-15T16:29:14.922574Z",
     "shell.execute_reply": "2022-01-15T16:29:14.921618Z",
     "shell.execute_reply.started": "2022-01-15T16:29:14.912594Z"
    }
   },
   "outputs": [
    {
     "name": "stdout",
     "output_type": "stream",
     "text": [
      "Model: \"sequential_3\"\n",
      "_________________________________________________________________\n",
      " Layer (type)                Output Shape              Param #   \n",
      "=================================================================\n",
      " embedding_3 (Embedding)     (None, 256, 300)          10800000  \n",
      "                                                                 \n",
      " bidirectional_6 (Bidirectio  (None, 256, 200)         320800    \n",
      " nal)                                                            \n",
      "                                                                 \n",
      " bidirectional_7 (Bidirectio  (None, 256, 200)         240800    \n",
      " nal)                                                            \n",
      "                                                                 \n",
      " time_distributed_3 (TimeDis  (None, 256, 10)          2010      \n",
      " tributed)                                                       \n",
      "                                                                 \n",
      "=================================================================\n",
      "Total params: 11,363,610\n",
      "Trainable params: 11,363,610\n",
      "Non-trainable params: 0\n",
      "_________________________________________________________________\n"
     ]
    }
   ],
   "source": [
    "model.summary()"
   ]
  },
  {
   "cell_type": "code",
   "execution_count": 164,
   "metadata": {
    "execution": {
     "iopub.execute_input": "2022-01-15T16:29:15.180942Z",
     "iopub.status.busy": "2022-01-15T16:29:15.180697Z",
     "iopub.status.idle": "2022-01-15T16:29:15.196203Z",
     "shell.execute_reply": "2022-01-15T16:29:15.1954Z",
     "shell.execute_reply.started": "2022-01-15T16:29:15.180914Z"
    }
   },
   "outputs": [],
   "source": [
    "model.compile(loss='sparse_categorical_crossentropy',\n",
    "              optimizer='adam',\n",
    "              metrics=['accuracy'])"
   ]
  },
  {
   "cell_type": "code",
   "execution_count": 165,
   "metadata": {},
   "outputs": [],
   "source": [
    "# train_dataset.shape"
   ]
  },
  {
   "cell_type": "code",
   "execution_count": 166,
   "metadata": {
    "execution": {
     "iopub.execute_input": "2022-01-15T16:29:52.842214Z",
     "iopub.status.busy": "2022-01-15T16:29:52.841931Z",
     "iopub.status.idle": "2022-01-15T16:31:08.974781Z",
     "shell.execute_reply": "2022-01-15T16:31:08.973948Z",
     "shell.execute_reply.started": "2022-01-15T16:29:52.842177Z"
    }
   },
   "outputs": [
    {
     "name": "stdout",
     "output_type": "stream",
     "text": [
      "Epoch 1/15\n",
      "40/40 [==============================] - 90s 2s/step - loss: 0.3091 - accuracy: 0.9805 - val_loss: 0.0877 - val_accuracy: 0.9821\n",
      "Epoch 2/15\n",
      "40/40 [==============================] - 82s 2s/step - loss: 0.0824 - accuracy: 0.9821 - val_loss: 0.0739 - val_accuracy: 0.9838\n",
      "Epoch 3/15\n",
      "40/40 [==============================] - 82s 2s/step - loss: 0.0754 - accuracy: 0.9828 - val_loss: 0.0721 - val_accuracy: 0.9838\n",
      "Epoch 4/15\n",
      "40/40 [==============================] - 81s 2s/step - loss: 0.0729 - accuracy: 0.9828 - val_loss: 0.0707 - val_accuracy: 0.9838\n",
      "Epoch 5/15\n",
      "40/40 [==============================] - 81s 2s/step - loss: 0.0706 - accuracy: 0.9828 - val_loss: 0.0692 - val_accuracy: 0.9838\n",
      "Epoch 6/15\n",
      "40/40 [==============================] - 82s 2s/step - loss: 0.0681 - accuracy: 0.9828 - val_loss: 0.0677 - val_accuracy: 0.9838\n",
      "Epoch 7/15\n",
      "40/40 [==============================] - 81s 2s/step - loss: 0.0654 - accuracy: 0.9828 - val_loss: 0.0660 - val_accuracy: 0.9838\n",
      "Epoch 8/15\n",
      "40/40 [==============================] - 82s 2s/step - loss: 0.0623 - accuracy: 0.9828 - val_loss: 0.0646 - val_accuracy: 0.9837\n",
      "Epoch 9/15\n",
      "40/40 [==============================] - 82s 2s/step - loss: 0.0589 - accuracy: 0.9829 - val_loss: 0.0630 - val_accuracy: 0.9837\n",
      "Epoch 10/15\n",
      "40/40 [==============================] - 82s 2s/step - loss: 0.0554 - accuracy: 0.9831 - val_loss: 0.0623 - val_accuracy: 0.9837\n",
      "Epoch 11/15\n",
      "40/40 [==============================] - 83s 2s/step - loss: 0.0518 - accuracy: 0.9836 - val_loss: 0.0632 - val_accuracy: 0.9839\n",
      "Epoch 12/15\n",
      "40/40 [==============================] - 81s 2s/step - loss: 0.0489 - accuracy: 0.9841 - val_loss: 0.0631 - val_accuracy: 0.9839\n",
      "Epoch 13/15\n",
      "40/40 [==============================] - 81s 2s/step - loss: 0.0458 - accuracy: 0.9846 - val_loss: 0.0611 - val_accuracy: 0.9835\n",
      "Epoch 14/15\n",
      "40/40 [==============================] - 82s 2s/step - loss: 0.0426 - accuracy: 0.9853 - val_loss: 0.0624 - val_accuracy: 0.9835\n",
      "Epoch 15/15\n",
      "40/40 [==============================] - 81s 2s/step - loss: 0.0391 - accuracy: 0.9861 - val_loss: 0.0627 - val_accuracy: 0.9833\n"
     ]
    }
   ],
   "source": [
    "history = model.fit(train_dataset,\n",
    "                    validation_data=val_dataset,\n",
    "                    epochs=15)"
   ]
  },
  {
   "cell_type": "code",
   "execution_count": 167,
   "metadata": {
    "execution": {
     "iopub.execute_input": "2022-01-15T16:31:08.976723Z",
     "iopub.status.busy": "2022-01-15T16:31:08.976525Z",
     "iopub.status.idle": "2022-01-15T16:31:09.951793Z",
     "shell.execute_reply": "2022-01-15T16:31:09.951076Z",
     "shell.execute_reply.started": "2022-01-15T16:31:08.976698Z"
    }
   },
   "outputs": [
    {
     "name": "stdout",
     "output_type": "stream",
     "text": [
      "9/9 [==============================] - 4s 433ms/step - loss: 0.0695 - accuracy: 0.9813\n"
     ]
    },
    {
     "data": {
      "text/plain": [
       "[0.06952116638422012, 0.981256365776062]"
      ]
     },
     "execution_count": 167,
     "metadata": {},
     "output_type": "execute_result"
    }
   ],
   "source": [
    "model.evaluate(test_dataset)"
   ]
  },
  {
   "cell_type": "code",
   "execution_count": 168,
   "metadata": {
    "execution": {
     "iopub.execute_input": "2022-01-15T16:31:09.953301Z",
     "iopub.status.busy": "2022-01-15T16:31:09.953026Z",
     "iopub.status.idle": "2022-01-15T16:31:10.344047Z",
     "shell.execute_reply": "2022-01-15T16:31:10.343396Z",
     "shell.execute_reply.started": "2022-01-15T16:31:09.953262Z"
    }
   },
   "outputs": [
    {
     "data": {
      "image/png": "[encoded data removed]",
      "text/plain": [
       "<Figure size 480x320 with 2 Axes>"
      ]
     },
     "metadata": {},
     "output_type": "display_data"
    }
   ],
   "source": [
    "acc = history.history['accuracy']\n",
    "val_acc = history.history['val_accuracy']\n",
    "\n",
    "loss = history.history['loss']\n",
    "val_loss = history.history['val_loss']\n",
    "\n",
    "epochs = range(1, len(acc) + 1)\n",
    "\n",
    "fig, ax = plt.subplots(1, 2, constrained_layout=True, figsize=(6, 4), dpi=80)\n",
    "\n",
    "ax[0].plot(epochs, acc, label = \"Training Accuracy\", color='darkblue')\n",
    "ax[0].plot(epochs, val_acc, label = \"Validation Accuracy\", color='darkgreen')\n",
    "ax[0].grid(alpha=0.3)\n",
    "ax[0].title.set_text('Training Vs Validation Accuracy')\n",
    "ax[0].fill_between(epochs, acc, val_acc, color='crimson', alpha=0.3)\n",
    "plt.setp(ax[0], xlabel='Epochs')\n",
    "plt.setp(ax[0], ylabel='Accuracy')\n",
    "\n",
    "\n",
    "ax[1].plot(epochs, loss, label = \"Training Loss\", color='darkblue')\n",
    "ax[1].plot(epochs, val_loss, label = \"Validation Loss\", color='darkgreen')\n",
    "ax[1].grid(alpha=0.3)\n",
    "ax[1].title.set_text('Training Vs Validation Loss')\n",
    "ax[1].fill_between(epochs,loss, val_loss, color='crimson', alpha=0.3)\n",
    "plt.setp(ax[1], xlabel='Epochs')\n",
    "plt.setp(ax[1], ylabel='Loss')\n",
    "\n",
    "plt.show()"
   ]
  },
  {
   "cell_type": "code",
   "execution_count": 194,
   "metadata": {
    "execution": {
     "iopub.execute_input": "2022-01-15T16:31:10.346328Z",
     "iopub.status.busy": "2022-01-15T16:31:10.345915Z",
     "iopub.status.idle": "2022-01-15T16:31:10.353837Z",
     "shell.execute_reply": "2022-01-15T16:31:10.353213Z",
     "shell.execute_reply.started": "2022-01-15T16:31:10.346288Z"
    }
   },
   "outputs": [],
   "source": [
    "def make_prediction(model, preprocessed_sentence, id2word, id2tag):\n",
    "    \n",
    "    #if preprocessed_sentence.shape() != (1, 110):\n",
    "    preprocessed_sentence = preprocessed_sentence.reshape((1, 256))\n",
    "     \n",
    "    # return preprocessed sentence to its orginal form\n",
    "    sentence = preprocessed_sentence[preprocessed_sentence > 0]\n",
    "    word_list = []\n",
    "    for word in list(sentence):\n",
    "        word_list.append(id2word[word])\n",
    "    orginal_sententce = ' '.join(word_list)\n",
    "    \n",
    "    len_orginal_sententce = len(word_list)\n",
    "    \n",
    "    # make prediction\n",
    "    prediction = model.predict(preprocessed_sentence)\n",
    "    prediction = np.argmax(prediction[0], axis=1)\n",
    "    \n",
    "    # return the prediction to its orginal form\n",
    "    prediction = list(prediction)[ : len_orginal_sententce] \n",
    "    \n",
    "    pred_tag_list = []\n",
    "    for tag_id in prediction:\n",
    "        pred_tag_list.append(id2tag[tag_id])\n",
    "    \n",
    "    return (orginal_sententce,  pred_tag_list)"
   ]
  },
  {
   "cell_type": "code",
   "execution_count": 195,
   "metadata": {
    "execution": {
     "iopub.execute_input": "2022-01-15T16:31:10.355112Z",
     "iopub.status.busy": "2022-01-15T16:31:10.354896Z",
     "iopub.status.idle": "2022-01-15T16:31:11.455519Z",
     "shell.execute_reply": "2022-01-15T16:31:11.454729Z",
     "shell.execute_reply.started": "2022-01-15T16:31:10.355087Z"
    }
   },
   "outputs": [
    {
     "name": "stdout",
     "output_type": "stream",
     "text": [
      "1/1 [==============================] - 0s 66ms/step\n"
     ]
    }
   ],
   "source": [
    "(orginal_sententce,  pred_tag_list) = make_prediction(model=model,\n",
    "                                                    preprocessed_sentence=X_test[520],\n",
    "                                                    id2word=id2word,\n",
    "                                                    id2tag=id2tag)"
   ]
  },
  {
   "cell_type": "code",
   "execution_count": 200,
   "metadata": {},
   "outputs": [
    {
     "name": "stdout",
     "output_type": "stream",
     "text": [
      "1/1 [==============================] - 0s 51ms/step\n"
     ]
    },
    {
     "data": {
      "text/plain": [
       "'B-LOC'"
      ]
     },
     "execution_count": 200,
     "metadata": {},
     "output_type": "execute_result"
    }
   ],
   "source": [
    "make_prediction(model=loaded_model, preprocessed_sentence=X_test[520], id2word=id2word, id2tag=id2tag)[1][0]"
   ]
  },
  {
   "cell_type": "code",
   "execution_count": 196,
   "metadata": {},
   "outputs": [
    {
     "data": {
      "text/plain": [
       "array([  325,   341,    20,    22,    86,  7857,  6186,   155,    12,\n",
       "        2120,   504,    74,  5735,   381, 11200,     3,  3031,   388,\n",
       "          36,    55,  4189,  2340,     1,     1, 11201, 11202, 11203,\n",
       "         640,    10,     0,     0,     0,     0,     0,     0,     0,\n",
       "           0,     0,     0,     0,     0,     0,     0,     0,     0,\n",
       "           0,     0,     0,     0,     0,     0,     0,     0,     0,\n",
       "           0,     0,     0,     0,     0,     0,     0,     0,     0,\n",
       "           0,     0,     0,     0,     0,     0,     0,     0,     0,\n",
       "           0,     0,     0,     0,     0,     0,     0,     0,     0,\n",
       "           0,     0,     0,     0,     0,     0,     0,     0,     0,\n",
       "           0,     0,     0,     0,     0,     0,     0,     0,     0,\n",
       "           0,     0,     0,     0,     0,     0,     0,     0,     0,\n",
       "           0,     0,     0,     0,     0,     0,     0,     0,     0,\n",
       "           0,     0,     0,     0,     0,     0,     0,     0,     0,\n",
       "           0,     0,     0,     0,     0,     0,     0,     0,     0,\n",
       "           0,     0,     0,     0,     0,     0,     0,     0,     0,\n",
       "           0,     0,     0,     0,     0,     0,     0,     0,     0,\n",
       "           0,     0,     0,     0,     0,     0,     0,     0,     0,\n",
       "           0,     0,     0,     0,     0,     0,     0,     0,     0,\n",
       "           0,     0,     0,     0,     0,     0,     0,     0,     0,\n",
       "           0,     0,     0,     0,     0,     0,     0,     0,     0,\n",
       "           0,     0,     0,     0,     0,     0,     0,     0,     0,\n",
       "           0,     0,     0,     0,     0,     0,     0,     0,     0,\n",
       "           0,     0,     0,     0,     0,     0,     0,     0,     0,\n",
       "           0,     0,     0,     0,     0,     0,     0,     0,     0,\n",
       "           0,     0,     0,     0,     0,     0,     0,     0,     0,\n",
       "           0,     0,     0,     0,     0,     0,     0,     0,     0,\n",
       "           0,     0,     0,     0,     0,     0,     0,     0,     0,\n",
       "           0,     0,     0,     0])"
      ]
     },
     "execution_count": 196,
     "metadata": {},
     "output_type": "execute_result"
    }
   ],
   "source": [
    "X_test[520]"
   ]
  },
  {
   "cell_type": "code",
   "execution_count": 197,
   "metadata": {
    "execution": {
     "iopub.execute_input": "2022-01-15T16:31:11.459112Z",
     "iopub.status.busy": "2022-01-15T16:31:11.458094Z",
     "iopub.status.idle": "2022-01-15T16:31:11.46367Z",
     "shell.execute_reply": "2022-01-15T16:31:11.462968Z",
     "shell.execute_reply.started": "2022-01-15T16:31:11.459079Z"
    }
   },
   "outputs": [
    {
     "name": "stdout",
     "output_type": "stream",
     "text": [
      "hong kong 1996 08 22 ka wah bank 's hk 43 million floating rate certificate of deposit issue has been privately placed o o sole arranger hsbc markets said\n"
     ]
    }
   ],
   "source": [
    "print(orginal_sententce)"
   ]
  },
  {
   "cell_type": "code",
   "execution_count": 198,
   "metadata": {
    "execution": {
     "iopub.execute_input": "2022-01-15T16:31:11.465376Z",
     "iopub.status.busy": "2022-01-15T16:31:11.464779Z",
     "iopub.status.idle": "2022-01-15T16:31:11.472994Z",
     "shell.execute_reply": "2022-01-15T16:31:11.47223Z",
     "shell.execute_reply.started": "2022-01-15T16:31:11.465333Z"
    }
   },
   "outputs": [
    {
     "name": "stdout",
     "output_type": "stream",
     "text": [
      "['B-LOC', 'B-LOC', 'O', 'O', 'O', 'O', 'O', 'O', 'O', 'O', 'O', 'O', 'O', 'O', 'O', 'O', 'O', 'O', 'O', 'O', 'O', 'O', 'O', 'O', 'O', 'O', 'O', 'O', 'O']\n"
     ]
    }
   ],
   "source": [
    "print(pred_tag_list)"
   ]
  },
  {
   "cell_type": "code",
   "execution_count": null,
   "metadata": {},
   "outputs": [],
   "source": []
  },
  {
   "cell_type": "markdown",
   "metadata": {},
   "source": [
    "# Load the model"
   ]
  },
  {
   "cell_type": "code",
   "execution_count": 169,
   "metadata": {},
   "outputs": [],
   "source": [
    "# Save the trained model\n",
    "model.save('ner_nn_model.h5')\n",
    "\n",
    "loaded_model = tf.keras.models.load_model('ner_nn_model.h5')"
   ]
  },
  {
   "cell_type": "code",
   "execution_count": 171,
   "metadata": {},
   "outputs": [
    {
     "name": "stdout",
     "output_type": "stream",
     "text": [
      "Model: \"sequential_3\"\n",
      "_________________________________________________________________\n",
      " Layer (type)                Output Shape              Param #   \n",
      "=================================================================\n",
      " embedding_3 (Embedding)     (None, 256, 300)          10800000  \n",
      "                                                                 \n",
      " bidirectional_6 (Bidirectio  (None, 256, 200)         320800    \n",
      " nal)                                                            \n",
      "                                                                 \n",
      " bidirectional_7 (Bidirectio  (None, 256, 200)         240800    \n",
      " nal)                                                            \n",
      "                                                                 \n",
      " time_distributed_3 (TimeDis  (None, 256, 10)          2010      \n",
      " tributed)                                                       \n",
      "                                                                 \n",
      "=================================================================\n",
      "Total params: 11,363,610\n",
      "Trainable params: 11,363,610\n",
      "Non-trainable params: 0\n",
      "_________________________________________________________________\n"
     ]
    }
   ],
   "source": [
    "loaded_model.summary()"
   ]
  },
  {
   "cell_type": "markdown",
   "metadata": {},
   "source": [
    "# Making prediction"
   ]
  },
  {
   "cell_type": "code",
   "execution_count": 186,
   "metadata": {},
   "outputs": [],
   "source": [
    "# from sklearn.preprocessing import LabelEncoder\n",
    "# from tqdm import tqdm\n",
    "\n",
    "# def load_data_test(data_path):\n",
    "#     with open(data_path) as f:\n",
    "#         data = f.read().splitlines()\n",
    "\n",
    "# #   with open(gt_path, \"r\") as f:\n",
    "# #       labels = f.read().splitlines()\n",
    "\n",
    "# #   df = pd.DataFrame({\"text\": data, \"label\": labels})\n",
    "#     df = pd.DataFrame({\"text\": data})\n",
    "#     df = df[df[\"text\"] != \";;;\"]\n",
    "#     df[\"text\"] = df[\"text\"].apply(lambda x: x.replace(\";;;\", \"\"))\n",
    "# #   df = df[~(df[\"label\"].str.strip()==\"\")]\n",
    "# #   df = df[~df[\"label\"].str.contains(\";\")]\n",
    "\n",
    "# #   df[\"label\"] = df[\"label\"].str.strip()\n",
    "\n",
    "# #   df[\"label\"] = np.where(df[\"label\"] == \"O O\", \"O\", df[\"label\"])\n",
    "#     return df\n",
    "\n",
    "# test = load_data_test(\"train_data.csv\")\n",
    "# # valid = load_data(\"valid_gt.csv\", \"valid_data.csv\")\n",
    "# # label_mapping = {'O': 0, 'B-ORG': 1, 'B-MISC': 2, 'B-PER': 3, 'I-PER': 4, 'B-LOC': 5, 'I-ORG': 6, 'I-MISC': 7, 'I-LOC': 8}\n",
    "# # train['label'] = train['label'].map(label_mapping)\n",
    "# # valid['label'] = valid['label'].map(label_mapping)\n",
    "# # print(len(valid))\n",
    "# # print(train['label'].unique())\n",
    "# # print(valid['label'].unique())\n",
    "# ner_pos = LabelEncoder()\n",
    "# def rows_to_sentences_test(df):\n",
    "#     sentences = []\n",
    "# #     sentences_labels = []\n",
    "#     current_sentence = []\n",
    "# #     current_labels = []\n",
    "\n",
    "#     for index, row in tqdm(df.iterrows(), total = len(df)):\n",
    "#         word = row['text']\n",
    "#         current_sentence.append(word.strip())\n",
    "# #         current_labels.append(label)\n",
    "#         if word.strip() == '.':\n",
    "#             sentences.append(current_sentence)\n",
    "# #             sentences_labels.append(current_labels)\n",
    "#             current_sentence = []\n",
    "# #             current_labels = []\n",
    "\n",
    "#     return sentences\n",
    "\n",
    "# test_sentences = rows_to_sentences_test(test)"
   ]
  },
  {
   "cell_type": "code",
   "execution_count": 187,
   "metadata": {},
   "outputs": [],
   "source": [
    "# test_sentences"
   ]
  },
  {
   "cell_type": "code",
   "execution_count": 188,
   "metadata": {},
   "outputs": [],
   "source": [
    "from pandas import read_csv\n",
    "\n",
    "# data = read_csv('drive/MyDrive/Colab Notebooks/compete data/train_data.csv', sep=';',  header=None, skip_blank_lines=False)\n",
    "test_data = read_csv('test_data.csv', sep=';',  header=None, skip_blank_lines=False)\n",
    "# data = read_csv('drive/MyDrive/Colab Notebooks/compete data/train_data.csv', sep=';')\n",
    "\n",
    "len(test_data)\n",
    "\n",
    "test_data.rename(columns = {0:'data'}, inplace = True)\n",
    "\n",
    "test_data['data'] = test_data['data'].fillna('')\n",
    "\n",
    "test_d = test_data[\"data\"]\n",
    "\n",
    "# X_test_d_features = tokenizer.transform(test_d)"
   ]
  },
  {
   "cell_type": "code",
   "execution_count": 192,
   "metadata": {},
   "outputs": [
    {
     "data": {
      "text/html": [
       "<div>\n",
       "<style scoped>\n",
       "    .dataframe tbody tr th:only-of-type {\n",
       "        vertical-align: middle;\n",
       "    }\n",
       "\n",
       "    .dataframe tbody tr th {\n",
       "        vertical-align: top;\n",
       "    }\n",
       "\n",
       "    .dataframe thead th {\n",
       "        text-align: right;\n",
       "    }\n",
       "</style>\n",
       "<table border=\"1\" class=\"dataframe\">\n",
       "  <thead>\n",
       "    <tr style=\"text-align: right;\">\n",
       "      <th></th>\n",
       "      <th>data</th>\n",
       "    </tr>\n",
       "  </thead>\n",
       "  <tbody>\n",
       "    <tr>\n",
       "      <th>0</th>\n",
       "      <td>RUGBY</td>\n",
       "    </tr>\n",
       "    <tr>\n",
       "      <th>1</th>\n",
       "      <td>UNION</td>\n",
       "    </tr>\n",
       "    <tr>\n",
       "      <th>2</th>\n",
       "      <td>-</td>\n",
       "    </tr>\n",
       "    <tr>\n",
       "      <th>3</th>\n",
       "      <td>CUTTITTA</td>\n",
       "    </tr>\n",
       "    <tr>\n",
       "      <th>4</th>\n",
       "      <td>BACK</td>\n",
       "    </tr>\n",
       "    <tr>\n",
       "      <th>...</th>\n",
       "      <td>...</td>\n",
       "    </tr>\n",
       "    <tr>\n",
       "      <th>49296</th>\n",
       "      <td>3</td>\n",
       "    </tr>\n",
       "    <tr>\n",
       "      <th>49297</th>\n",
       "      <td>11</td>\n",
       "    </tr>\n",
       "    <tr>\n",
       "      <th>49298</th>\n",
       "      <td>8</td>\n",
       "    </tr>\n",
       "    <tr>\n",
       "      <th>49299</th>\n",
       "      <td>30</td>\n",
       "    </tr>\n",
       "    <tr>\n",
       "      <th>49300</th>\n",
       "      <td>6</td>\n",
       "    </tr>\n",
       "  </tbody>\n",
       "</table>\n",
       "<p>49301 rows × 1 columns</p>\n",
       "</div>"
      ],
      "text/plain": [
       "            data\n",
       "0         RUGBY \n",
       "1         UNION \n",
       "2             - \n",
       "3      CUTTITTA \n",
       "4          BACK \n",
       "...          ...\n",
       "49296         3 \n",
       "49297        11 \n",
       "49298         8 \n",
       "49299        30 \n",
       "49300         6 \n",
       "\n",
       "[49301 rows x 1 columns]"
      ]
     },
     "execution_count": 192,
     "metadata": {},
     "output_type": "execute_result"
    }
   ],
   "source": [
    "test_data"
   ]
  },
  {
   "cell_type": "code",
   "execution_count": 207,
   "metadata": {},
   "outputs": [
    {
     "data": {
      "text/plain": [
       "'RUGBY '"
      ]
     },
     "execution_count": 207,
     "metadata": {},
     "output_type": "execute_result"
    }
   ],
   "source": [
    "test_data['data'][0]"
   ]
  },
  {
   "cell_type": "code",
   "execution_count": 208,
   "metadata": {},
   "outputs": [
    {
     "data": {
      "text/plain": [
       "[[724]]"
      ]
     },
     "execution_count": 208,
     "metadata": {},
     "output_type": "execute_result"
    }
   ],
   "source": [
    "tokenizer.texts_to_sequences([test_data['data'][0]])"
   ]
  },
  {
   "cell_type": "code",
   "execution_count": 209,
   "metadata": {},
   "outputs": [
    {
     "data": {
      "text/plain": [
       "array([[724,   0,   0,   0,   0,   0,   0,   0,   0,   0,   0,   0,   0,\n",
       "          0,   0,   0,   0,   0,   0,   0,   0,   0,   0,   0,   0,   0,\n",
       "          0,   0,   0,   0,   0,   0,   0,   0,   0,   0,   0,   0,   0,\n",
       "          0,   0,   0,   0,   0,   0,   0,   0,   0,   0,   0,   0,   0,\n",
       "          0,   0,   0,   0,   0,   0,   0,   0,   0,   0,   0,   0,   0,\n",
       "          0,   0,   0,   0,   0,   0,   0,   0,   0,   0,   0,   0,   0,\n",
       "          0,   0,   0,   0,   0,   0,   0,   0,   0,   0,   0,   0,   0,\n",
       "          0,   0,   0,   0,   0,   0,   0,   0,   0,   0,   0,   0,   0,\n",
       "          0,   0,   0,   0,   0,   0,   0,   0,   0,   0,   0,   0,   0,\n",
       "          0,   0,   0,   0,   0,   0,   0,   0,   0,   0,   0,   0,   0,\n",
       "          0,   0,   0,   0,   0,   0,   0,   0,   0,   0,   0,   0,   0,\n",
       "          0,   0,   0,   0,   0,   0,   0,   0,   0,   0,   0,   0,   0,\n",
       "          0,   0,   0,   0,   0,   0,   0,   0,   0,   0,   0,   0,   0,\n",
       "          0,   0,   0,   0,   0,   0,   0,   0,   0,   0,   0,   0,   0,\n",
       "          0,   0,   0,   0,   0,   0,   0,   0,   0,   0,   0,   0,   0,\n",
       "          0,   0,   0,   0,   0,   0,   0,   0,   0,   0,   0,   0,   0,\n",
       "          0,   0,   0,   0,   0,   0,   0,   0,   0,   0,   0,   0,   0,\n",
       "          0,   0,   0,   0,   0,   0,   0,   0,   0,   0,   0,   0,   0,\n",
       "          0,   0,   0,   0,   0,   0,   0,   0,   0,   0,   0,   0,   0,\n",
       "          0,   0,   0,   0,   0,   0,   0,   0,   0]])"
      ]
     },
     "execution_count": 209,
     "metadata": {},
     "output_type": "execute_result"
    }
   ],
   "source": [
    "pad_sequences(tokenizer.texts_to_sequences([test_data['data'][0]]), maxlen=maxlen, padding='post')"
   ]
  },
  {
   "cell_type": "code",
   "execution_count": 235,
   "metadata": {},
   "outputs": [
    {
     "name": "stdout",
     "output_type": "stream",
     "text": [
      "1/1 [==============================] - 0s 50ms/step\n",
      "1/1 [==============================] - 0s 42ms/step\n",
      "1/1 [==============================] - 0s 40ms/step\n",
      "1/1 [==============================] - 0s 41ms/step\n",
      "1/1 [==============================] - 0s 41ms/step\n"
     ]
    },
    {
     "ename": "IndexError",
     "evalue": "list index out of range",
     "output_type": "error",
     "traceback": [
      "\u001b[1;31m---------------------------------------------------------------------------\u001b[0m",
      "\u001b[1;31mIndexError\u001b[0m                                Traceback (most recent call last)",
      "Input \u001b[1;32mIn [235]\u001b[0m, in \u001b[0;36m<cell line: 1>\u001b[1;34m()\u001b[0m\n\u001b[1;32m----> 1\u001b[0m test_data[\u001b[38;5;124m'\u001b[39m\u001b[38;5;124mlabel\u001b[39m\u001b[38;5;124m'\u001b[39m] \u001b[38;5;241m=\u001b[39m \u001b[43mtest_data\u001b[49m\u001b[43m[\u001b[49m\u001b[38;5;124;43m'\u001b[39;49m\u001b[38;5;124;43mdata\u001b[39;49m\u001b[38;5;124;43m'\u001b[39;49m\u001b[43m]\u001b[49m\u001b[38;5;241;43m.\u001b[39;49m\u001b[43mapply\u001b[49m\u001b[43m(\u001b[49m\u001b[38;5;28;43;01mlambda\u001b[39;49;00m\u001b[43m \u001b[49m\u001b[43mx\u001b[49m\u001b[43m:\u001b[49m\u001b[43m \u001b[49m\u001b[43mmake_prediction\u001b[49m\u001b[43m(\u001b[49m\u001b[43mmodel\u001b[49m\u001b[38;5;241;43m=\u001b[39;49m\u001b[43mloaded_model\u001b[49m\u001b[43m,\u001b[49m\u001b[43m \u001b[49m\u001b[43mpreprocessed_sentence\u001b[49m\u001b[38;5;241;43m=\u001b[39;49m\u001b[43mpad_sequences\u001b[49m\u001b[43m(\u001b[49m\u001b[43mtokenizer\u001b[49m\u001b[38;5;241;43m.\u001b[39;49m\u001b[43mtexts_to_sequences\u001b[49m\u001b[43m(\u001b[49m\u001b[43m[\u001b[49m\u001b[43mx\u001b[49m\u001b[43m]\u001b[49m\u001b[43m)\u001b[49m\u001b[43m,\u001b[49m\u001b[43m \u001b[49m\u001b[43mmaxlen\u001b[49m\u001b[38;5;241;43m=\u001b[39;49m\u001b[43mmaxlen\u001b[49m\u001b[43m,\u001b[49m\u001b[43m \u001b[49m\u001b[43mpadding\u001b[49m\u001b[38;5;241;43m=\u001b[39;49m\u001b[38;5;124;43m'\u001b[39;49m\u001b[38;5;124;43mpost\u001b[39;49m\u001b[38;5;124;43m'\u001b[39;49m\u001b[43m)\u001b[49m\u001b[43m,\u001b[49m\u001b[43m \u001b[49m\u001b[43mid2word\u001b[49m\u001b[38;5;241;43m=\u001b[39;49m\u001b[43mid2word\u001b[49m\u001b[43m,\u001b[49m\u001b[43m \u001b[49m\u001b[43mid2tag\u001b[49m\u001b[38;5;241;43m=\u001b[39;49m\u001b[43mid2tag\u001b[49m\u001b[43m)\u001b[49m\u001b[43m[\u001b[49m\u001b[38;5;241;43m1\u001b[39;49m\u001b[43m]\u001b[49m\u001b[43m[\u001b[49m\u001b[38;5;241;43m0\u001b[39;49m\u001b[43m]\u001b[49m\u001b[43m \u001b[49m\u001b[38;5;28;43;01mif\u001b[39;49;00m\u001b[43m \u001b[49m\u001b[43mmake_prediction\u001b[49m\u001b[43m(\u001b[49m\u001b[43mmodel\u001b[49m\u001b[38;5;241;43m=\u001b[39;49m\u001b[43mloaded_model\u001b[49m\u001b[43m,\u001b[49m\u001b[43m \u001b[49m\u001b[43mpreprocessed_sentence\u001b[49m\u001b[38;5;241;43m=\u001b[39;49m\u001b[43mpad_sequences\u001b[49m\u001b[43m(\u001b[49m\u001b[43mtokenizer\u001b[49m\u001b[38;5;241;43m.\u001b[39;49m\u001b[43mtexts_to_sequences\u001b[49m\u001b[43m(\u001b[49m\u001b[43m[\u001b[49m\u001b[43mx\u001b[49m\u001b[43m]\u001b[49m\u001b[43m)\u001b[49m\u001b[43m,\u001b[49m\u001b[43m \u001b[49m\u001b[43mmaxlen\u001b[49m\u001b[38;5;241;43m=\u001b[39;49m\u001b[43mmaxlen\u001b[49m\u001b[43m,\u001b[49m\u001b[43m \u001b[49m\u001b[43mpadding\u001b[49m\u001b[38;5;241;43m=\u001b[39;49m\u001b[38;5;124;43m'\u001b[39;49m\u001b[38;5;124;43mpost\u001b[39;49m\u001b[38;5;124;43m'\u001b[39;49m\u001b[43m)\u001b[49m\u001b[43m,\u001b[49m\u001b[43m \u001b[49m\u001b[43mid2word\u001b[49m\u001b[38;5;241;43m=\u001b[39;49m\u001b[43mid2word\u001b[49m\u001b[43m,\u001b[49m\u001b[43m \u001b[49m\u001b[43mid2tag\u001b[49m\u001b[38;5;241;43m=\u001b[39;49m\u001b[43mid2tag\u001b[49m\u001b[43m)\u001b[49m\u001b[43m[\u001b[49m\u001b[38;5;241;43m1\u001b[39;49m\u001b[43m]\u001b[49m\u001b[43m[\u001b[49m\u001b[38;5;241;43m0\u001b[39;49m\u001b[43m]\u001b[49m\u001b[43m \u001b[49m\u001b[38;5;28;43;01melse\u001b[39;49;00m\u001b[43m \u001b[49m\u001b[38;5;124;43m'\u001b[39;49m\u001b[38;5;124;43m'\u001b[39;49m\u001b[43m)\u001b[49m\n",
      "File \u001b[1;32m~\\AppData\\Local\\Packages\\PythonSoftwareFoundation.Python.3.10_qbz5n2kfra8p0\\LocalCache\\local-packages\\Python310\\site-packages\\pandas\\core\\series.py:4433\u001b[0m, in \u001b[0;36mSeries.apply\u001b[1;34m(self, func, convert_dtype, args, **kwargs)\u001b[0m\n\u001b[0;32m   4323\u001b[0m \u001b[38;5;28;01mdef\u001b[39;00m \u001b[38;5;21mapply\u001b[39m(\n\u001b[0;32m   4324\u001b[0m     \u001b[38;5;28mself\u001b[39m,\n\u001b[0;32m   4325\u001b[0m     func: AggFuncType,\n\u001b[1;32m   (...)\u001b[0m\n\u001b[0;32m   4328\u001b[0m     \u001b[38;5;241m*\u001b[39m\u001b[38;5;241m*\u001b[39mkwargs,\n\u001b[0;32m   4329\u001b[0m ) \u001b[38;5;241m-\u001b[39m\u001b[38;5;241m>\u001b[39m DataFrame \u001b[38;5;241m|\u001b[39m Series:\n\u001b[0;32m   4330\u001b[0m     \u001b[38;5;124;03m\"\"\"\u001b[39;00m\n\u001b[0;32m   4331\u001b[0m \u001b[38;5;124;03m    Invoke function on values of Series.\u001b[39;00m\n\u001b[0;32m   4332\u001b[0m \n\u001b[1;32m   (...)\u001b[0m\n\u001b[0;32m   4431\u001b[0m \u001b[38;5;124;03m    dtype: float64\u001b[39;00m\n\u001b[0;32m   4432\u001b[0m \u001b[38;5;124;03m    \"\"\"\u001b[39;00m\n\u001b[1;32m-> 4433\u001b[0m     \u001b[38;5;28;01mreturn\u001b[39;00m \u001b[43mSeriesApply\u001b[49m\u001b[43m(\u001b[49m\u001b[38;5;28;43mself\u001b[39;49m\u001b[43m,\u001b[49m\u001b[43m \u001b[49m\u001b[43mfunc\u001b[49m\u001b[43m,\u001b[49m\u001b[43m \u001b[49m\u001b[43mconvert_dtype\u001b[49m\u001b[43m,\u001b[49m\u001b[43m \u001b[49m\u001b[43margs\u001b[49m\u001b[43m,\u001b[49m\u001b[43m \u001b[49m\u001b[43mkwargs\u001b[49m\u001b[43m)\u001b[49m\u001b[38;5;241;43m.\u001b[39;49m\u001b[43mapply\u001b[49m\u001b[43m(\u001b[49m\u001b[43m)\u001b[49m\n",
      "File \u001b[1;32m~\\AppData\\Local\\Packages\\PythonSoftwareFoundation.Python.3.10_qbz5n2kfra8p0\\LocalCache\\local-packages\\Python310\\site-packages\\pandas\\core\\apply.py:1088\u001b[0m, in \u001b[0;36mSeriesApply.apply\u001b[1;34m(self)\u001b[0m\n\u001b[0;32m   1084\u001b[0m \u001b[38;5;28;01mif\u001b[39;00m \u001b[38;5;28misinstance\u001b[39m(\u001b[38;5;28mself\u001b[39m\u001b[38;5;241m.\u001b[39mf, \u001b[38;5;28mstr\u001b[39m):\n\u001b[0;32m   1085\u001b[0m     \u001b[38;5;66;03m# if we are a string, try to dispatch\u001b[39;00m\n\u001b[0;32m   1086\u001b[0m     \u001b[38;5;28;01mreturn\u001b[39;00m \u001b[38;5;28mself\u001b[39m\u001b[38;5;241m.\u001b[39mapply_str()\n\u001b[1;32m-> 1088\u001b[0m \u001b[38;5;28;01mreturn\u001b[39;00m \u001b[38;5;28;43mself\u001b[39;49m\u001b[38;5;241;43m.\u001b[39;49m\u001b[43mapply_standard\u001b[49m\u001b[43m(\u001b[49m\u001b[43m)\u001b[49m\n",
      "File \u001b[1;32m~\\AppData\\Local\\Packages\\PythonSoftwareFoundation.Python.3.10_qbz5n2kfra8p0\\LocalCache\\local-packages\\Python310\\site-packages\\pandas\\core\\apply.py:1143\u001b[0m, in \u001b[0;36mSeriesApply.apply_standard\u001b[1;34m(self)\u001b[0m\n\u001b[0;32m   1137\u001b[0m         values \u001b[38;5;241m=\u001b[39m obj\u001b[38;5;241m.\u001b[39mastype(\u001b[38;5;28mobject\u001b[39m)\u001b[38;5;241m.\u001b[39m_values\n\u001b[0;32m   1138\u001b[0m         \u001b[38;5;66;03m# error: Argument 2 to \"map_infer\" has incompatible type\u001b[39;00m\n\u001b[0;32m   1139\u001b[0m         \u001b[38;5;66;03m# \"Union[Callable[..., Any], str, List[Union[Callable[..., Any], str]],\u001b[39;00m\n\u001b[0;32m   1140\u001b[0m         \u001b[38;5;66;03m# Dict[Hashable, Union[Union[Callable[..., Any], str],\u001b[39;00m\n\u001b[0;32m   1141\u001b[0m         \u001b[38;5;66;03m# List[Union[Callable[..., Any], str]]]]]\"; expected\u001b[39;00m\n\u001b[0;32m   1142\u001b[0m         \u001b[38;5;66;03m# \"Callable[[Any], Any]\"\u001b[39;00m\n\u001b[1;32m-> 1143\u001b[0m         mapped \u001b[38;5;241m=\u001b[39m \u001b[43mlib\u001b[49m\u001b[38;5;241;43m.\u001b[39;49m\u001b[43mmap_infer\u001b[49m\u001b[43m(\u001b[49m\n\u001b[0;32m   1144\u001b[0m \u001b[43m            \u001b[49m\u001b[43mvalues\u001b[49m\u001b[43m,\u001b[49m\n\u001b[0;32m   1145\u001b[0m \u001b[43m            \u001b[49m\u001b[43mf\u001b[49m\u001b[43m,\u001b[49m\u001b[43m  \u001b[49m\u001b[38;5;66;43;03m# type: ignore[arg-type]\u001b[39;49;00m\n\u001b[0;32m   1146\u001b[0m \u001b[43m            \u001b[49m\u001b[43mconvert\u001b[49m\u001b[38;5;241;43m=\u001b[39;49m\u001b[38;5;28;43mself\u001b[39;49m\u001b[38;5;241;43m.\u001b[39;49m\u001b[43mconvert_dtype\u001b[49m\u001b[43m,\u001b[49m\n\u001b[0;32m   1147\u001b[0m \u001b[43m        \u001b[49m\u001b[43m)\u001b[49m\n\u001b[0;32m   1149\u001b[0m \u001b[38;5;28;01mif\u001b[39;00m \u001b[38;5;28mlen\u001b[39m(mapped) \u001b[38;5;129;01mand\u001b[39;00m \u001b[38;5;28misinstance\u001b[39m(mapped[\u001b[38;5;241m0\u001b[39m], ABCSeries):\n\u001b[0;32m   1150\u001b[0m     \u001b[38;5;66;03m# GH#43986 Need to do list(mapped) in order to get treated as nested\u001b[39;00m\n\u001b[0;32m   1151\u001b[0m     \u001b[38;5;66;03m#  See also GH#25959 regarding EA support\u001b[39;00m\n\u001b[0;32m   1152\u001b[0m     \u001b[38;5;28;01mreturn\u001b[39;00m obj\u001b[38;5;241m.\u001b[39m_constructor_expanddim(\u001b[38;5;28mlist\u001b[39m(mapped), index\u001b[38;5;241m=\u001b[39mobj\u001b[38;5;241m.\u001b[39mindex)\n",
      "File \u001b[1;32m~\\AppData\\Local\\Packages\\PythonSoftwareFoundation.Python.3.10_qbz5n2kfra8p0\\LocalCache\\local-packages\\Python310\\site-packages\\pandas\\_libs\\lib.pyx:2870\u001b[0m, in \u001b[0;36mpandas._libs.lib.map_infer\u001b[1;34m()\u001b[0m\n",
      "Input \u001b[1;32mIn [235]\u001b[0m, in \u001b[0;36m<lambda>\u001b[1;34m(x)\u001b[0m\n\u001b[1;32m----> 1\u001b[0m test_data[\u001b[38;5;124m'\u001b[39m\u001b[38;5;124mlabel\u001b[39m\u001b[38;5;124m'\u001b[39m] \u001b[38;5;241m=\u001b[39m test_data[\u001b[38;5;124m'\u001b[39m\u001b[38;5;124mdata\u001b[39m\u001b[38;5;124m'\u001b[39m]\u001b[38;5;241m.\u001b[39mapply(\u001b[38;5;28;01mlambda\u001b[39;00m x: make_prediction(model\u001b[38;5;241m=\u001b[39mloaded_model, preprocessed_sentence\u001b[38;5;241m=\u001b[39mpad_sequences(tokenizer\u001b[38;5;241m.\u001b[39mtexts_to_sequences([x]), maxlen\u001b[38;5;241m=\u001b[39mmaxlen, padding\u001b[38;5;241m=\u001b[39m\u001b[38;5;124m'\u001b[39m\u001b[38;5;124mpost\u001b[39m\u001b[38;5;124m'\u001b[39m), id2word\u001b[38;5;241m=\u001b[39mid2word, id2tag\u001b[38;5;241m=\u001b[39mid2tag)[\u001b[38;5;241m1\u001b[39m][\u001b[38;5;241m0\u001b[39m] \u001b[38;5;28;01mif\u001b[39;00m \u001b[43mmake_prediction\u001b[49m\u001b[43m(\u001b[49m\u001b[43mmodel\u001b[49m\u001b[38;5;241;43m=\u001b[39;49m\u001b[43mloaded_model\u001b[49m\u001b[43m,\u001b[49m\u001b[43m \u001b[49m\u001b[43mpreprocessed_sentence\u001b[49m\u001b[38;5;241;43m=\u001b[39;49m\u001b[43mpad_sequences\u001b[49m\u001b[43m(\u001b[49m\u001b[43mtokenizer\u001b[49m\u001b[38;5;241;43m.\u001b[39;49m\u001b[43mtexts_to_sequences\u001b[49m\u001b[43m(\u001b[49m\u001b[43m[\u001b[49m\u001b[43mx\u001b[49m\u001b[43m]\u001b[49m\u001b[43m)\u001b[49m\u001b[43m,\u001b[49m\u001b[43m \u001b[49m\u001b[43mmaxlen\u001b[49m\u001b[38;5;241;43m=\u001b[39;49m\u001b[43mmaxlen\u001b[49m\u001b[43m,\u001b[49m\u001b[43m \u001b[49m\u001b[43mpadding\u001b[49m\u001b[38;5;241;43m=\u001b[39;49m\u001b[38;5;124;43m'\u001b[39;49m\u001b[38;5;124;43mpost\u001b[39;49m\u001b[38;5;124;43m'\u001b[39;49m\u001b[43m)\u001b[49m\u001b[43m,\u001b[49m\u001b[43m \u001b[49m\u001b[43mid2word\u001b[49m\u001b[38;5;241;43m=\u001b[39;49m\u001b[43mid2word\u001b[49m\u001b[43m,\u001b[49m\u001b[43m \u001b[49m\u001b[43mid2tag\u001b[49m\u001b[38;5;241;43m=\u001b[39;49m\u001b[43mid2tag\u001b[49m\u001b[43m)\u001b[49m\u001b[43m[\u001b[49m\u001b[38;5;241;43m1\u001b[39;49m\u001b[43m]\u001b[49m\u001b[43m[\u001b[49m\u001b[38;5;241;43m0\u001b[39;49m\u001b[43m]\u001b[49m \u001b[38;5;28;01melse\u001b[39;00m \u001b[38;5;124m'\u001b[39m\u001b[38;5;124m'\u001b[39m)\n",
      "\u001b[1;31mIndexError\u001b[0m: list index out of range"
     ]
    }
   ],
   "source": [
    "test_data['label'] = test_data['data'].apply(lambda x: make_prediction(model=loaded_model, preprocessed_sentence=pad_sequences(tokenizer.texts_to_sequences([x]), maxlen=maxlen, padding='post'), id2word=id2word, id2tag=id2tag)[1][0] if make_prediction(model=loaded_model, preprocessed_sentence=pad_sequences(tokenizer.texts_to_sequences([x]), maxlen=maxlen, padding='post'), id2word=id2word, id2tag=id2tag)[1][0] else '')"
   ]
  },
  {
   "cell_type": "code",
   "execution_count": 239,
   "metadata": {},
   "outputs": [
    {
     "name": "stdout",
     "output_type": "stream",
     "text": [
      "1/1 [==============================] - 0s 46ms/step\n"
     ]
    },
    {
     "ename": "IndexError",
     "evalue": "list index out of range",
     "output_type": "error",
     "traceback": [
      "\u001b[1;31m---------------------------------------------------------------------------\u001b[0m",
      "\u001b[1;31mIndexError\u001b[0m                                Traceback (most recent call last)",
      "Input \u001b[1;32mIn [239]\u001b[0m, in \u001b[0;36m<cell line: 1>\u001b[1;34m()\u001b[0m\n\u001b[1;32m----> 1\u001b[0m \u001b[43mmake_prediction\u001b[49m\u001b[43m(\u001b[49m\u001b[43mmodel\u001b[49m\u001b[38;5;241;43m=\u001b[39;49m\u001b[43mloaded_model\u001b[49m\u001b[43m,\u001b[49m\u001b[43m \u001b[49m\u001b[43mpreprocessed_sentence\u001b[49m\u001b[38;5;241;43m=\u001b[39;49m\u001b[43mpad_sequences\u001b[49m\u001b[43m(\u001b[49m\u001b[43mtokenizer\u001b[49m\u001b[38;5;241;43m.\u001b[39;49m\u001b[43mtexts_to_sequences\u001b[49m\u001b[43m(\u001b[49m\u001b[43m[\u001b[49m\u001b[43mtest_data\u001b[49m\u001b[43m[\u001b[49m\u001b[38;5;124;43m'\u001b[39;49m\u001b[38;5;124;43mdata\u001b[39;49m\u001b[38;5;124;43m'\u001b[39;49m\u001b[43m]\u001b[49m\u001b[43m[\u001b[49m\u001b[38;5;241;43m3\u001b[39;49m\u001b[43m]\u001b[49m\u001b[43m]\u001b[49m\u001b[43m)\u001b[49m\u001b[43m,\u001b[49m\u001b[43m \u001b[49m\u001b[43mmaxlen\u001b[49m\u001b[38;5;241;43m=\u001b[39;49m\u001b[43mmaxlen\u001b[49m\u001b[43m,\u001b[49m\u001b[43m \u001b[49m\u001b[43mpadding\u001b[49m\u001b[38;5;241;43m=\u001b[39;49m\u001b[38;5;124;43m'\u001b[39;49m\u001b[38;5;124;43mpost\u001b[39;49m\u001b[38;5;124;43m'\u001b[39;49m\u001b[43m)\u001b[49m\u001b[43m,\u001b[49m\u001b[43m \u001b[49m\u001b[43mid2word\u001b[49m\u001b[38;5;241;43m=\u001b[39;49m\u001b[43mid2word\u001b[49m\u001b[43m,\u001b[49m\u001b[43m \u001b[49m\u001b[43mid2tag\u001b[49m\u001b[38;5;241;43m=\u001b[39;49m\u001b[43mid2tag\u001b[49m\u001b[43m)\u001b[49m\u001b[43m[\u001b[49m\u001b[38;5;241;43m1\u001b[39;49m\u001b[43m]\u001b[49m\u001b[43m[\u001b[49m\u001b[38;5;241;43m0\u001b[39;49m\u001b[43m]\u001b[49m\n",
      "\u001b[1;31mIndexError\u001b[0m: list index out of range"
     ]
    }
   ],
   "source": [
    "make_prediction(model=loaded_model, preprocessed_sentence=pad_sequences(tokenizer.texts_to_sequences([test_data['data'][3]]), maxlen=maxlen, padding='post'), id2word=id2word, id2tag=id2tag)[1][0]"
   ]
  },
  {
   "cell_type": "code",
   "execution_count": 237,
   "metadata": {},
   "outputs": [
    {
     "data": {
      "text/plain": [
       "'CUTTITTA '"
      ]
     },
     "execution_count": 237,
     "metadata": {},
     "output_type": "execute_result"
    }
   ],
   "source": [
    "test_data['data'][3]"
   ]
  },
  {
   "cell_type": "code",
   "execution_count": 227,
   "metadata": {},
   "outputs": [
    {
     "ename": "ValueError",
     "evalue": "cannot reshape array of size 0 into shape (1,256)",
     "output_type": "error",
     "traceback": [
      "\u001b[1;31m---------------------------------------------------------------------------\u001b[0m",
      "\u001b[1;31mValueError\u001b[0m                                Traceback (most recent call last)",
      "Input \u001b[1;32mIn [227]\u001b[0m, in \u001b[0;36m<cell line: 1>\u001b[1;34m()\u001b[0m\n\u001b[1;32m----> 1\u001b[0m \u001b[43mmake_prediction\u001b[49m\u001b[43m(\u001b[49m\u001b[43mmodel\u001b[49m\u001b[38;5;241;43m=\u001b[39;49m\u001b[43mloaded_model\u001b[49m\u001b[43m,\u001b[49m\u001b[43m \u001b[49m\u001b[43mpreprocessed_sentence\u001b[49m\u001b[38;5;241;43m=\u001b[39;49m\u001b[43mpad_sequences\u001b[49m\u001b[43m(\u001b[49m\u001b[43mtokenizer\u001b[49m\u001b[38;5;241;43m.\u001b[39;49m\u001b[43mtexts_to_sequences\u001b[49m\u001b[43m(\u001b[49m\u001b[43m[\u001b[49m\u001b[43mtest_data\u001b[49m\u001b[43m[\u001b[49m\u001b[38;5;124;43m'\u001b[39;49m\u001b[38;5;124;43mdata\u001b[39;49m\u001b[38;5;124;43m'\u001b[39;49m\u001b[43m]\u001b[49m\u001b[43m[\u001b[49m\u001b[38;5;241;43m2\u001b[39;49m\u001b[43m]\u001b[49m\u001b[43m]\u001b[49m\u001b[43m)\u001b[49m\u001b[43m)\u001b[49m\u001b[43m,\u001b[49m\u001b[43m \u001b[49m\u001b[43mid2word\u001b[49m\u001b[38;5;241;43m=\u001b[39;49m\u001b[43mid2word\u001b[49m\u001b[43m,\u001b[49m\u001b[43m \u001b[49m\u001b[43mid2tag\u001b[49m\u001b[38;5;241;43m=\u001b[39;49m\u001b[43mid2tag\u001b[49m\u001b[43m)\u001b[49m[\u001b[38;5;241m1\u001b[39m][\u001b[38;5;241m0\u001b[39m]\n",
      "Input \u001b[1;32mIn [194]\u001b[0m, in \u001b[0;36mmake_prediction\u001b[1;34m(model, preprocessed_sentence, id2word, id2tag)\u001b[0m\n\u001b[0;32m      1\u001b[0m \u001b[38;5;28;01mdef\u001b[39;00m \u001b[38;5;21mmake_prediction\u001b[39m(model, preprocessed_sentence, id2word, id2tag):\n\u001b[0;32m      2\u001b[0m     \n\u001b[0;32m      3\u001b[0m     \u001b[38;5;66;03m#if preprocessed_sentence.shape() != (1, 110):\u001b[39;00m\n\u001b[1;32m----> 4\u001b[0m     preprocessed_sentence \u001b[38;5;241m=\u001b[39m \u001b[43mpreprocessed_sentence\u001b[49m\u001b[38;5;241;43m.\u001b[39;49m\u001b[43mreshape\u001b[49m\u001b[43m(\u001b[49m\u001b[43m(\u001b[49m\u001b[38;5;241;43m1\u001b[39;49m\u001b[43m,\u001b[49m\u001b[43m \u001b[49m\u001b[38;5;241;43m256\u001b[39;49m\u001b[43m)\u001b[49m\u001b[43m)\u001b[49m\n\u001b[0;32m      6\u001b[0m     \u001b[38;5;66;03m# return preprocessed sentence to its orginal form\u001b[39;00m\n\u001b[0;32m      7\u001b[0m     sentence \u001b[38;5;241m=\u001b[39m preprocessed_sentence[preprocessed_sentence \u001b[38;5;241m>\u001b[39m \u001b[38;5;241m0\u001b[39m]\n",
      "\u001b[1;31mValueError\u001b[0m: cannot reshape array of size 0 into shape (1,256)"
     ]
    }
   ],
   "source": [
    "make_prediction(model=loaded_model, preprocessed_sentence=pad_sequences(tokenizer.texts_to_sequences([test_data['data'][2]])), id2word=id2word, id2tag=id2tag)[1][0]"
   ]
  },
  {
   "cell_type": "code",
   "execution_count": 238,
   "metadata": {},
   "outputs": [
    {
     "data": {
      "text/plain": [
       "array([], shape=(1, 0), dtype=int32)"
      ]
     },
     "execution_count": 238,
     "metadata": {},
     "output_type": "execute_result"
    }
   ],
   "source": [
    "pad_sequences(tokenizer.texts_to_sequences([test_data['data'][3]]))"
   ]
  },
  {
   "cell_type": "code",
   "execution_count": 211,
   "metadata": {},
   "outputs": [
    {
     "data": {
      "text/html": [
       "<div>\n",
       "<style scoped>\n",
       "    .dataframe tbody tr th:only-of-type {\n",
       "        vertical-align: middle;\n",
       "    }\n",
       "\n",
       "    .dataframe tbody tr th {\n",
       "        vertical-align: top;\n",
       "    }\n",
       "\n",
       "    .dataframe thead th {\n",
       "        text-align: right;\n",
       "    }\n",
       "</style>\n",
       "<table border=\"1\" class=\"dataframe\">\n",
       "  <thead>\n",
       "    <tr style=\"text-align: right;\">\n",
       "      <th></th>\n",
       "      <th>data</th>\n",
       "      <th>label</th>\n",
       "    </tr>\n",
       "  </thead>\n",
       "  <tbody>\n",
       "    <tr>\n",
       "      <th>0</th>\n",
       "      <td>RUGBY</td>\n",
       "      <td>O</td>\n",
       "    </tr>\n",
       "    <tr>\n",
       "      <th>1</th>\n",
       "      <td>UNION</td>\n",
       "      <td>O</td>\n",
       "    </tr>\n",
       "    <tr>\n",
       "      <th>2</th>\n",
       "      <td>-</td>\n",
       "      <td>O</td>\n",
       "    </tr>\n",
       "    <tr>\n",
       "      <th>3</th>\n",
       "      <td>CUTTITTA</td>\n",
       "      <td>O</td>\n",
       "    </tr>\n",
       "    <tr>\n",
       "      <th>4</th>\n",
       "      <td>BACK</td>\n",
       "      <td>O</td>\n",
       "    </tr>\n",
       "    <tr>\n",
       "      <th>...</th>\n",
       "      <td>...</td>\n",
       "      <td>...</td>\n",
       "    </tr>\n",
       "    <tr>\n",
       "      <th>49296</th>\n",
       "      <td>3</td>\n",
       "      <td>O</td>\n",
       "    </tr>\n",
       "    <tr>\n",
       "      <th>49297</th>\n",
       "      <td>11</td>\n",
       "      <td>O</td>\n",
       "    </tr>\n",
       "    <tr>\n",
       "      <th>49298</th>\n",
       "      <td>8</td>\n",
       "      <td>O</td>\n",
       "    </tr>\n",
       "    <tr>\n",
       "      <th>49299</th>\n",
       "      <td>30</td>\n",
       "      <td>O</td>\n",
       "    </tr>\n",
       "    <tr>\n",
       "      <th>49300</th>\n",
       "      <td>6</td>\n",
       "      <td>O</td>\n",
       "    </tr>\n",
       "  </tbody>\n",
       "</table>\n",
       "<p>49301 rows × 2 columns</p>\n",
       "</div>"
      ],
      "text/plain": [
       "            data label\n",
       "0         RUGBY      O\n",
       "1         UNION      O\n",
       "2             -      O\n",
       "3      CUTTITTA      O\n",
       "4          BACK      O\n",
       "...          ...   ...\n",
       "49296         3      O\n",
       "49297        11      O\n",
       "49298         8      O\n",
       "49299        30      O\n",
       "49300         6      O\n",
       "\n",
       "[49301 rows x 2 columns]"
      ]
     },
     "execution_count": 211,
     "metadata": {},
     "output_type": "execute_result"
    }
   ],
   "source": [
    "test_data"
   ]
  },
  {
   "cell_type": "code",
   "execution_count": 212,
   "metadata": {},
   "outputs": [],
   "source": [
    "y_test_d_predictions = test_data['label'].values"
   ]
  },
  {
   "cell_type": "code",
   "execution_count": 213,
   "metadata": {},
   "outputs": [
    {
     "name": "stdout",
     "output_type": "stream",
     "text": [
      "Array has been written to output_nnn.csv\n"
     ]
    }
   ],
   "source": [
    "import numpy as np\n",
    "import csv\n",
    "\n",
    "csv_file_path = 'output_nnn.csv'\n",
    "\n",
    "with open(csv_file_path, 'w', newline='') as csvfile:\n",
    "    csvwriter = csv.writer(csvfile)\n",
    "    for item in y_test_d_predictions:\n",
    "        csvwriter.writerow([item])\n",
    "\n",
    "print(f\"Array has been written to {csv_file_path}\")"
   ]
  },
  {
   "cell_type": "code",
   "execution_count": 214,
   "metadata": {},
   "outputs": [
    {
     "name": "stdout",
     "output_type": "stream",
     "text": [
      "output_nnn.csv has been zipped to output_nnn.csv.zip\n"
     ]
    }
   ],
   "source": [
    "import zipfile\n",
    "\n",
    "csv_file_path = 'output_nnn.csv'\n",
    "zip_file_path = 'output_nnn.csv.zip'\n",
    "\n",
    "# Create a Zip file and add the CSV file to it\n",
    "with zipfile.ZipFile(zip_file_path, 'w', zipfile.ZIP_DEFLATED) as zipf:\n",
    "    zipf.write(csv_file_path, arcname='output_nnn.csv')\n",
    "\n",
    "print(f\"{csv_file_path} has been zipped to {zip_file_path}\")"
   ]
  }
 ],
 "metadata": {
  "kaggle": {
   "accelerator": "gpu",
   "dataSources": [
    {
     "datasetId": 1014,
     "sourceId": 4361,
     "sourceType": "datasetVersion"
    },
    {
     "datasetId": 1861688,
     "sourceId": 3043695,
     "sourceType": "datasetVersion"
    }
   ],
   "dockerImageVersionId": 30152,
   "isGpuEnabled": true,
   "isInternetEnabled": false,
   "language": "python",
   "sourceType": "notebook"
  },
  "kernelspec": {
   "display_name": "Python 3 (ipykernel)",
   "language": "python",
   "name": "python3"
  },
  "language_info": {
   "codemirror_mode": {
    "name": "ipython",
    "version": 3
   },
   "file_extension": ".py",
   "mimetype": "text/x-python",
   "name": "python",
   "nbconvert_exporter": "python",
   "pygments_lexer": "ipython3",
   "version": "3.10.11"
  }
 },
 "nbformat": 4,
 "nbformat_minor": 4
}
